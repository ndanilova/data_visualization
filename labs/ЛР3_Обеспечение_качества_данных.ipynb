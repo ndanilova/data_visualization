{
  "nbformat": 4,
  "nbformat_minor": 0,
  "metadata": {
    "colab": {
      "provenance": [],
      "toc_visible": true,
      "include_colab_link": true
    },
    "kernelspec": {
      "name": "python3",
      "display_name": "Python 3"
    },
    "language_info": {
      "name": "python"
    }
  },
  "cells": [
    {
      "cell_type": "markdown",
      "metadata": {
        "id": "view-in-github",
        "colab_type": "text"
      },
      "source": [
        "<a href=\"https://colab.research.google.com/github/ndanilova/data_visualization/blob/main/labs/%D0%9B%D0%A03_%D0%9E%D0%B1%D0%B5%D1%81%D0%BF%D0%B5%D1%87%D0%B5%D0%BD%D0%B8%D0%B5_%D0%BA%D0%B0%D1%87%D0%B5%D1%81%D1%82%D0%B2%D0%B0_%D0%B4%D0%B0%D0%BD%D0%BD%D1%8B%D1%85.ipynb\" target=\"_parent\"><img src=\"https://colab.research.google.com/assets/colab-badge.svg\" alt=\"Open In Colab\"/></a>"
      ]
    },
    {
      "cell_type": "markdown",
      "source": [
        "# Постановка задачи\n"
      ],
      "metadata": {
        "id": "Mx1V6rkZLGNJ"
      }
    },
    {
      "cell_type": "markdown",
      "source": [
        "**Цель работы:** исследование и обработка данных для повышения их качества.\n",
        "\n",
        "**Краткое описание:** в лабораторной работе приводится поэтапный план изучения и обработки намеренно не предобработанных данных. Необходимо выполнить все этапы плана и оценить результаты преобразований."
      ],
      "metadata": {
        "id": "BPzgy4tKLP-x"
      }
    },
    {
      "cell_type": "markdown",
      "metadata": {
        "id": "xjvL0IIG8Jd0"
      },
      "source": [
        "# Данные\n"
      ]
    },
    {
      "cell_type": "markdown",
      "metadata": {
        "id": "oP3lX9xC8Jd8"
      },
      "source": [
        "\n",
        "В папке [Data/lab3](https://drive.google.com/drive/folders/1437z7m5Ut4WUJOhJg1oZz13dtBpxgFKs?usp=share_link) расположена таблица `monster_com_job_sample.com` с данными о вакансиях. Также эти данные с описанием и примерами обработки можно найти на [kaggle](https://www.kaggle.com/code/ankkur13/perfect-dataset-to-get-the-hands-dirty/data#).\n",
        "\n",
        "##### **Формат данных**\n",
        "\n",
        "```\n",
        "country,country_code,date_added,has_expired,job_board,job_description,job_title,job_type,location,organization,page_url,salary,sector,uniq_id\n",
        "United States of America,US,\"\",No,jobs.monster.com,\"TeamSoft is seeing an IT Support Specialist to join our client in Madison, WI. The ideal candidate must have at least 6 years of experience in the field. They need to be familiar with a variety of the field's concepts, practices, and procedures as this position relies on extensive experience and judgment to plan and accomplish goals. Required Skills:вАҐ Call tracking softwareвАҐ Phone based technical supportвАҐ Problem documentation and communicationвАҐ Remote Desktop Management ToolsвАҐ Respond to customer requestsвАҐ General understanding of LANDeskвАҐ Microsoft Office 2007 SuiteFind out why TeamSoft is the Madison area's technology leader with over 200 IT consultants. Owned, operated, and managed by IT consultants, TeamSoft is the clear choice for your career. Join the TeamSoft family today!Did you know?вАҐ TeamSoft offers salaried options for many positions that include 5 weeks PTO and great benefits!вАҐ TeamSoft has been in business since 1996вАҐ TeamSoft's owners are local IT professionals who possess a wealth of experience in application development, business analysis, and project managementвАҐ TeamSoft's Recruiters are knowledgeable, friendly, and ready to help you make your next great career moveвАҐ TeamSoft offers a full benefits suite to all of our W2 consultants, including a 401k plan with a 100% vested 4% dollar for dollar matchвАҐ Our targeted selection process is designed to get to know your strengths and career interests and provide you with the best chance for success in your new positionвАҐ Our longest running consultant has been with us for 16 yearsвАҐ Consultants can participate in our charitable giving committee. To date, TeamSoft's charitable giving committee has donated over $100,000!TeamSoft is owned by local IT professionals. Our team also has deep experience with IT staffing. Our clients understand this and rely on our expertise. That is why TeamSoft is the Madison Area's largest privately owned IT consulting firm, with more than 200 current consultants! With over 50 active clients, TeamSoft will give you the greatest exposure to the widest range of IT careers.Our owners possess a combined 60+ years of IT consulting experience. Our recruiting and Account Management staff are very well-versed in our client markets. We get you. We know you. We know what you do every day. And we know what you deal with on the job.You take your career seriously and so do we. At TeamSoft you are not just a resume or number. Our goal is to create long-term partnerships with each of our consultants, and according to feedback from many of them, we are very good at this. Click HERE to see what our consultants have to say about working with TeamSoft.TeamSoft -- Promote yourself!TeamSoft is an equal employment opportunity employer functioning under an Affirmative Action Plan.\",IT Support Technician Job in Madison,Full Time Employee,\"Madison, WI 53702\",\"\",http://jobview.monster.com/it-support-technician-job-madison-wi-us-167855963.aspx?mescoid=1500134001001&jobPosition=20,\"\",IT/Software Development,11d599f229a80023d2f40e7c52cd941e\n",
        "United States of America,US,\"\",No,jobs.monster.com,\"The Wisconsin State Journal is seeking a flexible and motivated reporter/editor to lead its three-person business desk. WeвАЩre looking for an experienced journalist able to spot trends, be a watchdog and reflect the Madison areaвАЩs vibrant entrepreneurial community. This is a hybrid reporting and editing position that calls for a fleet-footed, multimedia storyteller able to maximize the newspaperвАЩs online presentation while also editing two sections a week. Candidates must have strong news judgment, be well versed in business news and trends and be able to quickly prioritize coverage.At least five yearsвАЩ experience reporting or editing for digital and print platforms desired. To be considered for the position, applicants must apply online.¬†As part of your online application, please attach five samples of your work or links to five recent stories.Wisconsin State Journal, 1901 Fish Hatchery Road, Madison, WI 53713Affirmative Action/Equal Opportunity Employer/Pre-employment drug testing appliesPI94338362Apply Here\",Business Reporter/Editor Job in Madison,Full Time,\"Madison, WI 53708\",Printing and Publishing,http://jobview.monster.com/business-reporter-editor-job-madison-wi-us-167830105.aspx?mescoid=2700437001001&jobPosition=7,\"\",\"\",e4cbb126dabf22159aff90223243ff2a\n",
        "...\n",
        "```"
      ]
    },
    {
      "cell_type": "markdown",
      "source": [
        "##### **Описание полей**\n",
        " - ```country``` — наименование страны;\n",
        " - ```country_code``` — код страны;\n",
        " - ```date_added``` — дата размещения вакансии;\n",
        " - ```has_expired``` — актуальность вакансии;\n",
        " - ```job_board``` — агрегатор вакансий, с которого собраны данные;\n",
        " - ```job_description``` — описание вакансии;\n",
        " - ```job_title``` — наименование должности;\n",
        " - ```job_type``` — вид занятости;\n",
        " - ```location``` — метоположение организации;\n",
        " - ```organization``` — наименование организации;\n",
        " - ```page_url``` — ссылка на страницу с вакансией;\n",
        " - ```salary``` — заработная плата;\n",
        " - ```sector``` — сфера деятельности;\n",
        " - ```uniq_id``` — уникальный идентификатор записи о вакансии."
      ],
      "metadata": {
        "id": "6lEBcXdWuhD3"
      }
    },
    {
      "cell_type": "markdown",
      "source": [
        "# Понимание данных"
      ],
      "metadata": {
        "id": "SA63ZXNBkUde"
      }
    },
    {
      "cell_type": "code",
      "execution_count": 8,
      "metadata": {
        "id": "eZIcPcPutJ7k",
        "colab": {
          "base_uri": "https://localhost:8080/",
          "height": 73
        },
        "outputId": "a6adb8d6-be02-4092-f0e6-47fa8e3dcb52"
      },
      "outputs": [
        {
          "output_type": "display_data",
          "data": {
            "text/plain": [
              "<IPython.core.display.HTML object>"
            ],
            "text/html": [
              "\n",
              "     <input type=\"file\" id=\"files-8a37438a-180d-4ca0-bad8-f89f4b680cca\" name=\"files[]\" multiple disabled\n",
              "        style=\"border:none\" />\n",
              "     <output id=\"result-8a37438a-180d-4ca0-bad8-f89f4b680cca\">\n",
              "      Upload widget is only available when the cell has been executed in the\n",
              "      current browser session. Please rerun this cell to enable.\n",
              "      </output>\n",
              "      <script>// Copyright 2017 Google LLC\n",
              "//\n",
              "// Licensed under the Apache License, Version 2.0 (the \"License\");\n",
              "// you may not use this file except in compliance with the License.\n",
              "// You may obtain a copy of the License at\n",
              "//\n",
              "//      http://www.apache.org/licenses/LICENSE-2.0\n",
              "//\n",
              "// Unless required by applicable law or agreed to in writing, software\n",
              "// distributed under the License is distributed on an \"AS IS\" BASIS,\n",
              "// WITHOUT WARRANTIES OR CONDITIONS OF ANY KIND, either express or implied.\n",
              "// See the License for the specific language governing permissions and\n",
              "// limitations under the License.\n",
              "\n",
              "/**\n",
              " * @fileoverview Helpers for google.colab Python module.\n",
              " */\n",
              "(function(scope) {\n",
              "function span(text, styleAttributes = {}) {\n",
              "  const element = document.createElement('span');\n",
              "  element.textContent = text;\n",
              "  for (const key of Object.keys(styleAttributes)) {\n",
              "    element.style[key] = styleAttributes[key];\n",
              "  }\n",
              "  return element;\n",
              "}\n",
              "\n",
              "// Max number of bytes which will be uploaded at a time.\n",
              "const MAX_PAYLOAD_SIZE = 100 * 1024;\n",
              "\n",
              "function _uploadFiles(inputId, outputId) {\n",
              "  const steps = uploadFilesStep(inputId, outputId);\n",
              "  const outputElement = document.getElementById(outputId);\n",
              "  // Cache steps on the outputElement to make it available for the next call\n",
              "  // to uploadFilesContinue from Python.\n",
              "  outputElement.steps = steps;\n",
              "\n",
              "  return _uploadFilesContinue(outputId);\n",
              "}\n",
              "\n",
              "// This is roughly an async generator (not supported in the browser yet),\n",
              "// where there are multiple asynchronous steps and the Python side is going\n",
              "// to poll for completion of each step.\n",
              "// This uses a Promise to block the python side on completion of each step,\n",
              "// then passes the result of the previous step as the input to the next step.\n",
              "function _uploadFilesContinue(outputId) {\n",
              "  const outputElement = document.getElementById(outputId);\n",
              "  const steps = outputElement.steps;\n",
              "\n",
              "  const next = steps.next(outputElement.lastPromiseValue);\n",
              "  return Promise.resolve(next.value.promise).then((value) => {\n",
              "    // Cache the last promise value to make it available to the next\n",
              "    // step of the generator.\n",
              "    outputElement.lastPromiseValue = value;\n",
              "    return next.value.response;\n",
              "  });\n",
              "}\n",
              "\n",
              "/**\n",
              " * Generator function which is called between each async step of the upload\n",
              " * process.\n",
              " * @param {string} inputId Element ID of the input file picker element.\n",
              " * @param {string} outputId Element ID of the output display.\n",
              " * @return {!Iterable<!Object>} Iterable of next steps.\n",
              " */\n",
              "function* uploadFilesStep(inputId, outputId) {\n",
              "  const inputElement = document.getElementById(inputId);\n",
              "  inputElement.disabled = false;\n",
              "\n",
              "  const outputElement = document.getElementById(outputId);\n",
              "  outputElement.innerHTML = '';\n",
              "\n",
              "  const pickedPromise = new Promise((resolve) => {\n",
              "    inputElement.addEventListener('change', (e) => {\n",
              "      resolve(e.target.files);\n",
              "    });\n",
              "  });\n",
              "\n",
              "  const cancel = document.createElement('button');\n",
              "  inputElement.parentElement.appendChild(cancel);\n",
              "  cancel.textContent = 'Cancel upload';\n",
              "  const cancelPromise = new Promise((resolve) => {\n",
              "    cancel.onclick = () => {\n",
              "      resolve(null);\n",
              "    };\n",
              "  });\n",
              "\n",
              "  // Wait for the user to pick the files.\n",
              "  const files = yield {\n",
              "    promise: Promise.race([pickedPromise, cancelPromise]),\n",
              "    response: {\n",
              "      action: 'starting',\n",
              "    }\n",
              "  };\n",
              "\n",
              "  cancel.remove();\n",
              "\n",
              "  // Disable the input element since further picks are not allowed.\n",
              "  inputElement.disabled = true;\n",
              "\n",
              "  if (!files) {\n",
              "    return {\n",
              "      response: {\n",
              "        action: 'complete',\n",
              "      }\n",
              "    };\n",
              "  }\n",
              "\n",
              "  for (const file of files) {\n",
              "    const li = document.createElement('li');\n",
              "    li.append(span(file.name, {fontWeight: 'bold'}));\n",
              "    li.append(span(\n",
              "        `(${file.type || 'n/a'}) - ${file.size} bytes, ` +\n",
              "        `last modified: ${\n",
              "            file.lastModifiedDate ? file.lastModifiedDate.toLocaleDateString() :\n",
              "                                    'n/a'} - `));\n",
              "    const percent = span('0% done');\n",
              "    li.appendChild(percent);\n",
              "\n",
              "    outputElement.appendChild(li);\n",
              "\n",
              "    const fileDataPromise = new Promise((resolve) => {\n",
              "      const reader = new FileReader();\n",
              "      reader.onload = (e) => {\n",
              "        resolve(e.target.result);\n",
              "      };\n",
              "      reader.readAsArrayBuffer(file);\n",
              "    });\n",
              "    // Wait for the data to be ready.\n",
              "    let fileData = yield {\n",
              "      promise: fileDataPromise,\n",
              "      response: {\n",
              "        action: 'continue',\n",
              "      }\n",
              "    };\n",
              "\n",
              "    // Use a chunked sending to avoid message size limits. See b/62115660.\n",
              "    let position = 0;\n",
              "    do {\n",
              "      const length = Math.min(fileData.byteLength - position, MAX_PAYLOAD_SIZE);\n",
              "      const chunk = new Uint8Array(fileData, position, length);\n",
              "      position += length;\n",
              "\n",
              "      const base64 = btoa(String.fromCharCode.apply(null, chunk));\n",
              "      yield {\n",
              "        response: {\n",
              "          action: 'append',\n",
              "          file: file.name,\n",
              "          data: base64,\n",
              "        },\n",
              "      };\n",
              "\n",
              "      let percentDone = fileData.byteLength === 0 ?\n",
              "          100 :\n",
              "          Math.round((position / fileData.byteLength) * 100);\n",
              "      percent.textContent = `${percentDone}% done`;\n",
              "\n",
              "    } while (position < fileData.byteLength);\n",
              "  }\n",
              "\n",
              "  // All done.\n",
              "  yield {\n",
              "    response: {\n",
              "      action: 'complete',\n",
              "    }\n",
              "  };\n",
              "}\n",
              "\n",
              "scope.google = scope.google || {};\n",
              "scope.google.colab = scope.google.colab || {};\n",
              "scope.google.colab._files = {\n",
              "  _uploadFiles,\n",
              "  _uploadFilesContinue,\n",
              "};\n",
              "})(self);\n",
              "</script> "
            ]
          },
          "metadata": {}
        },
        {
          "output_type": "stream",
          "name": "stdout",
          "text": [
            "Saving monster_com_job_sample.csv to monster_com_job_sample (1).csv\n"
          ]
        }
      ],
      "source": [
        "import re\n",
        "import numpy as np\n",
        "import pandas as pd\n",
        "import missingno as msno\n",
        "from matplotlib import pyplot as plt\n",
        "import seaborn as sns\n",
        "from google.colab import files\n",
        "\n",
        "uploaded = files.upload()"
      ]
    },
    {
      "cell_type": "markdown",
      "source": [
        "В датасете есть несколько столбцов, в каждой ячейке которых записано одно и то же значение. Есть столбцы, в которых формат записи значений не стандартизирован. А есть такие, где указана информация, не соответствующая названию столбца.\n",
        "\n",
        "**Первый этап изучения данных** – понять, какие основные проблемы предстоит решить для каждого из столбцов. Для этого загрузите датасет и выведите случайные несколько строк из него. Постарайтесь понять, что из себя представляют данные в столбцах."
      ],
      "metadata": {
        "id": "Fy8Z7sNYyJdO"
      }
    },
    {
      "cell_type": "code",
      "source": [
        "df = pd.read_csv(\"monster_com_job_sample.csv\", encoding=\"utf-8\", on_bad_lines=\"skip\")\n",
        "# random 5 rows\n",
        "print(df.sample(5))\n",
        "print('\\n------------------------NEXT------------------------\\n')\n",
        "# first 5 rows\n",
        "print(df.head(5))"
      ],
      "metadata": {
        "id": "Pg3YapMnEEDH"
      },
      "execution_count": null,
      "outputs": []
    },
    {
      "cell_type": "markdown",
      "source": [
        "**Задание**\n",
        "\n",
        "Составьте таблицу, в которой будет содержаться название столбца, тип данных в нем и краткое описание проблем, которые вы заметили при первом взгляде на данные.\n",
        "\n",
        "\n",
        "Название столбца | Тип данных | Проблемы\n",
        "--- | --- | ---\n",
        "```country``` |\n",
        "```country_code``` |\n",
        "```date_added``` |\n",
        "```has_expired``` |\n",
        "```job_board``` |\n",
        "```job_description``` |\n",
        "```job_title``` |\n",
        "```job_type``` |\n",
        "```location``` |\n",
        "```organization``` |\n",
        "```page_url``` |\n",
        "```salary``` |\n",
        "```sector``` |\n",
        "```uniq_id``` |"
      ],
      "metadata": {
        "id": "YLByumEvRyO2"
      }
    },
    {
      "cell_type": "markdown",
      "source": [
        "### Оценка пустых ячеек в датасете"
      ],
      "metadata": {
        "id": "iUV-fNE6Js4w"
      }
    },
    {
      "cell_type": "markdown",
      "source": [
        "Выясните, в каких столбцах, строках и в каком количестве отсутствуют данные:\n",
        "1. С помощью модуля `pandas` составьте таблицу, где каждому названию столбца будет сопоставлено общее количество ячеек и количество пустых ячеек.\n",
        "2. Подсчитайте количество строк датасета, в которых пустыми являются более 75% ячеек.\n",
        "3. Визуализируйте число пропусков в датасете с помощью модуля, построив столбчатую диаграмму. Для удобства можно воспользоваться модулем `missingno`.\n"
      ],
      "metadata": {
        "id": "qMPChGv8SO2a"
      }
    },
    {
      "cell_type": "code",
      "source": [
        "# PUT YOUR CODE HERE"
      ],
      "metadata": {
        "id": "D0dHrjUYHl9f"
      },
      "execution_count": null,
      "outputs": []
    },
    {
      "cell_type": "markdown",
      "source": [
        "Проверьте, как изменится размер датасета, если принять решение удалить все строки, где есть пустые значения. Сделайте выводы."
      ],
      "metadata": {
        "id": "7_wex_yPS2t_"
      }
    },
    {
      "cell_type": "code",
      "source": [
        "# PUT YOUR CODE HERE"
      ],
      "metadata": {
        "id": "H2anBRV8NezM"
      },
      "execution_count": null,
      "outputs": []
    },
    {
      "cell_type": "markdown",
      "source": [
        "### Первичная оценка данных в столбцах"
      ],
      "metadata": {
        "id": "msyy7idiKbax"
      }
    },
    {
      "cell_type": "markdown",
      "source": [
        "Изучите данные в столбцах датасета, ответив на следующие вопросы:\n",
        "1. Есть ли столбцы, в которых встречается всего одно значение? Как их можно использовать в анализе?\n",
        "2. Есть ли такие значения, которые встречаются более чем в одном столбце?\n",
        "3. Есть ли столбцы, данные в которых не соответствуют названию столбца?"
      ],
      "metadata": {
        "id": "1Vx9OuX_TcVy"
      }
    },
    {
      "cell_type": "code",
      "source": [
        "# PUT YOUR CODE HERE"
      ],
      "metadata": {
        "id": "AxBO7ljdKgO5"
      },
      "execution_count": null,
      "outputs": []
    },
    {
      "cell_type": "markdown",
      "source": [
        "### Дублирование данных"
      ],
      "metadata": {
        "id": "AnlzCkfNL9Zp"
      }
    },
    {
      "cell_type": "markdown",
      "source": [
        "Для поиска дублирующихся строк выполните следующие действия:\n",
        "1. В таблице есть столбец `uniq_id`, значения которого, как сказано в описании данных, являются уникальными идентификаторами записей. Проверьте, действительно ли в этом столбце все значения различны.\n",
        "2. Проверьте, есть ли в таблице другие столбцы, значения которых в каждой строке различны.\n",
        "3. Если игнорировать столбцы, где все значения различны, найдутся ли такие строки, для которых значения по всем остальным столбцам будут совпадать?\n",
        "\n",
        "Оцените результаты поиска дубликатов."
      ],
      "metadata": {
        "id": "o5ee6oWjUPrt"
      }
    },
    {
      "cell_type": "code",
      "source": [
        "# PUT YOUR CODE HERE"
      ],
      "metadata": {
        "id": "xdOZaPBXNO-4"
      },
      "execution_count": null,
      "outputs": []
    },
    {
      "cell_type": "markdown",
      "source": [
        "# Практические задания"
      ],
      "metadata": {
        "id": "KfnT9b7KkbGV"
      }
    },
    {
      "cell_type": "markdown",
      "source": [
        "В этом разделе необходимо обработать значения в трех столбцах датасета: `location`, `salary` и `job_type`. Цель обработки – стандартизировать данные в каждом из столбцов так, чтобы их можно было анализировать."
      ],
      "metadata": {
        "id": "mLi_dNBw7vYH"
      }
    },
    {
      "cell_type": "markdown",
      "source": [
        "### Задание 1\n",
        "\n",
        "В задании 1 необходимо провести обработку столбца `location`."
      ],
      "metadata": {
        "id": "bysSIV-E6Qo2"
      }
    },
    {
      "cell_type": "markdown",
      "source": [
        "#### Задание 1.1\n",
        "\n",
        "В столбце `location` представлена информация о местоположении организации, в которой открыта вакансия. Каждое значение столбца `location` содержит информацию о городе, коде штата и почтовом индексе.\n",
        "\n",
        "Однако не в каждой строке есть все три характеристики местоположения, а также могут встречаться разные комбинации из них, записанные в виде строки в произвольном порядке и с разными разделителями.\n",
        "\n",
        "Например, может быть указан только код штата, только название города или только индекс. Могут быть указаны любые две характеристики из трех.\n",
        "\n",
        "**Формулировка задания:**\n",
        "1. Определите, какие форматы встречаются.\n",
        "2. Напишите одно или несколько регулярных выражений для поиска выявленных форматов.\n",
        "3. Визуализируйте количество найденных форматов на столбчатой или круговой диаграмме. Также покажите на ней количество строк, в которых формат определить не удалось. Какие форматы встречаются чаще всего?\n",
        "\n",
        "Ознакомиться с теоретическим материалом по работе с регулярными выражениями можно [по ссылке](https://colab.research.google.com/drive/1eFHdmt9OROLEDJRNc2wNmz0gpE1O3sKU?usp=sharing)."
      ],
      "metadata": {
        "id": "XFGxe_V0-RJH"
      }
    },
    {
      "cell_type": "code",
      "source": [
        "# PUT YOUR CODE HERE"
      ],
      "metadata": {
        "id": "cn1chn2Y7MFK"
      },
      "execution_count": null,
      "outputs": []
    },
    {
      "cell_type": "markdown",
      "source": [
        "#### Задание 1.2\n",
        "\n",
        "В большей части строк удалось извлечь данные из ячейки столбца `location`, но остались и такие, где это не получилось. Вынесите в отдельный датасет записи, в которых не удалось определить формат записи информации о местоположении.\n",
        "\n",
        "Над оставшимися строками проведите следующие преобразования:\n",
        "1. Данные о местоположении разделите на 3 столбца: город, код штата, почтовый индекс.\n",
        "2. Так как значения в столбце `почтовый индекс` являются пятизначными числами, преобразуйте их в целочисленный формат."
      ],
      "metadata": {
        "id": "F3U7JkFM_OvP"
      }
    },
    {
      "cell_type": "code",
      "source": [
        "# PUT YOUR CODE HERE"
      ],
      "metadata": {
        "id": "Jhfk2VbV86Wi"
      },
      "execution_count": null,
      "outputs": []
    },
    {
      "cell_type": "markdown",
      "source": [
        "Рассмотрите отложенную часть выборки (ту, где не удалось данные из столбца `location` разделить на три поля) и сделайте выводы о возможности извлечь из данных город, код штата и почтовый индекс. Извлеките все, что возможно. Что невозможно – оставьте пустым."
      ],
      "metadata": {
        "id": "aXtr78WJ_cyH"
      }
    },
    {
      "cell_type": "code",
      "source": [
        "# PUT YOUR CODE HERE"
      ],
      "metadata": {
        "id": "q4S6RjAR_rk-"
      },
      "execution_count": null,
      "outputs": []
    },
    {
      "cell_type": "markdown",
      "source": [
        "### Задание 2\n",
        "\n",
        "В задании 2 необходимо провести обработку столбца `salary`."
      ],
      "metadata": {
        "id": "jnaCe7umCrCM"
      }
    },
    {
      "cell_type": "markdown",
      "source": [
        "#### Задание 2.1\n",
        "\n",
        "В столбце `salary`, как и в `location`, данные не стандатизированы. В нем в основном можно встретить записи в следующих форматах:\n",
        "\n",
        "* 10.00 - 20.00 &dollar; &sol;hour\n",
        "* 10,000.00 - 20,000.00 &dollar; &sol;year\n",
        "* &dollar;10.00 &sol;hour\n",
        "* &dollar;10,000.00+ &sol;year\n",
        "* Up to &dollar;20,000.00\n",
        "\n",
        "Основные проблемы, которые стоит учесть при обработке форматов:\n",
        "- В каждом из форматов может быть или не быть знака доллара.\n",
        "- Может отсутствовать информация о периоде, за который указывается зарплата (`/hour` или `/year` в примерах).\n",
        "- Зарплата может быть указана за месяц (`/month`) и за неделю (`/week`).\n",
        "- В начале, конце и середине некоторых строк есть лишние пробелы, которые не стоит учитывать.\n",
        "\n",
        "**Задание:**\n",
        "1. Определите весь перечень встречающихся форматов и напишите одно или несколько регулярных выражений для их поиска.\n",
        "2. Покажите на столбчатой диаграмме количество записей, содержащих каждый из форматов. Сделайте выводы."
      ],
      "metadata": {
        "id": "pODtqlog_v7l"
      }
    },
    {
      "cell_type": "code",
      "source": [
        "# PUT YOUR CODE HERE"
      ],
      "metadata": {
        "id": "62JbulyKA7kS"
      },
      "execution_count": null,
      "outputs": []
    },
    {
      "cell_type": "markdown",
      "source": [
        "#### Задание 2.2\n",
        "\n",
        "1. Разделите столбец `salary` зарплаты три: `минимальная граница зарплаты`, `максимальная граница зарплаты`, `период`. Если значение суммы указано только одно, считайте, что это минимальная зарплата. Значение суммы в обоих столбцах преобразуйте в формат `float`.\n",
        "2. Покажите на столбчатой диаграмме с группировкой среднюю и медианную минимальную зарплату в каждом периоде. Сделайте выводы."
      ],
      "metadata": {
        "id": "HcDjkOO2MZB2"
      }
    },
    {
      "cell_type": "code",
      "source": [
        "# PUT YOUR CODE HERE"
      ],
      "metadata": {
        "id": "Sv7hqH6vBKXt"
      },
      "execution_count": null,
      "outputs": []
    },
    {
      "cell_type": "markdown",
      "source": [
        "#### Задание 2.3\n",
        "\n",
        "Как было отмечено в задании 2.1, период, за который указывается зарплата, может отсутствовать. Восполните этот пробел в данных следующим образом:\n",
        "\n",
        "1. Определите диапазон изменения (разброс) значений денежной суммы за каждый из встречающихся в данных периодов. Постройте гистограмму для каждого периода.\n",
        "2. Определите, к среднему значению за какой период ближе всего сумма, у которой период не указан. Укажите для найденный период. В спорных случаях, где сумма одинаково близка к нескольким диапазонам, не выбирайте ничего."
      ],
      "metadata": {
        "id": "3qwRlgzGC-To"
      }
    },
    {
      "cell_type": "code",
      "source": [
        "# PUT YOUR CODE HERE"
      ],
      "metadata": {
        "id": "FnhxSKfkAgbS"
      },
      "execution_count": null,
      "outputs": []
    },
    {
      "cell_type": "markdown",
      "source": [
        "### Задание 3\n",
        "\n",
        "В задании 3 необходимо провести обработку столбца `job_type`. Выясните, какие форматы значений есть в столбце `job_type`. Сделайте выводы. При необходимости – стройте графики."
      ],
      "metadata": {
        "id": "cQZa1dUvXPZc"
      }
    },
    {
      "cell_type": "code",
      "source": [
        "# PUT YOUR CODE HERE"
      ],
      "metadata": {
        "id": "PbFXp8J6BN--"
      },
      "execution_count": null,
      "outputs": []
    },
    {
      "cell_type": "markdown",
      "source": [
        "Вы заметили, что многие значения фактически одинаковые, но немного по-разному отформатированы? Приведем их к единому формату."
      ],
      "metadata": {
        "id": "CpUXRxhoXsdy"
      }
    },
    {
      "cell_type": "code",
      "source": [
        "# PUT YOUR CODE HERE"
      ],
      "metadata": {
        "id": "ejRYjjC7WIES"
      },
      "execution_count": null,
      "outputs": []
    },
    {
      "cell_type": "markdown",
      "source": [
        "Столбец `job_type` состоит из двух частей: \"полнота\" занятости (`Full Time`, `Part Time`, `Per Diem`) и \"тип\" занятости (`Employee`, `Intern`). Кроме того, встречаются и неполные записи.\n",
        "\n",
        "Задание:\n",
        "1. Написать одно или несколько регулярных выражений для разделения столбца `job_type` на два: `полнота занятости`, `тип занятости`.\n",
        "2. Если данные о полноте отсутствуют, внесите значение `Full Time`.\n",
        "Если отсутствуют данные о типе – внесите `Employee`.\n",
        "3. Постройте столбчатую диаграмму со стековой группировкой для полноты и типа занятости. Сделайте выводы."
      ],
      "metadata": {
        "id": "3dTDSMR8dTI8"
      }
    },
    {
      "cell_type": "code",
      "source": [
        "# PUT YOUR CODE HERE"
      ],
      "metadata": {
        "id": "gW7GoMgkbtLx"
      },
      "execution_count": null,
      "outputs": []
    },
    {
      "cell_type": "markdown",
      "source": [
        "# Порядок защиты работы"
      ],
      "metadata": {
        "id": "kNKi8fn1X0Qa"
      }
    },
    {
      "cell_type": "markdown",
      "source": [
        "**Для защиты работы необходимо:**\n",
        "1. Предоставить результаты выполнения всех заданий в виде ссылки на Google Colab.\n",
        "2. Выполнить дополнительное задание в процессе сдачи работы. Дополнительное задание представляет собой решение задачи на обработку данных лабораторной работы, меньшее по объему, но сопоставимое по сложности тем заданиям, которые требовалось выполнить в рамках работы.\n",
        "\n",
        "**Примеры дополнительных заданий:**\n",
        "1. В столбце `sector` часто представлены данные из столбца `organization` и наоборот. Устраните эту проблему.\n",
        "2. В столбце `job_title` часто можно частично или полностью встретить указание местоположения организации. Сравните, совпадают ли в таких случаях данные с тем, что указано в столбцах `город`, `код штата`, `почтовый индекс`. Если в этих трех столбцах данные отсутствуют, заполните их данными из столбца `job_title`.\n",
        "3. Практически во всех столбцах датасета вместо соответствующих названию данных иногда встречается текст из `job_description`. Найдите такие столбцы и записи с описанием вакансии в них. Покажите на столбчатой диаграмме, в каких столбцах и в каком количестве находится информация из столбца `job_description`."
      ],
      "metadata": {
        "id": "vNArFxJcX8uS"
      }
    },
    {
      "cell_type": "markdown",
      "source": [
        "# Дополнительные материалы"
      ],
      "metadata": {
        "id": "o5oPWAt-Z_s_"
      }
    },
    {
      "cell_type": "markdown",
      "source": [
        "1. DAMA-DMBOK: Свод знаний по управлению данными: Второе издание / DAMA International; [пер. с англ.]. – Москва: ООО \"Олимп-Бизнес\", 2021. – 828 с.\n",
        "2. Макгрегор, С. Обработка данных на Python: Data Wrangling и Data Quality: [Текст] / С. Макгрегор. – Москва: БХВ, 2024. – 432 с."
      ],
      "metadata": {
        "id": "-MwwS_lTaSGM"
      }
    }
  ]
}