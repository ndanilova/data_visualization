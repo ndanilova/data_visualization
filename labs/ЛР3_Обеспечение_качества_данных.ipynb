{
  "nbformat": 4,
  "nbformat_minor": 0,
  "metadata": {
    "colab": {
      "provenance": [],
      "toc_visible": true,
      "include_colab_link": true
    },
    "kernelspec": {
      "name": "python3",
      "display_name": "Python 3"
    },
    "language_info": {
      "name": "python"
    }
  },
  "cells": [
    {
      "cell_type": "markdown",
      "metadata": {
        "id": "view-in-github",
        "colab_type": "text"
      },
      "source": [
        "<a href=\"https://colab.research.google.com/github/ndanilova/data_visualization/blob/main/labs/%D0%9B%D0%A03_%D0%9E%D0%B1%D0%B5%D1%81%D0%BF%D0%B5%D1%87%D0%B5%D0%BD%D0%B8%D0%B5_%D0%BA%D0%B0%D1%87%D0%B5%D1%81%D1%82%D0%B2%D0%B0_%D0%B4%D0%B0%D0%BD%D0%BD%D1%8B%D1%85.ipynb\" target=\"_parent\"><img src=\"https://colab.research.google.com/assets/colab-badge.svg\" alt=\"Open In Colab\"/></a>"
      ]
    },
    {
      "cell_type": "markdown",
      "source": [
        "# Постановка задачи\n"
      ],
      "metadata": {
        "id": "Mx1V6rkZLGNJ"
      }
    },
    {
      "cell_type": "markdown",
      "source": [
        "**Цель работы:** исследование и обработка данных для повышения их качества.\n",
        "\n",
        "**Краткое описание:** в лабораторной работе приводится поэтапный план изучения и обработки намеренно не предобработанных данных. Необходимо выполнить все этапы плана и оценить результаты преобразований."
      ],
      "metadata": {
        "id": "BPzgy4tKLP-x"
      }
    },
    {
      "cell_type": "markdown",
      "metadata": {
        "id": "xjvL0IIG8Jd0"
      },
      "source": [
        "# Данные\n"
      ]
    },
    {
      "cell_type": "markdown",
      "metadata": {
        "id": "oP3lX9xC8Jd8"
      },
      "source": [
        "\n",
        "В папке [Data/lab3](https://drive.google.com/drive/folders/1437z7m5Ut4WUJOhJg1oZz13dtBpxgFKs?usp=share_link) расположена таблица `monster_com_job_sample.com` с данными о вакансиях. Также эти данные с описанием и примерами обработки можно найти на [kaggle](https://www.kaggle.com/code/ankkur13/perfect-dataset-to-get-the-hands-dirty/data#).\n",
        "\n",
        "##### **Формат данных**\n",
        "\n",
        "```\n",
        "country,country_code,date_added,has_expired,job_board,job_description,job_title,job_type,location,organization,page_url,salary,sector,uniq_id\n",
        "United States of America,US,\"\",No,jobs.monster.com,\"TeamSoft is seeing an IT Support Specialist to join our client in Madison, WI. The ideal candidate must have at least 6 years of experience in the field. They need to be familiar with a variety of the field's concepts, practices, and procedures as this position relies on extensive experience and judgment to plan and accomplish goals. Required Skills:вАҐ Call tracking softwareвАҐ Phone based technical supportвАҐ Problem documentation and communicationвАҐ Remote Desktop Management ToolsвАҐ Respond to customer requestsвАҐ General understanding of LANDeskвАҐ Microsoft Office 2007 SuiteFind out why TeamSoft is the Madison area's technology leader with over 200 IT consultants. Owned, operated, and managed by IT consultants, TeamSoft is the clear choice for your career. Join the TeamSoft family today!Did you know?вАҐ TeamSoft offers salaried options for many positions that include 5 weeks PTO and great benefits!вАҐ TeamSoft has been in business since 1996вАҐ TeamSoft's owners are local IT professionals who possess a wealth of experience in application development, business analysis, and project managementвАҐ TeamSoft's Recruiters are knowledgeable, friendly, and ready to help you make your next great career moveвАҐ TeamSoft offers a full benefits suite to all of our W2 consultants, including a 401k plan with a 100% vested 4% dollar for dollar matchвАҐ Our targeted selection process is designed to get to know your strengths and career interests and provide you with the best chance for success in your new positionвАҐ Our longest running consultant has been with us for 16 yearsвАҐ Consultants can participate in our charitable giving committee. To date, TeamSoft's charitable giving committee has donated over $100,000!TeamSoft is owned by local IT professionals. Our team also has deep experience with IT staffing. Our clients understand this and rely on our expertise. That is why TeamSoft is the Madison Area's largest privately owned IT consulting firm, with more than 200 current consultants! With over 50 active clients, TeamSoft will give you the greatest exposure to the widest range of IT careers.Our owners possess a combined 60+ years of IT consulting experience. Our recruiting and Account Management staff are very well-versed in our client markets. We get you. We know you. We know what you do every day. And we know what you deal with on the job.You take your career seriously and so do we. At TeamSoft you are not just a resume or number. Our goal is to create long-term partnerships with each of our consultants, and according to feedback from many of them, we are very good at this. Click HERE to see what our consultants have to say about working with TeamSoft.TeamSoft -- Promote yourself!TeamSoft is an equal employment opportunity employer functioning under an Affirmative Action Plan.\",IT Support Technician Job in Madison,Full Time Employee,\"Madison, WI 53702\",\"\",http://jobview.monster.com/it-support-technician-job-madison-wi-us-167855963.aspx?mescoid=1500134001001&jobPosition=20,\"\",IT/Software Development,11d599f229a80023d2f40e7c52cd941e\n",
        "United States of America,US,\"\",No,jobs.monster.com,\"The Wisconsin State Journal is seeking a flexible and motivated reporter/editor to lead its three-person business desk. WeвАЩre looking for an experienced journalist able to spot trends, be a watchdog and reflect the Madison areaвАЩs vibrant entrepreneurial community. This is a hybrid reporting and editing position that calls for a fleet-footed, multimedia storyteller able to maximize the newspaperвАЩs online presentation while also editing two sections a week. Candidates must have strong news judgment, be well versed in business news and trends and be able to quickly prioritize coverage.At least five yearsвАЩ experience reporting or editing for digital and print platforms desired. To be considered for the position, applicants must apply online.¬†As part of your online application, please attach five samples of your work or links to five recent stories.Wisconsin State Journal, 1901 Fish Hatchery Road, Madison, WI 53713Affirmative Action/Equal Opportunity Employer/Pre-employment drug testing appliesPI94338362Apply Here\",Business Reporter/Editor Job in Madison,Full Time,\"Madison, WI 53708\",Printing and Publishing,http://jobview.monster.com/business-reporter-editor-job-madison-wi-us-167830105.aspx?mescoid=2700437001001&jobPosition=7,\"\",\"\",e4cbb126dabf22159aff90223243ff2a\n",
        "...\n",
        "```"
      ]
    },
    {
      "cell_type": "markdown",
      "source": [
        "##### **Описание полей**\n",
        " - ```country``` — наименование страны;\n",
        " - ```country_code``` — код страны;\n",
        " - ```date_added``` — дата размещения вакансии;\n",
        " - ```has_expired``` — актуальность вакансии;\n",
        " - ```job_board``` — агрегатор вакансий, с которого собраны данные;\n",
        " - ```job_description``` — описание вакансии;\n",
        " - ```job_title``` — наименование должности;\n",
        " - ```job_type``` — вид занятости;\n",
        " - ```location``` — метоположение организации;\n",
        " - ```organization``` — наименование организации;\n",
        " - ```page_url``` — ссылка на страницу с вакансией;\n",
        " - ```salary``` — заработная плата;\n",
        " - ```sector``` — сфера деятельности;\n",
        " - ```uniq_id``` — уникальный идентификатор записи о вакансии."
      ],
      "metadata": {
        "id": "6lEBcXdWuhD3"
      }
    },
    {
      "cell_type": "markdown",
      "source": [
        "# Понимание данных"
      ],
      "metadata": {
        "id": "SA63ZXNBkUde"
      }
    },
    {
      "cell_type": "code",
      "execution_count": 1,
      "metadata": {
        "id": "eZIcPcPutJ7k"
      },
      "outputs": [],
      "source": [
        "import re\n",
        "import numpy as np\n",
        "import pandas as pd\n",
        "import missingno as msno\n",
        "from matplotlib import pyplot as plt\n",
        "import seaborn as sns"
      ]
    },
    {
      "cell_type": "markdown",
      "source": [
        "В датасете есть несколько столбцов, в каждой ячейке которых записано одно и то же значение. Есть столбцы, в которых формат записи значений не стандартизирован. А есть такие, где указана информация, не соответствующая названию столбца.\n",
        "\n",
        "**Первый этап изучения данных** – понять, какие основные проблемы предстоит решить для каждого из столбцов. Для этого загрузите датасет и выведите случайные несколько строк из него. Постарайтесь понять, что из себя представляют данные в столбцах."
      ],
      "metadata": {
        "id": "Fy8Z7sNYyJdO"
      }
    },
    {
      "cell_type": "code",
      "source": [
        "from google.colab import drive\n",
        "drive.mount('/content/drive')"
      ],
      "metadata": {
        "colab": {
          "base_uri": "https://localhost:8080/"
        },
        "id": "6r6mkzKOy0an",
        "outputId": "7b31b8ee-d1dd-4d38-a842-5e3070a80859"
      },
      "execution_count": 4,
      "outputs": [
        {
          "output_type": "stream",
          "name": "stdout",
          "text": [
            "Mounted at /content/drive\n"
          ]
        }
      ]
    },
    {
      "cell_type": "code",
      "source": [
        "path = \"/content/drive/MyDrive/data_visualization/monster_com_job_sample.csv\"\n",
        "df = pd.read_csv(path, encoding=\"utf-8\", on_bad_lines=\"skip\")\n",
        "\n",
        "print(df)"
      ],
      "metadata": {
        "colab": {
          "base_uri": "https://localhost:8080/"
        },
        "id": "9u39s291y2bd",
        "outputId": "e8de5e39-8374-4072-c55f-8d1cc8ec2562"
      },
      "execution_count": 5,
      "outputs": [
        {
          "output_type": "stream",
          "name": "stdout",
          "text": [
            "                        country country_code date_added has_expired  \\\n",
            "0      United States of America           US        NaN          No   \n",
            "1      United States of America           US        NaN          No   \n",
            "2      United States of America           US        NaN          No   \n",
            "3      United States of America           US        NaN          No   \n",
            "4      United States of America           US        NaN          No   \n",
            "...                         ...          ...        ...         ...   \n",
            "21995  United States of America           US        NaN          No   \n",
            "21996  United States of America           US        NaN          No   \n",
            "21997  United States of America           US        NaN          No   \n",
            "21998  United States of America           US        NaN          No   \n",
            "21999  United States of America           US        NaN          No   \n",
            "\n",
            "              job_board                                    job_description  \\\n",
            "0      jobs.monster.com  TeamSoft is seeing an IT Support Specialist to...   \n",
            "1      jobs.monster.com  The Wisconsin State Journal is seeking a flexi...   \n",
            "2      jobs.monster.com  Report this job About the Job DePuy Synthes Co...   \n",
            "3      jobs.monster.com  Why Join Altec? If you’re considering a career...   \n",
            "4      jobs.monster.com  Position ID#  76162 # Positions  1 State  CT C...   \n",
            "...                 ...                                                ...   \n",
            "21995  jobs.monster.com  This is a major premier Cincinnati based finan...   \n",
            "21996  jobs.monster.com  Luxury homebuilder in Cincinnati seeking multi...   \n",
            "21997  jobs.monster.com  RE: Adobe AEM-          Client -          Loca...   \n",
            "21998  jobs.monster.com  Jernberg Industries was established in 1937 an...   \n",
            "21999  jobs.monster.com  Contract AdministratorCan you be the point per...   \n",
            "\n",
            "                                               job_title             job_type  \\\n",
            "0                   IT Support Technician Job in Madison   Full Time Employee   \n",
            "1                Business Reporter/Editor Job in Madison            Full Time   \n",
            "2      Johnson & Johnson Family of Companies Job Appl...  Full Time, Employee   \n",
            "3                        Engineer - Quality Job in Dixon            Full Time   \n",
            "4           Shift Supervisor - Part-Time Job in Camphill   Full Time Employee   \n",
            "...                                                  ...                  ...   \n",
            "21995  Assistant Vice President - Controller Job in C...            Full Time   \n",
            "21996                       Accountant Job in Cincinnati            Full Time   \n",
            "21997                    AEM/CQ developer Job in Chicago            Full Time   \n",
            "21998  Electrician - Experienced Forging Electrician ...   Full Time Employee   \n",
            "21999           Contract Administrator Job in Cincinnati            Full Time   \n",
            "\n",
            "                                                location  \\\n",
            "0                                      Madison, WI 53702   \n",
            "1                                      Madison, WI 53708   \n",
            "2      DePuy Synthes Companies is a member of Johnson...   \n",
            "3                                              Dixon, CA   \n",
            "4                                           Camphill, PA   \n",
            "...                                                  ...   \n",
            "21995                                     Cincinnati, OH   \n",
            "21996                               Cincinnati, OH 45236   \n",
            "21997                                  Chicago, IL 60602   \n",
            "21998                                  Chicago, IL 60609   \n",
            "21999                                     Cincinnati, OH   \n",
            "\n",
            "                                         organization  \\\n",
            "0                                                 NaN   \n",
            "1                             Printing and Publishing   \n",
            "2                     Personal and Household Services   \n",
            "3                                    Altec Industries   \n",
            "4                                              Retail   \n",
            "...                                               ...   \n",
            "21995                                             NaN   \n",
            "21996  Construction - Residential & Commercial/Office   \n",
            "21997                                             NaN   \n",
            "21998                       Jernberg Industries, Inc.   \n",
            "21999                                             NaN   \n",
            "\n",
            "                                                page_url  \\\n",
            "0      http://jobview.monster.com/it-support-technici...   \n",
            "1      http://jobview.monster.com/business-reporter-e...   \n",
            "2      http://jobview.monster.com/senior-training-lea...   \n",
            "3      http://jobview.monster.com/engineer-quality-jo...   \n",
            "4      http://jobview.monster.com/shift-supervisor-pa...   \n",
            "...                                                  ...   \n",
            "21995  http://jobview.monster.com/Assistant-Vice-Pres...   \n",
            "21996  http://jobview.monster.com/Accountant-Job-Cinc...   \n",
            "21997  http://jobview.monster.com/AEM-CQ5-developer-J...   \n",
            "21998  http://jobview.monster.com/Electrician-Experie...   \n",
            "21999  http://jobview.monster.com/Contract-Administra...   \n",
            "\n",
            "                                                  salary  \\\n",
            "0                                                    NaN   \n",
            "1                                                    NaN   \n",
            "2                                                    NaN   \n",
            "3                                                    NaN   \n",
            "4                                                    NaN   \n",
            "...                                                  ...   \n",
            "21995               120,000.00 - 160,000.00 $ /yearbonus   \n",
            "21996                      45,000.00 - 60,000.00 $ /year   \n",
            "21997                                                NaN   \n",
            "21998                              25.00 - 28.00 $ /hour   \n",
            "21999  40,000.00 - 46,000.00 $ /year+ annual bonus (u...   \n",
            "\n",
            "                                      sector                           uniq_id  \n",
            "0                    IT/Software Development  11d599f229a80023d2f40e7c52cd941e  \n",
            "1                                        NaN  e4cbb126dabf22159aff90223243ff2a  \n",
            "2                                        NaN  839106b353877fa3d896ffb9c1fe01c0  \n",
            "3                  Experienced (Non-Manager)  58435fcab804439efdcaa7ecca0fd783  \n",
            "4                 Project/Program Management  64d0272dc8496abfd9523a8df63c184c  \n",
            "...                                      ...                               ...  \n",
            "21995                                    NaN  a80bc8cc3a90c17eef418963803bc640  \n",
            "21996  Manager (Manager/Supervisor of Staff)  419a3714be2b30a10f628de207d041de  \n",
            "21997                                    NaN  5a590350b73b2cec46b05750a208e345  \n",
            "21998        Installation/Maintenance/Repair  40161cf61c283af9dc2b0a62947a5f1b  \n",
            "21999              Experienced (Non-Manager)  cb49f16ad72627b109e434e0cac97f7a  \n",
            "\n",
            "[22000 rows x 14 columns]\n"
          ]
        }
      ]
    },
    {
      "cell_type": "markdown",
      "source": [
        "**Задание**\n",
        "\n",
        "Составьте таблицу, в которой будет содержаться название столбца, тип данных в нем и краткое описание проблем, которые вы заметили при первом взгляде на данные.\n",
        "\n",
        "\n",
        "Название столбца | Тип данных | Проблемы\n",
        "--- | --- | ---\n",
        "```country``` |\n",
        "```country_code``` |\n",
        "```date_added``` |\n",
        "```has_expired``` |\n",
        "```job_board``` |\n",
        "```job_description``` |\n",
        "```job_title``` |\n",
        "```job_type``` |\n",
        "```location``` |\n",
        "```organization``` |\n",
        "```page_url``` |\n",
        "```salary``` |\n",
        "```sector``` |\n",
        "```uniq_id``` |"
      ],
      "metadata": {
        "id": "YLByumEvRyO2"
      }
    },
    {
      "cell_type": "markdown",
      "source": [
        "\n",
        "\n",
        "```\n",
        "```\n",
        "Название столбца | Тип данных | Проблемы\n",
        "--- | --- | ---\n",
        "`country` | Строка (String) | Избыточные названия (напр. \"United States of America\" вместо \"USA\")\n",
        "`country_code` | Строка (String) | Требуется проверка соответствия стандарту ISO\n",
        "`date_added` | Дата (Date) | **Все значения NaN** - отсутствие данных\n",
        "`has_expired` | Логический (Boolean) | Все значения \"No\" (нет вариативности)\n",
        "`job_board` | Строка (String) | Нестандартизированные URL (напр. \"jobs.monster.com\")\n",
        "`job_description` | Строка (String) | Спецсимволы (напр. \"вАҐ\"), неформатированный текст\n",
        "`job_title` | Строка (String) | Избыточные фразы (\"Job in Madison\" в названии)\n",
        "`job_type` | Строка (String) | Неоднородные форматы (\"Full Time Employee\" vs \"Full-Time\")\n",
        "`location` | Строка (String) | Смешанные данные (город+штат+индекс)\n",
        "`organization` | Строка (String) | **Много NaN** - отсутствие данных\n",
        "`page_url` | Строка (String) | Длинные URL с параметрами (?mescoid=...)\n",
        "`salary` | Строка (String) | **Много NaN**, разные форматы (\"25.00 $/hour\", \"120,000.00 $/year\")\n",
        "`sector` | Строка (String) | **Много NaN**, неоднородные категории\n",
        "`uniq_id` | Строка (String) | Требуется проверка уникальности\n",
        "\n",
        "```\n",
        "\n"
      ],
      "metadata": {
        "id": "Nm5WcU7B0rvc"
      }
    },
    {
      "cell_type": "markdown",
      "source": [
        "### Оценка пустых ячеек в датасете"
      ],
      "metadata": {
        "id": "iUV-fNE6Js4w"
      }
    },
    {
      "cell_type": "markdown",
      "source": [
        "Выясните, в каких столбцах, строках и в каком количестве отсутствуют данные:\n",
        "1. С помощью модуля `pandas` составьте таблицу, где каждому названию столбца будет сопоставлено общее количество ячеек и количество пустых ячеек.\n",
        "2. Подсчитайте количество строк датасета, в которых пустыми являются более 75% ячеек.\n",
        "3. Визуализируйте число пропусков в датасете с помощью модуля, построив столбчатую диаграмму. Для удобства можно воспользоваться модулем `missingno`.\n"
      ],
      "metadata": {
        "id": "qMPChGv8SO2a"
      }
    },
    {
      "cell_type": "code",
      "source": [
        "# PUT YOUR CODE HERE"
      ],
      "metadata": {
        "id": "D0dHrjUYHl9f"
      },
      "execution_count": 6,
      "outputs": []
    },
    {
      "cell_type": "markdown",
      "source": [
        "Проверьте, как изменится размер датасета, если принять решение удалить все строки, где есть пустые значения. Сделайте выводы."
      ],
      "metadata": {
        "id": "7_wex_yPS2t_"
      }
    },
    {
      "cell_type": "code",
      "source": [
        "# PUT YOUR CODE HERE"
      ],
      "metadata": {
        "id": "H2anBRV8NezM"
      },
      "execution_count": 7,
      "outputs": []
    },
    {
      "cell_type": "markdown",
      "source": [
        "### Первичная оценка данных в столбцах"
      ],
      "metadata": {
        "id": "msyy7idiKbax"
      }
    },
    {
      "cell_type": "markdown",
      "source": [
        "Изучите данные в столбцах датасета, ответив на следующие вопросы:\n",
        "1. Есть ли столбцы, в которых встречается всего одно значение? Как их можно использовать в анализе?\n",
        "2. Есть ли такие значения, которые встречаются более чем в одном столбце?\n",
        "3. Есть ли столбцы, данные в которых не соответствуют названию столбца?"
      ],
      "metadata": {
        "id": "1Vx9OuX_TcVy"
      }
    },
    {
      "cell_type": "code",
      "source": [
        "# PUT YOUR CODE HERE"
      ],
      "metadata": {
        "id": "AxBO7ljdKgO5"
      },
      "execution_count": null,
      "outputs": []
    },
    {
      "cell_type": "markdown",
      "source": [
        "### Дублирование данных"
      ],
      "metadata": {
        "id": "AnlzCkfNL9Zp"
      }
    },
    {
      "cell_type": "markdown",
      "source": [
        "Для поиска дублирующихся строк выполните следующие действия:\n",
        "1. В таблице есть столбец `uniq_id`, значения которого, как сказано в описании данных, являются уникальными идентификаторами записей. Проверьте, действительно ли в этом столбце все значения различны.\n",
        "2. Проверьте, есть ли в таблице другие столбцы, значения которых в каждой строке различны.\n",
        "3. Если игнорировать столбцы, где все значения различны, найдутся ли такие строки, для которых значения по всем остальным столбцам будут совпадать?\n",
        "\n",
        "Оцените результаты поиска дубликатов."
      ],
      "metadata": {
        "id": "o5ee6oWjUPrt"
      }
    },
    {
      "cell_type": "code",
      "source": [
        "# PUT YOUR CODE HERE"
      ],
      "metadata": {
        "id": "xdOZaPBXNO-4"
      },
      "execution_count": null,
      "outputs": []
    },
    {
      "cell_type": "markdown",
      "source": [
        "# Практические задания"
      ],
      "metadata": {
        "id": "KfnT9b7KkbGV"
      }
    },
    {
      "cell_type": "markdown",
      "source": [
        "В этом разделе необходимо обработать значения в трех столбцах датасета: `location`, `salary` и `job_type`. Цель обработки – стандартизировать данные в каждом из столбцов так, чтобы их можно было анализировать."
      ],
      "metadata": {
        "id": "mLi_dNBw7vYH"
      }
    },
    {
      "cell_type": "markdown",
      "source": [
        "### Задание 1\n",
        "\n",
        "В задании 1 необходимо провести обработку столбца `location`."
      ],
      "metadata": {
        "id": "bysSIV-E6Qo2"
      }
    },
    {
      "cell_type": "markdown",
      "source": [
        "#### Задание 1.1\n",
        "\n",
        "В столбце `location` представлена информация о местоположении организации, в которой открыта вакансия. Каждое значение столбца `location` содержит информацию о городе, коде штата и почтовом индексе.\n",
        "\n",
        "Однако не в каждой строке есть все три характеристики местоположения, а также могут встречаться разные комбинации из них, записанные в виде строки в произвольном порядке и с разными разделителями.\n",
        "\n",
        "Например, может быть указан только код штата, только название города или только индекс. Могут быть указаны любые две характеристики из трех.\n",
        "\n",
        "**Формулировка задания:**\n",
        "1. Определите, какие форматы встречаются.\n",
        "2. Напишите одно или несколько регулярных выражений для поиска выявленных форматов.\n",
        "3. Визуализируйте количество найденных форматов на столбчатой или круговой диаграмме. Также покажите на ней количество строк, в которых формат определить не удалось. Какие форматы встречаются чаще всего?\n",
        "\n",
        "Ознакомиться с теоретическим материалом по работе с регулярными выражениями можно [по ссылке](https://colab.research.google.com/drive/1eFHdmt9OROLEDJRNc2wNmz0gpE1O3sKU?usp=sharing)."
      ],
      "metadata": {
        "id": "XFGxe_V0-RJH"
      }
    },
    {
      "cell_type": "code",
      "source": [
        "# PUT YOUR CODE HERE"
      ],
      "metadata": {
        "id": "cn1chn2Y7MFK"
      },
      "execution_count": null,
      "outputs": []
    },
    {
      "cell_type": "markdown",
      "source": [
        "#### Задание 1.2\n",
        "\n",
        "В большей части строк удалось извлечь данные из ячейки столбца `location`, но остались и такие, где это не получилось. Вынесите в отдельный датасет записи, в которых не удалось определить формат записи информации о местоположении.\n",
        "\n",
        "Над оставшимися строками проведите следующие преобразования:\n",
        "1. Данные о местоположении разделите на 3 столбца: город, код штата, почтовый индекс.\n",
        "2. Так как значения в столбце `почтовый индекс` являются пятизначными числами, преобразуйте их в целочисленный формат."
      ],
      "metadata": {
        "id": "F3U7JkFM_OvP"
      }
    },
    {
      "cell_type": "code",
      "source": [
        "# PUT YOUR CODE HERE"
      ],
      "metadata": {
        "id": "Jhfk2VbV86Wi"
      },
      "execution_count": null,
      "outputs": []
    },
    {
      "cell_type": "markdown",
      "source": [
        "Рассмотрите отложенную часть выборки (ту, где не удалось данные из столбца `location` разделить на три поля) и сделайте выводы о возможности извлечь из данных город, код штата и почтовый индекс. Извлеките все, что возможно. Что невозможно – оставьте пустым."
      ],
      "metadata": {
        "id": "aXtr78WJ_cyH"
      }
    },
    {
      "cell_type": "code",
      "source": [
        "# PUT YOUR CODE HERE"
      ],
      "metadata": {
        "id": "q4S6RjAR_rk-"
      },
      "execution_count": null,
      "outputs": []
    },
    {
      "cell_type": "markdown",
      "source": [
        "### Задание 2\n",
        "\n",
        "В задании 2 необходимо провести обработку столбца `salary`."
      ],
      "metadata": {
        "id": "jnaCe7umCrCM"
      }
    },
    {
      "cell_type": "markdown",
      "source": [
        "#### Задание 2.1\n",
        "\n",
        "В столбце `salary`, как и в `location`, данные не стандатизированы. В нем в основном можно встретить записи в следующих форматах:\n",
        "\n",
        "* 10.00 - 20.00 &dollar; &sol;hour\n",
        "* 10,000.00 - 20,000.00 &dollar; &sol;year\n",
        "* &dollar;10.00 &sol;hour\n",
        "* &dollar;10,000.00+ &sol;year\n",
        "* Up to &dollar;20,000.00\n",
        "\n",
        "Основные проблемы, которые стоит учесть при обработке форматов:\n",
        "- В каждом из форматов может быть или не быть знака доллара.\n",
        "- Может отсутствовать информация о периоде, за который указывается зарплата (`/hour` или `/year` в примерах).\n",
        "- Зарплата может быть указана за месяц (`/month`) и за неделю (`/week`).\n",
        "- В начале, конце и середине некоторых строк есть лишние пробелы, которые не стоит учитывать.\n",
        "\n",
        "**Задание:**\n",
        "1. Определите весь перечень встречающихся форматов и напишите одно или несколько регулярных выражений для их поиска.\n",
        "2. Покажите на столбчатой диаграмме количество записей, содержащих каждый из форматов. Сделайте выводы."
      ],
      "metadata": {
        "id": "pODtqlog_v7l"
      }
    },
    {
      "cell_type": "code",
      "source": [
        "# PUT YOUR CODE HERE"
      ],
      "metadata": {
        "id": "62JbulyKA7kS"
      },
      "execution_count": null,
      "outputs": []
    },
    {
      "cell_type": "markdown",
      "source": [
        "#### Задание 2.2\n",
        "\n",
        "1. Разделите столбец `salary` зарплаты три: `минимальная граница зарплаты`, `максимальная граница зарплаты`, `период`. Если значение суммы указано только одно, считайте, что это минимальная зарплата. Значение суммы в обоих столбцах преобразуйте в формат `float`.\n",
        "2. Покажите на столбчатой диаграмме с группировкой среднюю и медианную минимальную зарплату в каждом периоде. Сделайте выводы."
      ],
      "metadata": {
        "id": "HcDjkOO2MZB2"
      }
    },
    {
      "cell_type": "code",
      "source": [
        "# PUT YOUR CODE HERE"
      ],
      "metadata": {
        "id": "Sv7hqH6vBKXt"
      },
      "execution_count": null,
      "outputs": []
    },
    {
      "cell_type": "markdown",
      "source": [
        "#### Задание 2.3\n",
        "\n",
        "Как было отмечено в задании 2.1, период, за который указывается зарплата, может отсутствовать. Восполните этот пробел в данных следующим образом:\n",
        "\n",
        "1. Определите диапазон изменения (разброс) значений денежной суммы за каждый из встречающихся в данных периодов. Постройте гистограмму для каждого периода.\n",
        "2. Определите, к среднему значению за какой период ближе всего сумма, у которой период не указан. Укажите для найденный период. В спорных случаях, где сумма одинаково близка к нескольким диапазонам, не выбирайте ничего."
      ],
      "metadata": {
        "id": "3qwRlgzGC-To"
      }
    },
    {
      "cell_type": "code",
      "source": [
        "# PUT YOUR CODE HERE"
      ],
      "metadata": {
        "id": "FnhxSKfkAgbS"
      },
      "execution_count": null,
      "outputs": []
    },
    {
      "cell_type": "markdown",
      "source": [
        "### Задание 3\n",
        "\n",
        "В задании 3 необходимо провести обработку столбца `job_type`. Выясните, какие форматы значений есть в столбце `job_type`. Сделайте выводы. При необходимости – стройте графики."
      ],
      "metadata": {
        "id": "cQZa1dUvXPZc"
      }
    },
    {
      "cell_type": "code",
      "source": [
        "# PUT YOUR CODE HERE"
      ],
      "metadata": {
        "id": "PbFXp8J6BN--"
      },
      "execution_count": null,
      "outputs": []
    },
    {
      "cell_type": "markdown",
      "source": [
        "Вы заметили, что многие значения фактически одинаковые, но немного по-разному отформатированы? Приведем их к единому формату."
      ],
      "metadata": {
        "id": "CpUXRxhoXsdy"
      }
    },
    {
      "cell_type": "code",
      "source": [
        "# PUT YOUR CODE HERE"
      ],
      "metadata": {
        "id": "ejRYjjC7WIES"
      },
      "execution_count": null,
      "outputs": []
    },
    {
      "cell_type": "markdown",
      "source": [
        "Столбец `job_type` состоит из двух частей: \"полнота\" занятости (`Full Time`, `Part Time`, `Per Diem`) и \"тип\" занятости (`Employee`, `Intern`). Кроме того, встречаются и неполные записи.\n",
        "\n",
        "Задание:\n",
        "1. Написать одно или несколько регулярных выражений для разделения столбца `job_type` на два: `полнота занятости`, `тип занятости`.\n",
        "2. Если данные о полноте отсутствуют, внесите значение `Full Time`.\n",
        "Если отсутствуют данные о типе – внесите `Employee`.\n",
        "3. Постройте столбчатую диаграмму со стековой группировкой для полноты и типа занятости. Сделайте выводы."
      ],
      "metadata": {
        "id": "3dTDSMR8dTI8"
      }
    },
    {
      "cell_type": "code",
      "source": [
        "# PUT YOUR CODE HERE"
      ],
      "metadata": {
        "id": "gW7GoMgkbtLx"
      },
      "execution_count": null,
      "outputs": []
    },
    {
      "cell_type": "markdown",
      "source": [
        "# Порядок защиты работы"
      ],
      "metadata": {
        "id": "kNKi8fn1X0Qa"
      }
    },
    {
      "cell_type": "markdown",
      "source": [
        "**Для защиты работы необходимо:**\n",
        "1. Предоставить результаты выполнения всех заданий в виде ссылки на Google Colab.\n",
        "2. Выполнить дополнительное задание в процессе сдачи работы. Дополнительное задание представляет собой решение задачи на обработку данных лабораторной работы, меньшее по объему, но сопоставимое по сложности тем заданиям, которые требовалось выполнить в рамках работы.\n",
        "\n",
        "**Примеры дополнительных заданий:**\n",
        "1. В столбце `sector` часто представлены данные из столбца `organization` и наоборот. Устраните эту проблему.\n",
        "2. В столбце `job_title` часто можно частично или полностью встретить указание местоположения организации. Сравните, совпадают ли в таких случаях данные с тем, что указано в столбцах `город`, `код штата`, `почтовый индекс`. Если в этих трех столбцах данные отсутствуют, заполните их данными из столбца `job_title`.\n",
        "3. Практически во всех столбцах датасета вместо соответствующих названию данных иногда встречается текст из `job_description`. Найдите такие столбцы и записи с описанием вакансии в них. Покажите на столбчатой диаграмме, в каких столбцах и в каком количестве находится информация из столбца `job_description`."
      ],
      "metadata": {
        "id": "vNArFxJcX8uS"
      }
    },
    {
      "cell_type": "markdown",
      "source": [
        "# Дополнительные материалы"
      ],
      "metadata": {
        "id": "o5oPWAt-Z_s_"
      }
    },
    {
      "cell_type": "markdown",
      "source": [
        "1. DAMA-DMBOK: Свод знаний по управлению данными: Второе издание / DAMA International; [пер. с англ.]. – Москва: ООО \"Олимп-Бизнес\", 2021. – 828 с.\n",
        "2. Макгрегор, С. Обработка данных на Python: Data Wrangling и Data Quality: [Текст] / С. Макгрегор. – Москва: БХВ, 2024. – 432 с."
      ],
      "metadata": {
        "id": "-MwwS_lTaSGM"
      }
    }
  ]
}