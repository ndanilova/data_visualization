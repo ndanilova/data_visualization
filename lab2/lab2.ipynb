{
 "cells": [
  {
   "cell_type": "markdown",
   "metadata": {
    "id": "ON83n3VyJX8D"
   },
   "source": [
    "**Цель работы:**\n",
    " изучение основных способов визуализации табличных данных с помощью модулей seaborn, plotly, altair, bokeh.\n",
    "\n",
    "**Краткое описание:**\n",
    " в лабораторной работе представлено 10 заданий на построение графиков разных видов. В каждом задании указано, каким видом графика стоит воспользоваться для визуализации данных. По каждому заданию необходимо построить график дважды: первый раз с помощью модуля seaborn (альтернативно можно matplotlib со стилями из seaborn), второй – с помощью plotly, altair или bokeh на выбор студента. Необязательно каждый раз для второго графика выбирать одну и ту же библиотеку, т.к. не все библиотеки располагают одинаковым набором графиков.\n",
    "\n"
   ]
  },
  {
   "cell_type": "markdown",
   "metadata": {
    "id": "XSwSCVWsNr-W"
   },
   "source": [
    "##### **Формат данных**\n",
    "Представлена таблица с информацией о песнях, исполненных на Евровидении с 2009 по 2023 год. Все задания лабораторной работы будут выполняться по этим данным.\n",
    "\n",
    "```\n",
    "year,country,artist_name,song_name,language,style,gender,main_singers,key,BPM,energy,danceability,happiness,loudness,acousticness,instrumentalness,liveness,speechiness,final_place\n",
    "2023,Norway,Alessandra,Queen of Kings,English,Pop,Female,1,E Minor,110,36,64,23,10 dB,58,0,10,3,5\n",
    "2023,Malta,The Busker,Dance (Our Own Party),English,Pop,Male,1,F Minor,103,78,70,82,6 dB,2,0,18,4,\n",
    "...\n",
    "```\n",
    "##### **Описание полей**\n",
    "\n",
    "- ```year``` – год;\n",
    "- ```country``` – страна участника;\n",
    "- ```artist_name``` – исполнитель;\n",
    "- ```song_name``` – название песни;\n",
    "- ```language``` – язык, на котором исполняется песня;\n",
    "- ```style```\t– жанр;\n",
    "- ```gender``` – пол участника;\n",
    "- ```main_singers``` – количество вокалистов;\n",
    "- ```key```\t– регистр (высота тона);\n",
    "- ```BPM``` – скорость композиции в целом (количество четвертых нот в минуту);\n",
    "- ```energy``` – энергичность композиции;\n",
    "- ```danceability``` – танцевальность (насколько трек подходит для танцев);\n",
    "- ```happiness``` – жизнерадостность;\n",
    "- ```loudness``` – громкость;\n",
    "- ```acousticness``` – акустичность;\n",
    "- ```instrumentalness``` – инструментальность;\n",
    "- ```liveness``` – живость;\n",
    "- ```speechiness``` – насколько много текста;\n",
    "- ```final_place``` – место в финале."
   ]
  },
  {
   "cell_type": "code",
   "execution_count": 1,
   "metadata": {},
   "outputs": [
    {
     "name": "stdout",
     "output_type": "stream",
     "text": [
      "Requirement already satisfied: nbformat in /Library/Frameworks/Python.framework/Versions/3.13/lib/python3.13/site-packages (5.10.4)\n",
      "Requirement already satisfied: fastjsonschema>=2.15 in /Library/Frameworks/Python.framework/Versions/3.13/lib/python3.13/site-packages (from nbformat) (2.21.1)\n",
      "Requirement already satisfied: jsonschema>=2.6 in /Library/Frameworks/Python.framework/Versions/3.13/lib/python3.13/site-packages (from nbformat) (4.23.0)\n",
      "Requirement already satisfied: jupyter-core!=5.0.*,>=4.12 in /Users/Anastasia/Library/Python/3.13/lib/python/site-packages (from nbformat) (5.7.2)\n",
      "Requirement already satisfied: traitlets>=5.1 in /Users/Anastasia/Library/Python/3.13/lib/python/site-packages (from nbformat) (5.14.3)\n",
      "Requirement already satisfied: attrs>=22.2.0 in /Library/Frameworks/Python.framework/Versions/3.13/lib/python3.13/site-packages (from jsonschema>=2.6->nbformat) (25.3.0)\n",
      "Requirement already satisfied: jsonschema-specifications>=2023.03.6 in /Library/Frameworks/Python.framework/Versions/3.13/lib/python3.13/site-packages (from jsonschema>=2.6->nbformat) (2025.4.1)\n",
      "Requirement already satisfied: referencing>=0.28.4 in /Library/Frameworks/Python.framework/Versions/3.13/lib/python3.13/site-packages (from jsonschema>=2.6->nbformat) (0.36.2)\n",
      "Requirement already satisfied: rpds-py>=0.7.1 in /Library/Frameworks/Python.framework/Versions/3.13/lib/python3.13/site-packages (from jsonschema>=2.6->nbformat) (0.25.0)\n",
      "Requirement already satisfied: platformdirs>=2.5 in /Users/Anastasia/Library/Python/3.13/lib/python/site-packages (from jupyter-core!=5.0.*,>=4.12->nbformat) (4.3.8)\n",
      "Note: you may need to restart the kernel to use updated packages.\n"
     ]
    }
   ],
   "source": [
    "pip install --upgrade nbformat"
   ]
  },
  {
   "cell_type": "code",
   "execution_count": 2,
   "metadata": {
    "id": "lwN7HHSRLvRl"
   },
   "outputs": [],
   "source": [
    "import pandas as pd\n",
    "import numpy as np\n",
    "import matplotlib.pyplot as plt\n",
    "import plotly.express as px\n",
    "import altair as alt\n",
    "import seaborn as sns\n",
    "import pycountry\n",
    "import plotly.graph_objects as go\n",
    "import matplotlib.colors as mcolors"
   ]
  },
  {
   "cell_type": "code",
   "execution_count": 3,
   "metadata": {
    "colab": {
     "base_uri": "https://localhost:8080/"
    },
    "id": "DfvGDwepPQHb",
    "outputId": "7061f472-f619-40d0-d5c8-da420c7bc65e"
   },
   "outputs": [
    {
     "name": "stdout",
     "output_type": "stream",
     "text": [
      "     year         country               artist_name                 song_name  \\\n",
      "0    2023          Norway                Alessandra            Queen of Kings   \n",
      "1    2023           Malta                The Busker     Dance (Our Own Party)   \n",
      "2    2023          Serbia                Luke Black          Samo mi se spava   \n",
      "3    2023          Latvia             Sudden Lights                      Aija   \n",
      "4    2023        Portugal                   Mimicat                Ai coraçăo   \n",
      "..    ...             ...                       ...                       ...   \n",
      "560  2009          France             Patricia Kaas  Et s'il fallait le faire   \n",
      "561  2009          Russia      Anastasiya Prikhodko                      Mamo   \n",
      "562  2009         Germany  Alex Swings Oscar Sings!       Miss Kiss Kiss Bang   \n",
      "563  2009  United Kingdom                 Jade Ewen              It's My Time   \n",
      "564  2009           Spain            Soraya Arnelas       La noche es para mi   \n",
      "\n",
      "               language   style  gender  main_singers       key  BPM energy  \\\n",
      "0               English     Pop  Female             1   E Minor  110     36   \n",
      "1               English     Pop    Male             1   F Minor  103     78   \n",
      "2      Serbian, English     Pop    Male             1   A Major  103     70   \n",
      "3               English    Rock    Male             1   A Minor  160     55   \n",
      "4            Portuguese     Pop  Female             1  Fs Minor  145     63   \n",
      "..                  ...     ...     ...           ...       ...  ...    ...   \n",
      "560              French  Ballad  Female             1   A Major   92     58   \n",
      "561  Russian, Ukrainian  Ballad  Female             1   D Minor  130     94   \n",
      "562             English     Pop    Male             1  Bb Minor  136     89   \n",
      "563             English  Ballad  Female             1   E Major  105     31   \n",
      "564    Spanish, English   Dance  Female             1   F Minor  126     70   \n",
      "\n",
      "    danceability happiness loudness acousticness instrumentalness liveness  \\\n",
      "0             64        23    10 dB           58                0       10   \n",
      "1             70        82     6 dB            2                0       18   \n",
      "2             56        11    10 dB            4                2       32   \n",
      "3             56        40     8 dB            5                0        8   \n",
      "4             66        77     8 dB           31                0       16   \n",
      "..           ...       ...      ...          ...              ...      ...   \n",
      "560           26        23     8 dB           55                0       90   \n",
      "561           64        45     4 dB           41                0       26   \n",
      "562           62        56     4 dB           11                0       20   \n",
      "563           30        12    14 dB            1               79       29   \n",
      "564           69        87     7 dB            1               73       14   \n",
      "\n",
      "    speechiness  final_place  \n",
      "0             3          5.0  \n",
      "1             4          NaN  \n",
      "2             5         24.0  \n",
      "3             7          NaN  \n",
      "4             5         23.0  \n",
      "..          ...          ...  \n",
      "560           8          8.0  \n",
      "561           5         11.0  \n",
      "562          21         20.0  \n",
      "563           3          5.0  \n",
      "564           3         24.0  \n",
      "\n",
      "[565 rows x 19 columns]\n"
     ]
    }
   ],
   "source": [
    "path = \"song_data.csv\"\n",
    "\n",
    "df = pd.read_csv(path, encoding=\"utf-8\", on_bad_lines=\"skip\")\n",
    "\n",
    "print(df)\n"
   ]
  },
  {
   "cell_type": "markdown",
   "metadata": {
    "id": "DPWCAfNkIgno"
   },
   "source": [
    "## Задание 1"
   ]
  },
  {
   "cell_type": "markdown",
   "metadata": {
    "id": "Mk-fFzWWIjQ2"
   },
   "source": [
    "Проведите предобработку числовых значений в датасете:\n",
    "1. В столбцах `BPM`, `energy`, `danceability`, `happiness`, `acousticness`, `instrumentalness`, `liveness`, `speechiness` замените отсутствующие значения и прочерки на 0.\n",
    "2. В столбце `loudness` оставьте только число без единиц измерения.\n",
    "3. Во всех перечисленных в пунктах 1 и 2 столбцах преобразуйте значения в тип данных `float`."
   ]
  },
  {
   "cell_type": "code",
   "execution_count": 4,
   "metadata": {
    "colab": {
     "base_uri": "https://localhost:8080/"
    },
    "id": "Yfta15YJMmdu",
    "outputId": "c71caa7c-912b-4af1-c527-250fc762ef29"
   },
   "outputs": [
    {
     "name": "stdout",
     "output_type": "stream",
     "text": [
      "BPM                 float64\n",
      "energy              float64\n",
      "danceability        float64\n",
      "happiness           float64\n",
      "acousticness        float64\n",
      "instrumentalness    float64\n",
      "liveness            float64\n",
      "speechiness         float64\n",
      "loudness            float64\n",
      "dtype: object\n",
      "     BPM  energy  danceability  happiness  acousticness  instrumentalness  \\\n",
      "0  110.0    36.0          64.0       23.0          58.0               0.0   \n",
      "1  103.0    78.0          70.0       82.0           2.0               0.0   \n",
      "2  103.0    70.0          56.0       11.0           4.0               2.0   \n",
      "3  160.0    55.0          56.0       40.0           5.0               0.0   \n",
      "4  145.0    63.0          66.0       77.0          31.0               0.0   \n",
      "\n",
      "   liveness  speechiness  loudness  \n",
      "0      10.0          3.0      10.0  \n",
      "1      18.0          4.0       6.0  \n",
      "2      32.0          5.0      10.0  \n",
      "3       8.0          7.0       8.0  \n",
      "4      16.0          5.0       8.0  \n"
     ]
    }
   ],
   "source": [
    "\n",
    "# Столбцы с числовыми значениями\n",
    "columns_to_clean = [\n",
    "    'BPM', 'energy', 'danceability', 'happiness',\n",
    "    'acousticness', 'instrumentalness', 'liveness', 'speechiness'\n",
    "]\n",
    "\n",
    "df[columns_to_clean] = df[columns_to_clean].replace('-', 0).fillna(0)\n",
    "\n",
    "for col in columns_to_clean:\n",
    "    df[col] = df[col].astype(float)\n",
    "\n",
    "df['loudness'] = df['loudness'].replace('-', 0)\n",
    "df['loudness'] = df['loudness'].str.extract(r'(-?\\d+\\.?\\d*)')\n",
    "df['loudness'] = df['loudness'].fillna(0).astype(float)\n",
    "\n",
    "print(df[columns_to_clean + ['loudness']].dtypes)\n",
    "print(df[columns_to_clean + ['loudness']].head())"
   ]
  },
  {
   "cell_type": "markdown",
   "metadata": {
    "id": "gJBhthR9RFoE"
   },
   "source": [
    "Предобработка числовых столбцов прошла успешно. Численные столбцы преобразовались в формат float64, а по первым 5 строкам можно понять, что нулевые значения тоже переформатированы в нормальный вид"
   ]
  },
  {
   "cell_type": "markdown",
   "metadata": {
    "id": "pjBj8HWkr1nI"
   },
   "source": [
    "## Задание 2"
   ]
  },
  {
   "cell_type": "markdown",
   "metadata": {
    "id": "u3nyqiKmwj2F"
   },
   "source": [
    "Покажите, какие характеристики музыки (`BPM`, `energy`, `danceability`, `happiness`, `acousticness`, `instrumentalness`, `liveness`, `speechiness`) коррелируют между собой. Для визуализации используйте диаграмму `heatmap`."
   ]
  },
  {
   "cell_type": "code",
   "execution_count": 5,
   "metadata": {
    "id": "T5YXp8cWVtyc"
   },
   "outputs": [],
   "source": [
    "# Вычисляем корреляционную матрицу\n",
    "corr_matrix = df[columns_to_clean].corr()\n"
   ]
  },
  {
   "cell_type": "code",
   "execution_count": 6,
   "metadata": {
    "colab": {
     "base_uri": "https://localhost:8080/",
     "height": 801
    },
    "id": "oxGuZcKNV2JF",
    "outputId": "3cbd23a0-23de-4b81-b967-8597f5554f9b"
   },
   "outputs": [
    {
     "data": {
      "image/png": "[encoded data removed]",
      "text/plain": [
       "<Figure size 1000x800 with 2 Axes>"
      ]
     },
     "metadata": {},
     "output_type": "display_data"
    }
   ],
   "source": [
    "plt.figure(figsize=(10, 8))\n",
    "\n",
    "sns.heatmap(\n",
    "    corr_matrix,\n",
    "    annot=True,\n",
    "    cmap='coolwarm',\n",
    "    fmt=\".2f\",\n",
    "    square=True,\n",
    "    linewidths=0.5,\n",
    "    cbar_kws={\"label\": \"Correlation coefficient\"}\n",
    ")\n",
    "\n",
    "plt.title('Correlations of musical characteristics', fontsize=16)\n",
    "plt.xlabel('Characteristics', fontsize=12)\n",
    "plt.ylabel('Characteristics', fontsize=12)\n",
    "\n",
    "plt.tight_layout()\n",
    "plt.show()\n"
   ]
  },
  {
   "cell_type": "markdown",
   "metadata": {
    "id": "9uKeO842YYuO"
   },
   "source": [
    "* В датасете наблюдается сильная взаимосвязь между характеристиками, описывающими ритм и настроение (BPM, energy, danceability, happiness).\n",
    "\n",
    "* Такие признаки, как instrumentalness и acousticness, слабо коррелируют с остальными — они скорее представляют отдельное измерение (например, акустичность не равно энергия).\n",
    "\n",
    "* speechiness умеренно коррелирует с ритмическими признаками, что может отражать присутствие речитатива или вокала в быстрых треках."
   ]
  },
  {
   "cell_type": "markdown",
   "metadata": {
    "id": "OmYI6aKGwrKr"
   },
   "source": [
    "## Задание 3"
   ]
  },
  {
   "cell_type": "markdown",
   "metadata": {
    "id": "xxCTsL5KwrKs"
   },
   "source": [
    "Покажите на диаграмме разброса взаимосвязь между жизнерадостностью (`happiness`) и энергичностью (`energy`) композиции. Добавьте на диаграмму вспомогательные элементы (отметку средних значений, выбросов) для упрощения интерпретации визуализации.\n",
    "\n"
   ]
  },
  {
   "cell_type": "code",
   "execution_count": 7,
   "metadata": {
    "colab": {
     "base_uri": "https://localhost:8080/",
     "height": 669
    },
    "id": "jzRyWNv2a-56",
    "outputId": "b2611237-9812-44d7-bd6c-a90080de6fa1"
   },
   "outputs": [
    {
     "data": {
      "image/png": "[encoded data removed]",
      "text/plain": [
       "<Figure size 1200x700 with 1 Axes>"
      ]
     },
     "metadata": {},
     "output_type": "display_data"
    }
   ],
   "source": [
    "sns.set(style=\"whitegrid\")\n",
    "\n",
    "plt.figure(figsize=(12, 7))\n",
    "\n",
    "scatter = sns.scatterplot(\n",
    "    data=df,\n",
    "    x='energy',\n",
    "    y='happiness',\n",
    "    hue='happiness',\n",
    "    palette='viridis',\n",
    "    alpha=0.7,\n",
    "    edgecolor='k',\n",
    "    legend=False )\n",
    "\n",
    "# Добавление средних линий\n",
    "mean_energy = df['energy'].mean()\n",
    "mean_happiness = df['happiness'].mean()\n",
    "\n",
    "plt.axvline(mean_energy, color='red', linestyle='--', label=f'Average energy: {mean_energy:.2f}')\n",
    "plt.axhline(mean_happiness, color='blue', linestyle='--', label=f'Average happiness: {mean_happiness:.2f}')\n",
    "\n",
    "# Выделение выбросов\n",
    "def detect_outliers(series):\n",
    "    Q1 = series.quantile(0.25)\n",
    "    Q3 = series.quantile(0.75)\n",
    "    IQR = Q3 - Q1\n",
    "    lower_bound = Q1 - 1.5 * IQR\n",
    "    upper_bound = Q3 + 1.5 * IQR\n",
    "    return (series < lower_bound) | (series > upper_bound)\n",
    "\n",
    "outliers = detect_outliers(df['energy']) | detect_outliers(df['happiness'])\n",
    "\n",
    "if outliers.any():\n",
    "    outlier_data = df[outliers]\n",
    "    sns.scatterplot(\n",
    "        data=outlier_data,\n",
    "        x='energy',\n",
    "        y='happiness',\n",
    "        color='black',\n",
    "        s=100,\n",
    "        label='Выбросы',\n",
    "        edgecolor='red'\n",
    "    )\n",
    "\n",
    "plt.title('Scatter chart: The relationship between cheerfulness and vigor of a composition', pad=20)\n",
    "plt.xlabel('Energy')\n",
    "plt.ylabel('Happiness')\n",
    "plt.legend()\n",
    "\n",
    "plt.show()\n"
   ]
  },
  {
   "cell_type": "markdown",
   "metadata": {
    "id": "qKrqYE0ScWRP"
   },
   "source": [
    "Средняя энергичность: 56.61\n",
    "\n",
    "Средняя жизнерадостность: 36.99\n",
    "\n",
    "* Большинство точек сосредоточено в правом нижнем и правом верхнем квадрантах, что указывает на преобладание высокоэнергичных композиций.\n",
    "\n",
    "* Однако жизнерадостность при этом сильно варьируется — от очень низкой до высокой.\n",
    "\n",
    "* Отчетливой линейной зависимости между happiness и energy не наблюдается так как много разброса и присутвуют выбросы, но положительная зависимость прослеживается.\n",
    "\n",
    "* Есть некоторые выбросы: например, композиции с нулевыми значениями счастья, при этом с разным уровнем энергии (некоторые из них отмечены как квадратные маркеры)."
   ]
  },
  {
   "cell_type": "markdown",
   "metadata": {
    "id": "0ygsFcLSwrTt"
   },
   "source": [
    "## Задание 4"
   ]
  },
  {
   "cell_type": "markdown",
   "metadata": {
    "id": "JT3uJxKuwrTu"
   },
   "source": [
    "Покажите на горизонтальной столбчатой диаграмме распределение количества треков по жанрам. Отсортируйте диаграмму по убыванию количества композиций в жанре. Выделите контрастным цветом жанр, в котором больше всего песен."
   ]
  },
  {
   "cell_type": "code",
   "execution_count": 8,
   "metadata": {
    "colab": {
     "base_uri": "https://localhost:8080/",
     "height": 801
    },
    "id": "3sW4nQsYeT0H",
    "outputId": "a6abe35d-8423-4fe7-b161-750079b13a6a"
   },
   "outputs": [
    {
     "data": {
      "image/png": "[encoded data removed]",
      "text/plain": [
       "<Figure size 1000x800 with 1 Axes>"
      ]
     },
     "metadata": {},
     "output_type": "display_data"
    }
   ],
   "source": [
    "genre_counts = df['style'].value_counts()\n",
    "\n",
    "# Определим жанр с наибольшим числом треков\n",
    "top_genre = genre_counts.idxmax()\n",
    "\n",
    "colors = ['crimson' if genre == top_genre else 'steelblue' for genre in genre_counts.index]\n",
    "\n",
    "plt.figure(figsize=(10, 8))\n",
    "sns.barplot(\n",
    "    x=genre_counts.values,\n",
    "    y=genre_counts.index,\n",
    "    hue=genre_counts.index,\n",
    "    dodge=False,\n",
    "    palette=colors,\n",
    "    legend=False\n",
    ")\n",
    "plt.title('Distribution of the number of tracks by genre', fontsize=14, pad=15)\n",
    "plt.xlabel('Number of songs')\n",
    "plt.ylabel('Genre')\n",
    "\n",
    "for i, value in enumerate(genre_counts.values):\n",
    "    plt.text(value + 1, i, str(value), va='center')\n",
    "\n",
    "plt.tight_layout()\n",
    "plt.show()\n"
   ]
  },
  {
   "cell_type": "markdown",
   "metadata": {
    "id": "YQv1t5FmfueK"
   },
   "source": [
    "Исходя из результатов, в датасете рекордсмен среди жанров поп, а самый редкий жанр - опера. Результаты ожидаемы."
   ]
  },
  {
   "cell_type": "markdown",
   "metadata": {
    "id": "zrX_7sX_wrd-"
   },
   "source": [
    "## Задание 5"
   ]
  },
  {
   "cell_type": "markdown",
   "metadata": {
    "id": "-YxfmmMSwrd_"
   },
   "source": [
    "Покажите на круговой диаграмме страны, участники из которых побеждали чаще других, и в каких годах они выигрывали. Диаграмма должна быть одна."
   ]
  },
  {
   "cell_type": "code",
   "execution_count": 9,
   "metadata": {
    "colab": {
     "base_uri": "https://localhost:8080/",
     "height": 717
    },
    "id": "Oodtpj9twekZ",
    "outputId": "68474ad9-fb17-49c9-d318-b7d2ad317ce5"
   },
   "outputs": [
    {
     "data": {
      "application/vnd.plotly.v1+json": {
       "config": {
        "plotlyServerURL": "https://plot.ly"
       },
       "data": [
        {
         "customdata": [
          "2012, 2015, 2023",
          "2016, 2022",
          "2014",
          "2013",
          "2011",
          "2010",
          "2018",
          "2019",
          "2021",
          "2017",
          "2009"
         ],
         "direction": "counterclockwise",
         "hole": 0.3,
         "hoverinfo": "label+value+percent",
         "hovertemplate": "<b>%{label}</b><br>Побед: %{value}<br>Годы: %{customdata}<extra></extra>",
         "labels": [
          "Sweden",
          "Ukraine",
          "Austria",
          "Denmark",
          "Azerbaijan",
          "Germany",
          "Israel",
          "Netherlands",
          "Italy",
          "Portugal",
          "Norway"
         ],
         "marker": {
          "colors": [
           "#fffaca",
           "#fff1ae",
           "#fee390",
           "#fece65",
           "#feb643",
           "#fe9829",
           "#f27d1b",
           "#e1640e",
           "#cb4b02",
           "#a93c03",
           "#882f05"
          ]
         },
         "sort": false,
         "textinfo": "label+percent",
         "textposition": "inside",
         "type": "pie",
         "values": {
          "bdata": "AwIBAQEBAQEBAQE=",
          "dtype": "i1"
         }
        }
       ],
       "layout": {
        "annotations": [
         {
          "font": {
           "size": 16
          },
          "showarrow": false,
          "text": "Total wins: 14",
          "x": 0.5,
          "y": 0.5
         }
        ],
        "height": 700,
        "margin": {
         "b": 20,
         "l": 20,
         "r": 20,
         "t": 80
        },
        "showlegend": false,
        "template": {
         "data": {
          "bar": [
           {
            "error_x": {
             "color": "#2a3f5f"
            },
            "error_y": {
             "color": "#2a3f5f"
            },
            "marker": {
             "line": {
              "color": "#E5ECF6",
              "width": 0.5
             },
             "pattern": {
              "fillmode": "overlay",
              "size": 10,
              "solidity": 0.2
             }
            },
            "type": "bar"
           }
          ],
          "barpolar": [
           {
            "marker": {
             "line": {
              "color": "#E5ECF6",
              "width": 0.5
             },
             "pattern": {
              "fillmode": "overlay",
              "size": 10,
              "solidity": 0.2
             }
            },
            "type": "barpolar"
           }
          ],
          "carpet": [
           {
            "aaxis": {
             "endlinecolor": "#2a3f5f",
             "gridcolor": "white",
             "linecolor": "white",
             "minorgridcolor": "white",
             "startlinecolor": "#2a3f5f"
            },
            "baxis": {
             "endlinecolor": "#2a3f5f",
             "gridcolor": "white",
             "linecolor": "white",
             "minorgridcolor": "white",
             "startlinecolor": "#2a3f5f"
            },
            "type": "carpet"
           }
          ],
          "choropleth": [
           {
            "colorbar": {
             "outlinewidth": 0,
             "ticks": ""
            },
            "type": "choropleth"
           }
          ],
          "contour": [
           {
            "colorbar": {
             "outlinewidth": 0,
             "ticks": ""
            },
            "colorscale": [
             [
              0,
              "#0d0887"
             ],
             [
              0.1111111111111111,
              "#46039f"
             ],
             [
              0.2222222222222222,
              "#7201a8"
             ],
             [
              0.3333333333333333,
              "#9c179e"
             ],
             [
              0.4444444444444444,
              "#bd3786"
             ],
             [
              0.5555555555555556,
              "#d8576b"
             ],
             [
              0.6666666666666666,
              "#ed7953"
             ],
             [
              0.7777777777777778,
              "#fb9f3a"
             ],
             [
              0.8888888888888888,
              "#fdca26"
             ],
             [
              1,
              "#f0f921"
             ]
            ],
            "type": "contour"
           }
          ],
          "contourcarpet": [
           {
            "colorbar": {
             "outlinewidth": 0,
             "ticks": ""
            },
            "type": "contourcarpet"
           }
          ],
          "heatmap": [
           {
            "colorbar": {
             "outlinewidth": 0,
             "ticks": ""
            },
            "colorscale": [
             [
              0,
              "#0d0887"
             ],
             [
              0.1111111111111111,
              "#46039f"
             ],
             [
              0.2222222222222222,
              "#7201a8"
             ],
             [
              0.3333333333333333,
              "#9c179e"
             ],
             [
              0.4444444444444444,
              "#bd3786"
             ],
             [
              0.5555555555555556,
              "#d8576b"
             ],
             [
              0.6666666666666666,
              "#ed7953"
             ],
             [
              0.7777777777777778,
              "#fb9f3a"
             ],
             [
              0.8888888888888888,
              "#fdca26"
             ],
             [
              1,
              "#f0f921"
             ]
            ],
            "type": "heatmap"
           }
          ],
          "histogram": [
           {
            "marker": {
             "pattern": {
              "fillmode": "overlay",
              "size": 10,
              "solidity": 0.2
             }
            },
            "type": "histogram"
           }
          ],
          "histogram2d": [
           {
            "colorbar": {
             "outlinewidth": 0,
             "ticks": ""
            },
            "colorscale": [
             [
              0,
              "#0d0887"
             ],
             [
              0.1111111111111111,
              "#46039f"
             ],
             [
              0.2222222222222222,
              "#7201a8"
             ],
             [
              0.3333333333333333,
              "#9c179e"
             ],
             [
              0.4444444444444444,
              "#bd3786"
             ],
             [
              0.5555555555555556,
              "#d8576b"
             ],
             [
              0.6666666666666666,
              "#ed7953"
             ],
             [
              0.7777777777777778,
              "#fb9f3a"
             ],
             [
              0.8888888888888888,
              "#fdca26"
             ],
             [
              1,
              "#f0f921"
             ]
            ],
            "type": "histogram2d"
           }
          ],
          "histogram2dcontour": [
           {
            "colorbar": {
             "outlinewidth": 0,
             "ticks": ""
            },
            "colorscale": [
             [
              0,
              "#0d0887"
             ],
             [
              0.1111111111111111,
              "#46039f"
             ],
             [
              0.2222222222222222,
              "#7201a8"
             ],
             [
              0.3333333333333333,
              "#9c179e"
             ],
             [
              0.4444444444444444,
              "#bd3786"
             ],
             [
              0.5555555555555556,
              "#d8576b"
             ],
             [
              0.6666666666666666,
              "#ed7953"
             ],
             [
              0.7777777777777778,
              "#fb9f3a"
             ],
             [
              0.8888888888888888,
              "#fdca26"
             ],
             [
              1,
              "#f0f921"
             ]
            ],
            "type": "histogram2dcontour"
           }
          ],
          "mesh3d": [
           {
            "colorbar": {
             "outlinewidth": 0,
             "ticks": ""
            },
            "type": "mesh3d"
           }
          ],
          "parcoords": [
           {
            "line": {
             "colorbar": {
              "outlinewidth": 0,
              "ticks": ""
             }
            },
            "type": "parcoords"
           }
          ],
          "pie": [
           {
            "automargin": true,
            "type": "pie"
           }
          ],
          "scatter": [
           {
            "fillpattern": {
             "fillmode": "overlay",
             "size": 10,
             "solidity": 0.2
            },
            "type": "scatter"
           }
          ],
          "scatter3d": [
           {
            "line": {
             "colorbar": {
              "outlinewidth": 0,
              "ticks": ""
             }
            },
            "marker": {
             "colorbar": {
              "outlinewidth": 0,
              "ticks": ""
             }
            },
            "type": "scatter3d"
           }
          ],
          "scattercarpet": [
           {
            "marker": {
             "colorbar": {
              "outlinewidth": 0,
              "ticks": ""
             }
            },
            "type": "scattercarpet"
           }
          ],
          "scattergeo": [
           {
            "marker": {
             "colorbar": {
              "outlinewidth": 0,
              "ticks": ""
             }
            },
            "type": "scattergeo"
           }
          ],
          "scattergl": [
           {
            "marker": {
             "colorbar": {
              "outlinewidth": 0,
              "ticks": ""
             }
            },
            "type": "scattergl"
           }
          ],
          "scattermap": [
           {
            "marker": {
             "colorbar": {
              "outlinewidth": 0,
              "ticks": ""
             }
            },
            "type": "scattermap"
           }
          ],
          "scattermapbox": [
           {
            "marker": {
             "colorbar": {
              "outlinewidth": 0,
              "ticks": ""
             }
            },
            "type": "scattermapbox"
           }
          ],
          "scatterpolar": [
           {
            "marker": {
             "colorbar": {
              "outlinewidth": 0,
              "ticks": ""
             }
            },
            "type": "scatterpolar"
           }
          ],
          "scatterpolargl": [
           {
            "marker": {
             "colorbar": {
              "outlinewidth": 0,
              "ticks": ""
             }
            },
            "type": "scatterpolargl"
           }
          ],
          "scatterternary": [
           {
            "marker": {
             "colorbar": {
              "outlinewidth": 0,
              "ticks": ""
             }
            },
            "type": "scatterternary"
           }
          ],
          "surface": [
           {
            "colorbar": {
             "outlinewidth": 0,
             "ticks": ""
            },
            "colorscale": [
             [
              0,
              "#0d0887"
             ],
             [
              0.1111111111111111,
              "#46039f"
             ],
             [
              0.2222222222222222,
              "#7201a8"
             ],
             [
              0.3333333333333333,
              "#9c179e"
             ],
             [
              0.4444444444444444,
              "#bd3786"
             ],
             [
              0.5555555555555556,
              "#d8576b"
             ],
             [
              0.6666666666666666,
              "#ed7953"
             ],
             [
              0.7777777777777778,
              "#fb9f3a"
             ],
             [
              0.8888888888888888,
              "#fdca26"
             ],
             [
              1,
              "#f0f921"
             ]
            ],
            "type": "surface"
           }
          ],
          "table": [
           {
            "cells": {
             "fill": {
              "color": "#EBF0F8"
             },
             "line": {
              "color": "white"
             }
            },
            "header": {
             "fill": {
              "color": "#C8D4E3"
             },
             "line": {
              "color": "white"
             }
            },
            "type": "table"
           }
          ]
         },
         "layout": {
          "annotationdefaults": {
           "arrowcolor": "#2a3f5f",
           "arrowhead": 0,
           "arrowwidth": 1
          },
          "autotypenumbers": "strict",
          "coloraxis": {
           "colorbar": {
            "outlinewidth": 0,
            "ticks": ""
           }
          },
          "colorscale": {
           "diverging": [
            [
             0,
             "#8e0152"
            ],
            [
             0.1,
             "#c51b7d"
            ],
            [
             0.2,
             "#de77ae"
            ],
            [
             0.3,
             "#f1b6da"
            ],
            [
             0.4,
             "#fde0ef"
            ],
            [
             0.5,
             "#f7f7f7"
            ],
            [
             0.6,
             "#e6f5d0"
            ],
            [
             0.7,
             "#b8e186"
            ],
            [
             0.8,
             "#7fbc41"
            ],
            [
             0.9,
             "#4d9221"
            ],
            [
             1,
             "#276419"
            ]
           ],
           "sequential": [
            [
             0,
             "#0d0887"
            ],
            [
             0.1111111111111111,
             "#46039f"
            ],
            [
             0.2222222222222222,
             "#7201a8"
            ],
            [
             0.3333333333333333,
             "#9c179e"
            ],
            [
             0.4444444444444444,
             "#bd3786"
            ],
            [
             0.5555555555555556,
             "#d8576b"
            ],
            [
             0.6666666666666666,
             "#ed7953"
            ],
            [
             0.7777777777777778,
             "#fb9f3a"
            ],
            [
             0.8888888888888888,
             "#fdca26"
            ],
            [
             1,
             "#f0f921"
            ]
           ],
           "sequentialminus": [
            [
             0,
             "#0d0887"
            ],
            [
             0.1111111111111111,
             "#46039f"
            ],
            [
             0.2222222222222222,
             "#7201a8"
            ],
            [
             0.3333333333333333,
             "#9c179e"
            ],
            [
             0.4444444444444444,
             "#bd3786"
            ],
            [
             0.5555555555555556,
             "#d8576b"
            ],
            [
             0.6666666666666666,
             "#ed7953"
            ],
            [
             0.7777777777777778,
             "#fb9f3a"
            ],
            [
             0.8888888888888888,
             "#fdca26"
            ],
            [
             1,
             "#f0f921"
            ]
           ]
          },
          "colorway": [
           "#636efa",
           "#EF553B",
           "#00cc96",
           "#ab63fa",
           "#FFA15A",
           "#19d3f3",
           "#FF6692",
           "#B6E880",
           "#FF97FF",
           "#FECB52"
          ],
          "font": {
           "color": "#2a3f5f"
          },
          "geo": {
           "bgcolor": "white",
           "lakecolor": "white",
           "landcolor": "#E5ECF6",
           "showlakes": true,
           "showland": true,
           "subunitcolor": "white"
          },
          "hoverlabel": {
           "align": "left"
          },
          "hovermode": "closest",
          "mapbox": {
           "style": "light"
          },
          "paper_bgcolor": "white",
          "plot_bgcolor": "#E5ECF6",
          "polar": {
           "angularaxis": {
            "gridcolor": "white",
            "linecolor": "white",
            "ticks": ""
           },
           "bgcolor": "#E5ECF6",
           "radialaxis": {
            "gridcolor": "white",
            "linecolor": "white",
            "ticks": ""
           }
          },
          "scene": {
           "xaxis": {
            "backgroundcolor": "#E5ECF6",
            "gridcolor": "white",
            "gridwidth": 2,
            "linecolor": "white",
            "showbackground": true,
            "ticks": "",
            "zerolinecolor": "white"
           },
           "yaxis": {
            "backgroundcolor": "#E5ECF6",
            "gridcolor": "white",
            "gridwidth": 2,
            "linecolor": "white",
            "showbackground": true,
            "ticks": "",
            "zerolinecolor": "white"
           },
           "zaxis": {
            "backgroundcolor": "#E5ECF6",
            "gridcolor": "white",
            "gridwidth": 2,
            "linecolor": "white",
            "showbackground": true,
            "ticks": "",
            "zerolinecolor": "white"
           }
          },
          "shapedefaults": {
           "line": {
            "color": "#2a3f5f"
           }
          },
          "ternary": {
           "aaxis": {
            "gridcolor": "white",
            "linecolor": "white",
            "ticks": ""
           },
           "baxis": {
            "gridcolor": "white",
            "linecolor": "white",
            "ticks": ""
           },
           "bgcolor": "#E5ECF6",
           "caxis": {
            "gridcolor": "white",
            "linecolor": "white",
            "ticks": ""
           }
          },
          "title": {
           "x": 0.05
          },
          "xaxis": {
           "automargin": true,
           "gridcolor": "white",
           "linecolor": "white",
           "ticks": "",
           "title": {
            "standoff": 15
           },
           "zerolinecolor": "white",
           "zerolinewidth": 2
          },
          "yaxis": {
           "automargin": true,
           "gridcolor": "white",
           "linecolor": "white",
           "ticks": "",
           "title": {
            "standoff": 15
           },
           "zerolinecolor": "white",
           "zerolinewidth": 2
          }
         }
        },
        "title": {
         "font": {
          "size": 24
         },
         "text": "The winning countries and the years of their victories",
         "x": 0.5,
         "xanchor": "center"
        }
       }
      }
     },
     "metadata": {},
     "output_type": "display_data"
    }
   ],
   "source": [
    "winners = df[df['final_place'] == 1].groupby('country')['year'].agg(['count', lambda x: ', '.join(map(str, sorted(x)))])\n",
    "winners.columns = ['wins', 'years']\n",
    "winners = winners.reset_index()\n",
    "\n",
    "winners_sorted = winners.sort_values('wins', ascending=False)\n",
    "\n",
    "# Получаем палитру YlOrBr из seaborn и преобразуем в HEX-коды\n",
    "palette = sns.color_palette(\"YlOrBr\", n_colors=len(winners_sorted))\n",
    "colors = [mcolors.rgb2hex(color) for color in palette]\n",
    "\n",
    "fig = go.Figure(go.Pie(\n",
    "    labels=winners_sorted['country'],\n",
    "    values=winners_sorted['wins'],\n",
    "    marker=dict(colors=colors),\n",
    "    hole=0.3,\n",
    "    textinfo='label+percent',\n",
    "    textposition='inside',\n",
    "    hoverinfo='label+value+percent',\n",
    "    customdata=winners_sorted['years'],\n",
    "    hovertemplate='<b>%{label}</b><br>Побед: %{value}<br>Годы: %{customdata}<extra></extra>',\n",
    "    direction='counterclockwise',\n",
    "    sort=False\n",
    "))\n",
    "\n",
    "fig.update_layout(\n",
    "    title=dict(\n",
    "        text='The winning countries and the years of their victories',\n",
    "        x=0.5,\n",
    "        xanchor='center',\n",
    "        font=dict(size=24)\n",
    "    ),\n",
    "    showlegend=False,\n",
    "    margin=dict(t=80, b=20, l=20, r=20),\n",
    "    height=700,\n",
    "    annotations=[dict(\n",
    "        text=f\"Total wins: {winners['wins'].sum()}\",\n",
    "        x=0.5, y=0.5,\n",
    "        font_size=16,\n",
    "        showarrow=False\n",
    "    )]\n",
    ")\n",
    "\n",
    "fig.show()"
   ]
  },
  {
   "cell_type": "markdown",
   "metadata": {
    "id": "t9Lk5W9fl7Z-"
   },
   "source": [
    "Лидером оказалась **Швеция** с тремя победами. Второе место заняла Украина с двумя победами, остальные 9 стран выгрывали по разу."
   ]
  },
  {
   "cell_type": "markdown",
   "metadata": {
    "id": "xSf_PxzKwrmy"
   },
   "source": [
    "## Задание 6"
   ]
  },
  {
   "cell_type": "markdown",
   "metadata": {
    "id": "XfsIogcJwrmz"
   },
   "source": [
    "На вертикальной столбчатой диаграмме с группировкой покажите количество мужчин и женщин среди участников в каждом году, представленном в датасете."
   ]
  },
  {
   "cell_type": "code",
   "execution_count": 10,
   "metadata": {
    "colab": {
     "base_uri": "https://localhost:8080/",
     "height": 617
    },
    "id": "KfZ0mYtMedlu",
    "outputId": "42490a46-99be-4826-b79e-c284acdee86d"
   },
   "outputs": [
    {
     "data": {
      "application/vnd.plotly.v1+json": {
       "config": {
        "plotlyServerURL": "https://plot.ly"
       },
       "data": [
        {
         "alignmentgroup": "True",
         "hovertemplate": "Gender=Female<br>Year=%{x}<br>Number of paryicipants=%{y}<extra></extra>",
         "legendgroup": "Female",
         "marker": {
          "color": "#636efa",
          "pattern": {
           "shape": ""
          }
         },
         "name": "Female",
         "offsetgroup": "Female",
         "orientation": "v",
         "showlegend": true,
         "textposition": "auto",
         "type": "bar",
         "x": {
          "bdata": "2QfaB9sH3AfdB94H3wfgB+EH4gfjB+UH5gfnBw==",
          "dtype": "i2"
         },
         "xaxis": "x",
         "y": {
          "bdata": "FhAVFxMTEhYVFRITExA=",
          "dtype": "i1"
         },
         "yaxis": "y"
        },
        {
         "alignmentgroup": "True",
         "hovertemplate": "Gender=Male<br>Year=%{x}<br>Number of paryicipants=%{y}<extra></extra>",
         "legendgroup": "Male",
         "marker": {
          "color": "#EF553B",
          "pattern": {
           "shape": ""
          }
         },
         "name": "Male",
         "offsetgroup": "Male",
         "orientation": "v",
         "showlegend": true,
         "textposition": "auto",
         "type": "bar",
         "x": {
          "bdata": "2QfaB9sH3AfdB94H3wfgB+EH4gfjB+UH5gfnBw==",
          "dtype": "i2"
         },
         "xaxis": "x",
         "y": {
          "bdata": "DxITEg8ODhIREhMTFBQ=",
          "dtype": "i1"
         },
         "yaxis": "y"
        },
        {
         "alignmentgroup": "True",
         "hovertemplate": "Gender=Mix<br>Year=%{x}<br>Number of paryicipants=%{y}<extra></extra>",
         "legendgroup": "Mix",
         "marker": {
          "color": "#00cc96",
          "pattern": {
           "shape": ""
          }
         },
         "name": "Mix",
         "offsetgroup": "Mix",
         "orientation": "v",
         "showlegend": true,
         "textposition": "auto",
         "type": "bar",
         "x": {
          "bdata": "2QfaB9sH3AfdB94H3wfgB+EH4gfjB+UH5gfnBw==",
          "dtype": "i2"
         },
         "xaxis": "x",
         "y": {
          "bdata": "BQUDAQUEBwIEBAQBAQE=",
          "dtype": "i1"
         },
         "yaxis": "y"
        }
       ],
       "layout": {
        "bargap": 0.2,
        "barmode": "group",
        "height": 600,
        "legend": {
         "title": {
          "text": "Gender"
         },
         "tracegroupgap": 0
        },
        "template": {
         "data": {
          "bar": [
           {
            "error_x": {
             "color": "#2a3f5f"
            },
            "error_y": {
             "color": "#2a3f5f"
            },
            "marker": {
             "line": {
              "color": "#E5ECF6",
              "width": 0.5
             },
             "pattern": {
              "fillmode": "overlay",
              "size": 10,
              "solidity": 0.2
             }
            },
            "type": "bar"
           }
          ],
          "barpolar": [
           {
            "marker": {
             "line": {
              "color": "#E5ECF6",
              "width": 0.5
             },
             "pattern": {
              "fillmode": "overlay",
              "size": 10,
              "solidity": 0.2
             }
            },
            "type": "barpolar"
           }
          ],
          "carpet": [
           {
            "aaxis": {
             "endlinecolor": "#2a3f5f",
             "gridcolor": "white",
             "linecolor": "white",
             "minorgridcolor": "white",
             "startlinecolor": "#2a3f5f"
            },
            "baxis": {
             "endlinecolor": "#2a3f5f",
             "gridcolor": "white",
             "linecolor": "white",
             "minorgridcolor": "white",
             "startlinecolor": "#2a3f5f"
            },
            "type": "carpet"
           }
          ],
          "choropleth": [
           {
            "colorbar": {
             "outlinewidth": 0,
             "ticks": ""
            },
            "type": "choropleth"
           }
          ],
          "contour": [
           {
            "colorbar": {
             "outlinewidth": 0,
             "ticks": ""
            },
            "colorscale": [
             [
              0,
              "#0d0887"
             ],
             [
              0.1111111111111111,
              "#46039f"
             ],
             [
              0.2222222222222222,
              "#7201a8"
             ],
             [
              0.3333333333333333,
              "#9c179e"
             ],
             [
              0.4444444444444444,
              "#bd3786"
             ],
             [
              0.5555555555555556,
              "#d8576b"
             ],
             [
              0.6666666666666666,
              "#ed7953"
             ],
             [
              0.7777777777777778,
              "#fb9f3a"
             ],
             [
              0.8888888888888888,
              "#fdca26"
             ],
             [
              1,
              "#f0f921"
             ]
            ],
            "type": "contour"
           }
          ],
          "contourcarpet": [
           {
            "colorbar": {
             "outlinewidth": 0,
             "ticks": ""
            },
            "type": "contourcarpet"
           }
          ],
          "heatmap": [
           {
            "colorbar": {
             "outlinewidth": 0,
             "ticks": ""
            },
            "colorscale": [
             [
              0,
              "#0d0887"
             ],
             [
              0.1111111111111111,
              "#46039f"
             ],
             [
              0.2222222222222222,
              "#7201a8"
             ],
             [
              0.3333333333333333,
              "#9c179e"
             ],
             [
              0.4444444444444444,
              "#bd3786"
             ],
             [
              0.5555555555555556,
              "#d8576b"
             ],
             [
              0.6666666666666666,
              "#ed7953"
             ],
             [
              0.7777777777777778,
              "#fb9f3a"
             ],
             [
              0.8888888888888888,
              "#fdca26"
             ],
             [
              1,
              "#f0f921"
             ]
            ],
            "type": "heatmap"
           }
          ],
          "histogram": [
           {
            "marker": {
             "pattern": {
              "fillmode": "overlay",
              "size": 10,
              "solidity": 0.2
             }
            },
            "type": "histogram"
           }
          ],
          "histogram2d": [
           {
            "colorbar": {
             "outlinewidth": 0,
             "ticks": ""
            },
            "colorscale": [
             [
              0,
              "#0d0887"
             ],
             [
              0.1111111111111111,
              "#46039f"
             ],
             [
              0.2222222222222222,
              "#7201a8"
             ],
             [
              0.3333333333333333,
              "#9c179e"
             ],
             [
              0.4444444444444444,
              "#bd3786"
             ],
             [
              0.5555555555555556,
              "#d8576b"
             ],
             [
              0.6666666666666666,
              "#ed7953"
             ],
             [
              0.7777777777777778,
              "#fb9f3a"
             ],
             [
              0.8888888888888888,
              "#fdca26"
             ],
             [
              1,
              "#f0f921"
             ]
            ],
            "type": "histogram2d"
           }
          ],
          "histogram2dcontour": [
           {
            "colorbar": {
             "outlinewidth": 0,
             "ticks": ""
            },
            "colorscale": [
             [
              0,
              "#0d0887"
             ],
             [
              0.1111111111111111,
              "#46039f"
             ],
             [
              0.2222222222222222,
              "#7201a8"
             ],
             [
              0.3333333333333333,
              "#9c179e"
             ],
             [
              0.4444444444444444,
              "#bd3786"
             ],
             [
              0.5555555555555556,
              "#d8576b"
             ],
             [
              0.6666666666666666,
              "#ed7953"
             ],
             [
              0.7777777777777778,
              "#fb9f3a"
             ],
             [
              0.8888888888888888,
              "#fdca26"
             ],
             [
              1,
              "#f0f921"
             ]
            ],
            "type": "histogram2dcontour"
           }
          ],
          "mesh3d": [
           {
            "colorbar": {
             "outlinewidth": 0,
             "ticks": ""
            },
            "type": "mesh3d"
           }
          ],
          "parcoords": [
           {
            "line": {
             "colorbar": {
              "outlinewidth": 0,
              "ticks": ""
             }
            },
            "type": "parcoords"
           }
          ],
          "pie": [
           {
            "automargin": true,
            "type": "pie"
           }
          ],
          "scatter": [
           {
            "fillpattern": {
             "fillmode": "overlay",
             "size": 10,
             "solidity": 0.2
            },
            "type": "scatter"
           }
          ],
          "scatter3d": [
           {
            "line": {
             "colorbar": {
              "outlinewidth": 0,
              "ticks": ""
             }
            },
            "marker": {
             "colorbar": {
              "outlinewidth": 0,
              "ticks": ""
             }
            },
            "type": "scatter3d"
           }
          ],
          "scattercarpet": [
           {
            "marker": {
             "colorbar": {
              "outlinewidth": 0,
              "ticks": ""
             }
            },
            "type": "scattercarpet"
           }
          ],
          "scattergeo": [
           {
            "marker": {
             "colorbar": {
              "outlinewidth": 0,
              "ticks": ""
             }
            },
            "type": "scattergeo"
           }
          ],
          "scattergl": [
           {
            "marker": {
             "colorbar": {
              "outlinewidth": 0,
              "ticks": ""
             }
            },
            "type": "scattergl"
           }
          ],
          "scattermap": [
           {
            "marker": {
             "colorbar": {
              "outlinewidth": 0,
              "ticks": ""
             }
            },
            "type": "scattermap"
           }
          ],
          "scattermapbox": [
           {
            "marker": {
             "colorbar": {
              "outlinewidth": 0,
              "ticks": ""
             }
            },
            "type": "scattermapbox"
           }
          ],
          "scatterpolar": [
           {
            "marker": {
             "colorbar": {
              "outlinewidth": 0,
              "ticks": ""
             }
            },
            "type": "scatterpolar"
           }
          ],
          "scatterpolargl": [
           {
            "marker": {
             "colorbar": {
              "outlinewidth": 0,
              "ticks": ""
             }
            },
            "type": "scatterpolargl"
           }
          ],
          "scatterternary": [
           {
            "marker": {
             "colorbar": {
              "outlinewidth": 0,
              "ticks": ""
             }
            },
            "type": "scatterternary"
           }
          ],
          "surface": [
           {
            "colorbar": {
             "outlinewidth": 0,
             "ticks": ""
            },
            "colorscale": [
             [
              0,
              "#0d0887"
             ],
             [
              0.1111111111111111,
              "#46039f"
             ],
             [
              0.2222222222222222,
              "#7201a8"
             ],
             [
              0.3333333333333333,
              "#9c179e"
             ],
             [
              0.4444444444444444,
              "#bd3786"
             ],
             [
              0.5555555555555556,
              "#d8576b"
             ],
             [
              0.6666666666666666,
              "#ed7953"
             ],
             [
              0.7777777777777778,
              "#fb9f3a"
             ],
             [
              0.8888888888888888,
              "#fdca26"
             ],
             [
              1,
              "#f0f921"
             ]
            ],
            "type": "surface"
           }
          ],
          "table": [
           {
            "cells": {
             "fill": {
              "color": "#EBF0F8"
             },
             "line": {
              "color": "white"
             }
            },
            "header": {
             "fill": {
              "color": "#C8D4E3"
             },
             "line": {
              "color": "white"
             }
            },
            "type": "table"
           }
          ]
         },
         "layout": {
          "annotationdefaults": {
           "arrowcolor": "#2a3f5f",
           "arrowhead": 0,
           "arrowwidth": 1
          },
          "autotypenumbers": "strict",
          "coloraxis": {
           "colorbar": {
            "outlinewidth": 0,
            "ticks": ""
           }
          },
          "colorscale": {
           "diverging": [
            [
             0,
             "#8e0152"
            ],
            [
             0.1,
             "#c51b7d"
            ],
            [
             0.2,
             "#de77ae"
            ],
            [
             0.3,
             "#f1b6da"
            ],
            [
             0.4,
             "#fde0ef"
            ],
            [
             0.5,
             "#f7f7f7"
            ],
            [
             0.6,
             "#e6f5d0"
            ],
            [
             0.7,
             "#b8e186"
            ],
            [
             0.8,
             "#7fbc41"
            ],
            [
             0.9,
             "#4d9221"
            ],
            [
             1,
             "#276419"
            ]
           ],
           "sequential": [
            [
             0,
             "#0d0887"
            ],
            [
             0.1111111111111111,
             "#46039f"
            ],
            [
             0.2222222222222222,
             "#7201a8"
            ],
            [
             0.3333333333333333,
             "#9c179e"
            ],
            [
             0.4444444444444444,
             "#bd3786"
            ],
            [
             0.5555555555555556,
             "#d8576b"
            ],
            [
             0.6666666666666666,
             "#ed7953"
            ],
            [
             0.7777777777777778,
             "#fb9f3a"
            ],
            [
             0.8888888888888888,
             "#fdca26"
            ],
            [
             1,
             "#f0f921"
            ]
           ],
           "sequentialminus": [
            [
             0,
             "#0d0887"
            ],
            [
             0.1111111111111111,
             "#46039f"
            ],
            [
             0.2222222222222222,
             "#7201a8"
            ],
            [
             0.3333333333333333,
             "#9c179e"
            ],
            [
             0.4444444444444444,
             "#bd3786"
            ],
            [
             0.5555555555555556,
             "#d8576b"
            ],
            [
             0.6666666666666666,
             "#ed7953"
            ],
            [
             0.7777777777777778,
             "#fb9f3a"
            ],
            [
             0.8888888888888888,
             "#fdca26"
            ],
            [
             1,
             "#f0f921"
            ]
           ]
          },
          "colorway": [
           "#636efa",
           "#EF553B",
           "#00cc96",
           "#ab63fa",
           "#FFA15A",
           "#19d3f3",
           "#FF6692",
           "#B6E880",
           "#FF97FF",
           "#FECB52"
          ],
          "font": {
           "color": "#2a3f5f"
          },
          "geo": {
           "bgcolor": "white",
           "lakecolor": "white",
           "landcolor": "#E5ECF6",
           "showlakes": true,
           "showland": true,
           "subunitcolor": "white"
          },
          "hoverlabel": {
           "align": "left"
          },
          "hovermode": "closest",
          "mapbox": {
           "style": "light"
          },
          "paper_bgcolor": "white",
          "plot_bgcolor": "#E5ECF6",
          "polar": {
           "angularaxis": {
            "gridcolor": "white",
            "linecolor": "white",
            "ticks": ""
           },
           "bgcolor": "#E5ECF6",
           "radialaxis": {
            "gridcolor": "white",
            "linecolor": "white",
            "ticks": ""
           }
          },
          "scene": {
           "xaxis": {
            "backgroundcolor": "#E5ECF6",
            "gridcolor": "white",
            "gridwidth": 2,
            "linecolor": "white",
            "showbackground": true,
            "ticks": "",
            "zerolinecolor": "white"
           },
           "yaxis": {
            "backgroundcolor": "#E5ECF6",
            "gridcolor": "white",
            "gridwidth": 2,
            "linecolor": "white",
            "showbackground": true,
            "ticks": "",
            "zerolinecolor": "white"
           },
           "zaxis": {
            "backgroundcolor": "#E5ECF6",
            "gridcolor": "white",
            "gridwidth": 2,
            "linecolor": "white",
            "showbackground": true,
            "ticks": "",
            "zerolinecolor": "white"
           }
          },
          "shapedefaults": {
           "line": {
            "color": "#2a3f5f"
           }
          },
          "ternary": {
           "aaxis": {
            "gridcolor": "white",
            "linecolor": "white",
            "ticks": ""
           },
           "baxis": {
            "gridcolor": "white",
            "linecolor": "white",
            "ticks": ""
           },
           "bgcolor": "#E5ECF6",
           "caxis": {
            "gridcolor": "white",
            "linecolor": "white",
            "ticks": ""
           }
          },
          "title": {
           "x": 0.05
          },
          "xaxis": {
           "automargin": true,
           "gridcolor": "white",
           "linecolor": "white",
           "ticks": "",
           "title": {
            "standoff": 15
           },
           "zerolinecolor": "white",
           "zerolinewidth": 2
          },
          "yaxis": {
           "automargin": true,
           "gridcolor": "white",
           "linecolor": "white",
           "ticks": "",
           "title": {
            "standoff": 15
           },
           "zerolinecolor": "white",
           "zerolinewidth": 2
          }
         }
        },
        "title": {
         "font": {
          "size": 22
         },
         "text": "Number of men and women among the participants by year",
         "x": 0.5
        },
        "xaxis": {
         "anchor": "y",
         "domain": [
          0,
          1
         ],
         "title": {
          "text": "Year"
         },
         "type": "category"
        },
        "yaxis": {
         "anchor": "x",
         "domain": [
          0,
          1
         ],
         "title": {
          "text": "Number of paryicipants"
         }
        }
       }
      }
     },
     "metadata": {},
     "output_type": "display_data"
    }
   ],
   "source": [
    "gender_year_counts = df.groupby(['year', 'gender']).size().reset_index(name='count')\n",
    "\n",
    "fig = px.bar(\n",
    "    gender_year_counts,\n",
    "    x='year',\n",
    "    y='count',\n",
    "    color='gender',\n",
    "    barmode='group',\n",
    "    labels={'count': 'Number of paryicipants', 'year': 'Year', 'gender': 'Gender'},\n",
    "    title='Number of men and women among the participants by year'\n",
    ")\n",
    "\n",
    "fig.update_layout(\n",
    "    xaxis=dict(type='category'),\n",
    "    title=dict(x=0.5, font=dict(size=22)),\n",
    "    bargap=0.2,\n",
    "    height=600\n",
    ")\n",
    "\n",
    "fig.show()\n"
   ]
  },
  {
   "cell_type": "markdown",
   "metadata": {
    "id": "xh0sE8YMnnn9"
   },
   "source": [
    "Можно заметить, что с 2009 года превалировало количество женщин и только ближе к настоящему времени колиечество участников мужского пола стало \"догонять\" женщин и в 2022 и 2023 превысило количество женщин."
   ]
  },
  {
   "cell_type": "markdown",
   "metadata": {
    "id": "CxGr4PzCwrvk"
   },
   "source": [
    "## Задание 7"
   ]
  },
  {
   "cell_type": "markdown",
   "metadata": {
    "id": "40NA2CMZwrvk"
   },
   "source": [
    "Постройте график плотности распределения данных в столбце `danceability` (танцевальность), сгруппированных по категориям жанрам."
   ]
  },
  {
   "cell_type": "code",
   "execution_count": 11,
   "metadata": {
    "colab": {
     "base_uri": "https://localhost:8080/",
     "height": 701
    },
    "id": "aj1r5qUhqeIq",
    "outputId": "f96a7071-e0a1-4f25-eaa2-653d08ac5739"
   },
   "outputs": [
    {
     "data": {
      "image/png": "[encoded data removed]",
      "text/plain": [
       "<Figure size 1200x700 with 1 Axes>"
      ]
     },
     "metadata": {},
     "output_type": "display_data"
    }
   ],
   "source": [
    "# Фильтрация данных\n",
    "df_clean = df[(df['danceability'] >= 0) & (df['danceability'] <= 100)]\n",
    "\n",
    "genres = df_clean['style'].unique()\n",
    "\n",
    "palette = sns.color_palette(\"husl\", len(genres))\n",
    "\n",
    "sns.set_style(\"whitegrid\")\n",
    "plt.figure(figsize=(12, 7))\n",
    "\n",
    "for i, genre in enumerate(genres):\n",
    "    sns.kdeplot(\n",
    "        data=df_clean[df_clean['style'] == genre],\n",
    "        x='danceability',\n",
    "        label=genre,\n",
    "        fill=True,\n",
    "        alpha=0.4,\n",
    "        linewidth=2,\n",
    "        bw_adjust=0.5,\n",
    "        cut=0,\n",
    "        color=palette[i]\n",
    "    )\n",
    "\n",
    "plt.xlim(0, 100)\n",
    "plt.ylim(0, None)\n",
    "\n",
    "for i, genre in enumerate(genres):\n",
    "    mean_val = df_clean[df_clean['style'] == genre]['danceability'].mean()\n",
    "    plt.axvline(mean_val, color=palette[i], linestyle='--', alpha=0.5)\n",
    "\n",
    "plt.title('The distribution of danceability by genre', fontsize=16, pad=20)\n",
    "plt.xlabel('Dancebility (0-100)', fontsize=12)\n",
    "plt.ylabel('Probability density', fontsize=12)\n",
    "plt.legend(\n",
    "    title='Genres',\n",
    "    bbox_to_anchor=(1.05, 1),\n",
    "    loc='upper left'\n",
    ")\n",
    "\n",
    "plt.tight_layout()\n",
    "plt.show()"
   ]
  },
  {
   "cell_type": "markdown",
   "metadata": {
    "id": "a15gmgdN26Gh"
   },
   "source": [
    "**Явные лидеры по танцевальности:**\n",
    "\n",
    "Dance и Pop демонстрируют самый высокий пик плотности в диапазоне 60-80, что соответствует ожиданиям — эти жанры специально создаются для танцев.\n",
    "\n",
    "Opera имеет низкие значения (20-40), что логично, так как она не ориентирована на танцевальность.\n",
    "\n",
    "**Распределение по жанрам:**\n",
    "\n",
    "Rock и Ballad занимают среднее положение (40-60), отражая их универсальность — некоторые композиции могут быть танцевальными, другие нет.\n",
    "\n",
    "Traditional показывает самый широкий разброс, что может указывать на разнообразие поджанров в этой категории.\n"
   ]
  },
  {
   "cell_type": "markdown",
   "metadata": {
    "id": "oMe9BeZ7wr3n"
   },
   "source": [
    "## Задание 8"
   ]
  },
  {
   "cell_type": "markdown",
   "metadata": {
    "id": "6mSqhSXkwr3o"
   },
   "source": [
    "Покажите на ящиковой диаграмме взяимосвязь позиции в финальном рейтинге со страной. Итоги каких стран похожи между собой?"
   ]
  },
  {
   "cell_type": "code",
   "execution_count": 12,
   "metadata": {
    "colab": {
     "base_uri": "https://localhost:8080/",
     "height": 737
    },
    "id": "iStdb1ZHwr3o",
    "outputId": "edf4bc99-f3d6-4f35-9c0f-ba961d5a9485"
   },
   "outputs": [
    {
     "data": {
      "application/vnd.plotly.v1+json": {
       "config": {
        "plotlyServerURL": "https://plot.ly"
       },
       "data": [
        {
         "boxmean": false,
         "boxpoints": false,
         "hoverinfo": "y+name",
         "line": {
          "color": "navy"
         },
         "marker": {
          "color": "royalblue"
         },
         "name": "Turkey",
         "orientation": "v",
         "type": "box",
         "width": 0.6,
         "y": {
          "bdata": "AAAAAAAAHEAAAAAAAAD4fwAAAAAAAABAAAAAAAAAEEA=",
          "dtype": "f8"
         }
        },
        {
         "boxmean": false,
         "boxpoints": false,
         "hoverinfo": "y+name",
         "line": {
          "color": "navy"
         },
         "marker": {
          "color": "royalblue"
         },
         "name": "Sweden",
         "orientation": "v",
         "type": "box",
         "width": 0.6,
         "y": {
          "bdata": "AAAAAAAA8D8AAAAAAAAQQAAAAAAAACxAAAAAAAAAFEAAAAAAAAAcQAAAAAAAABRAAAAAAAAAFEAAAAAAAADwPwAAAAAAAAhAAAAAAAAALEAAAAAAAADwPwAAAAAAAAhAAAAAAAAA+H8AAAAAAAA1QA==",
          "dtype": "f8"
         }
        },
        {
         "boxmean": false,
         "boxpoints": false,
         "hoverinfo": "y+name",
         "line": {
          "color": "navy"
         },
         "marker": {
          "color": "royalblue"
         },
         "name": "Italy",
         "orientation": "v",
         "type": "box",
         "width": 0.6,
         "y": {
          "bdata": "AAAAAAAAEEAAAAAAAAAYQAAAAAAAAPA/AAAAAAAAAEAAAAAAAAAUQAAAAAAAABhAAAAAAAAAMEAAAAAAAAAIQAAAAAAAADVAAAAAAAAAHEAAAAAAAAAiQAAAAAAAAABA",
          "dtype": "f8"
         }
        },
        {
         "boxmean": false,
         "boxpoints": false,
         "hoverinfo": "y+name",
         "line": {
          "color": "navy"
         },
         "marker": {
          "color": "royalblue"
         },
         "name": "Russia",
         "orientation": "v",
         "type": "box",
         "width": 0.6,
         "y": {
          "bdata": "AAAAAAAAIkAAAAAAAAAIQAAAAAAAAPh/AAAAAAAACEAAAAAAAAAAQAAAAAAAABxAAAAAAAAAFEAAAAAAAAAAQAAAAAAAADBAAAAAAAAAJkAAAAAAAAAmQA==",
          "dtype": "f8"
         }
        },
        {
         "boxmean": false,
         "boxpoints": false,
         "hoverinfo": "y+name",
         "line": {
          "color": "navy"
         },
         "marker": {
          "color": "royalblue"
         },
         "name": "Ukraine",
         "orientation": "v",
         "type": "box",
         "width": 0.6,
         "y": {
          "bdata": "AAAAAAAAGEAAAAAAAADwPwAAAAAAABRAAAAAAAAAMUAAAAAAAAA4QAAAAAAAAPA/AAAAAAAAGEAAAAAAAAAIQAAAAAAAAC5AAAAAAAAAEEAAAAAAAAAkQAAAAAAAAChA",
          "dtype": "f8"
         }
        },
        {
         "boxmean": false,
         "boxpoints": false,
         "hoverinfo": "y+name",
         "line": {
          "color": "navy"
         },
         "marker": {
          "color": "royalblue"
         },
         "name": "Bulgaria",
         "orientation": "v",
         "type": "box",
         "width": 0.6,
         "y": {
          "bdata": "AAAAAAAA+H8AAAAAAAAmQAAAAAAAACxAAAAAAAAAAEAAAAAAAAAQQAAAAAAAAPh/AAAAAAAA+H8AAAAAAAD4fwAAAAAAAPh/AAAAAAAA+H8=",
          "dtype": "f8"
         }
        },
        {
         "boxmean": false,
         "boxpoints": false,
         "hoverinfo": "y+name",
         "line": {
          "color": "navy"
         },
         "marker": {
          "color": "royalblue"
         },
         "name": "Estonia",
         "orientation": "v",
         "type": "box",
         "width": 0.6,
         "y": {
          "bdata": "AAAAAAAAIEAAAAAAAAAqQAAAAAAAAPh/AAAAAAAANEAAAAAAAAAgQAAAAAAAAPh/AAAAAAAA+H8AAAAAAAAcQAAAAAAAAPh/AAAAAAAANEAAAAAAAAAYQAAAAAAAADhAAAAAAAAA+H8AAAAAAAAYQA==",
          "dtype": "f8"
         }
        },
        {
         "boxmean": false,
         "boxpoints": false,
         "hoverinfo": "y+name",
         "line": {
          "color": "navy"
         },
         "marker": {
          "color": "royalblue"
         },
         "name": "Belgium",
         "orientation": "v",
         "type": "box",
         "width": 0.6,
         "y": {
          "bdata": "AAAAAAAAHEAAAAAAAAAzQAAAAAAAADNAAAAAAAAA+H8AAAAAAAD4fwAAAAAAABBAAAAAAAAAJEAAAAAAAAAQQAAAAAAAAPh/AAAAAAAAKEAAAAAAAAD4fwAAAAAAAPh/AAAAAAAAGEAAAAAAAAD4fw==",
          "dtype": "f8"
         }
        },
        {
         "boxmean": false,
         "boxpoints": false,
         "hoverinfo": "y+name",
         "line": {
          "color": "navy"
         },
         "marker": {
          "color": "royalblue"
         },
         "name": "Denmark",
         "orientation": "v",
         "type": "box",
         "width": 0.6,
         "y": {
          "bdata": "AAAAAAAA+H8AAAAAAAD4fwAAAAAAAPh/AAAAAAAAKEAAAAAAAAAiQAAAAAAAADRAAAAAAAAA+H8AAAAAAAD4fwAAAAAAACJAAAAAAAAA8D8AAAAAAAA3QAAAAAAAABRAAAAAAAAAEEAAAAAAAAAqQA==",
          "dtype": "f8"
         }
        },
        {
         "boxmean": false,
         "boxpoints": false,
         "hoverinfo": "y+name",
         "line": {
          "color": "navy"
         },
         "marker": {
          "color": "royalblue"
         },
         "name": "Australia",
         "orientation": "v",
         "type": "box",
         "width": 0.6,
         "y": {
          "bdata": "AAAAAAAAIkAAAAAAAAAuQAAAAAAAAPh/AAAAAAAAIkAAAAAAAAA0QAAAAAAAACJAAAAAAAAAAEA=",
          "dtype": "f8"
         }
        },
        {
         "boxmean": false,
         "boxpoints": false,
         "hoverinfo": "y+name",
         "line": {
          "color": "navy"
         },
         "marker": {
          "color": "royalblue"
         },
         "name": "Norway",
         "orientation": "v",
         "type": "box",
         "width": 0.6,
         "y": {
          "bdata": "AAAAAAAAFEAAAAAAAAAkQAAAAAAAADJAAAAAAAAAGEAAAAAAAAAuQAAAAAAAACRAAAAAAAAA+H8AAAAAAAAgQAAAAAAAACBAAAAAAAAAEEAAAAAAAAA6QAAAAAAAAPh/AAAAAAAANEAAAAAAAADwPw==",
          "dtype": "f8"
         }
        },
        {
         "boxmean": false,
         "boxpoints": false,
         "hoverinfo": "y+name",
         "line": {
          "color": "navy"
         },
         "marker": {
          "color": "royalblue"
         },
         "name": "Azerbaijan",
         "orientation": "v",
         "type": "box",
         "width": 0.6,
         "y": {
          "bdata": "AAAAAAAA+H8AAAAAAAAwQAAAAAAAADRAAAAAAAAAIEAAAAAAAAD4fwAAAAAAACxAAAAAAAAAMUAAAAAAAAAoQAAAAAAAADZAAAAAAAAAAEAAAAAAAAAQQAAAAAAAAPA/AAAAAAAAFEAAAAAAAAAIQA==",
          "dtype": "f8"
         }
        },
        {
         "boxmean": false,
         "boxpoints": false,
         "hoverinfo": "y+name",
         "line": {
          "color": "navy"
         },
         "marker": {
          "color": "royalblue"
         },
         "name": "Greece",
         "orientation": "v",
         "type": "box",
         "width": 0.6,
         "y": {
          "bdata": "AAAAAAAA+H8AAAAAAAAgQAAAAAAAACRAAAAAAAAANUAAAAAAAAD4fwAAAAAAADNAAAAAAAAA+H8AAAAAAAAzQAAAAAAAADRAAAAAAAAAGEAAAAAAAAAxQAAAAAAAABxAAAAAAAAAIEAAAAAAAAAcQA==",
          "dtype": "f8"
         }
        },
        {
         "boxmean": false,
         "boxpoints": false,
         "hoverinfo": "y+name",
         "line": {
          "color": "navy"
         },
         "marker": {
          "color": "royalblue"
         },
         "name": "North Macedonia",
         "orientation": "v",
         "type": "box",
         "width": 0.6,
         "y": {
          "bdata": "AAAAAAAA+H8AAAAAAAD4fwAAAAAAABxAAAAAAAAA+H8AAAAAAAD4fwAAAAAAAPh/AAAAAAAA+H8AAAAAAAD4fwAAAAAAAPh/AAAAAAAAKkAAAAAAAAD4fwAAAAAAAPh/AAAAAAAA+H8=",
          "dtype": "f8"
         }
        },
        {
         "boxmean": false,
         "boxpoints": false,
         "hoverinfo": "y+name",
         "line": {
          "color": "navy"
         },
         "marker": {
          "color": "royalblue"
         },
         "name": "Latvia",
         "orientation": "v",
         "type": "box",
         "width": 0.6,
         "y": {
          "bdata": "AAAAAAAA+H8AAAAAAAD4fwAAAAAAAPh/AAAAAAAA+H8AAAAAAAD4fwAAAAAAAPh/AAAAAAAALkAAAAAAAAAYQAAAAAAAAPh/AAAAAAAA+H8AAAAAAAD4fwAAAAAAAPh/AAAAAAAA+H8AAAAAAAD4fw==",
          "dtype": "f8"
         }
        },
        {
         "boxmean": false,
         "boxpoints": false,
         "hoverinfo": "y+name",
         "line": {
          "color": "navy"
         },
         "marker": {
          "color": "royalblue"
         },
         "name": "Netherlands",
         "orientation": "v",
         "type": "box",
         "width": 0.6,
         "y": {
          "bdata": "AAAAAAAA+H8AAAAAAAAmQAAAAAAAACZAAAAAAAAA8D8AAAAAAAAyQAAAAAAAACZAAAAAAAAAJkAAAAAAAAD4fwAAAAAAAABAAAAAAAAAIkAAAAAAAAD4fwAAAAAAAPh/AAAAAAAA+H8AAAAAAAD4fw==",
          "dtype": "f8"
         }
        },
        {
         "boxmean": false,
         "boxpoints": false,
         "hoverinfo": "y+name",
         "line": {
          "color": "navy"
         },
         "marker": {
          "color": "royalblue"
         },
         "name": "Czech Republic",
         "orientation": "v",
         "type": "box",
         "width": 0.6,
         "y": {
          "bdata": "AAAAAAAAJEAAAAAAAAA2QAAAAAAAAPh/AAAAAAAAJkAAAAAAAAAYQAAAAAAAAPh/AAAAAAAAOUAAAAAAAAD4fwAAAAAAAPh/",
          "dtype": "f8"
         }
        },
        {
         "boxmean": false,
         "boxpoints": false,
         "hoverinfo": "y+name",
         "line": {
          "color": "navy"
         },
         "marker": {
          "color": "royalblue"
         },
         "name": "Georgia",
         "orientation": "v",
         "type": "box",
         "width": 0.6,
         "y": {
          "bdata": "AAAAAAAA+H8AAAAAAAD4fwAAAAAAAPh/AAAAAAAA+H8AAAAAAAD4fwAAAAAAAPh/AAAAAAAANEAAAAAAAAAmQAAAAAAAAPh/AAAAAAAALkAAAAAAAAD4fwAAAAAAACJAAAAAAAAAIkA=",
          "dtype": "f8"
         }
        },
        {
         "boxmean": false,
         "boxpoints": false,
         "hoverinfo": "y+name",
         "line": {
          "color": "navy"
         },
         "marker": {
          "color": "royalblue"
         },
         "name": "Moldova",
         "orientation": "v",
         "type": "box",
         "width": 0.6,
         "y": {
          "bdata": "AAAAAAAAMkAAAAAAAAAcQAAAAAAAACpAAAAAAAAA+H8AAAAAAAAkQAAAAAAAAAhAAAAAAAAA+H8AAAAAAAD4fwAAAAAAAPh/AAAAAAAAJkAAAAAAAAAmQAAAAAAAAChAAAAAAAAANkAAAAAAAAAsQA==",
          "dtype": "f8"
         }
        },
        {
         "boxmean": false,
         "boxpoints": false,
         "hoverinfo": "y+name",
         "line": {
          "color": "navy"
         },
         "marker": {
          "color": "royalblue"
         },
         "name": "Romania",
         "orientation": "v",
         "type": "box",
         "width": 0.6,
         "y": {
          "bdata": "AAAAAAAA+H8AAAAAAAAyQAAAAAAAAPh/AAAAAAAA+H8AAAAAAAD4fwAAAAAAABxAAAAAAAAALkAAAAAAAAAoQAAAAAAAACpAAAAAAAAAKEAAAAAAAAAxQAAAAAAAAAhAAAAAAAAAM0A=",
          "dtype": "f8"
         }
        },
        {
         "boxmean": false,
         "boxpoints": false,
         "hoverinfo": "y+name",
         "line": {
          "color": "navy"
         },
         "marker": {
          "color": "royalblue"
         },
         "name": "Bosnia and Herzegovina",
         "orientation": "v",
         "type": "box",
         "width": 0.6,
         "y": {
          "bdata": "AAAAAAAA+H8AAAAAAAAyQAAAAAAAABhAAAAAAAAAMUAAAAAAAAAiQA==",
          "dtype": "f8"
         }
        },
        {
         "boxmean": false,
         "boxpoints": false,
         "hoverinfo": "y+name",
         "line": {
          "color": "navy"
         },
         "marker": {
          "color": "royalblue"
         },
         "name": "Israel",
         "orientation": "v",
         "type": "box",
         "width": 0.6,
         "y": {
          "bdata": "AAAAAAAACEAAAAAAAAD4fwAAAAAAADFAAAAAAAAAN0AAAAAAAADwPwAAAAAAADdAAAAAAAAALEAAAAAAAAAiQAAAAAAAAPh/AAAAAAAA+H8AAAAAAAD4fwAAAAAAAPh/AAAAAAAALEAAAAAAAAAwQA==",
          "dtype": "f8"
         }
        },
        {
         "boxmean": false,
         "boxpoints": false,
         "hoverinfo": "y+name",
         "line": {
          "color": "navy"
         },
         "marker": {
          "color": "royalblue"
         },
         "name": "Malta",
         "orientation": "v",
         "type": "box",
         "width": 0.6,
         "y": {
          "bdata": "AAAAAAAA+H8AAAAAAAD4fwAAAAAAABxAAAAAAAAALEAAAAAAAAD4fwAAAAAAAPh/AAAAAAAAKEAAAAAAAAD4fwAAAAAAADdAAAAAAAAAIEAAAAAAAAA1QAAAAAAAAPh/AAAAAAAA+H8AAAAAAAA2QA==",
          "dtype": "f8"
         }
        },
        {
         "boxmean": false,
         "boxpoints": false,
         "hoverinfo": "y+name",
         "line": {
          "color": "navy"
         },
         "marker": {
          "color": "royalblue"
         },
         "name": "Lithuania",
         "orientation": "v",
         "type": "box",
         "width": 0.6,
         "y": {
          "bdata": "AAAAAAAAJkAAAAAAAAAsQAAAAAAAACBAAAAAAAAA+H8AAAAAAAAoQAAAAAAAAPh/AAAAAAAAIkAAAAAAAAAyQAAAAAAAAPh/AAAAAAAANkAAAAAAAAAsQAAAAAAAADNAAAAAAAAA+H8AAAAAAAA3QA==",
          "dtype": "f8"
         }
        },
        {
         "boxmean": false,
         "boxpoints": false,
         "hoverinfo": "y+name",
         "line": {
          "color": "navy"
         },
         "marker": {
          "color": "royalblue"
         },
         "name": "Armenia",
         "orientation": "v",
         "type": "box",
         "width": 0.6,
         "y": {
          "bdata": "AAAAAAAALEAAAAAAAAA0QAAAAAAAAPh/AAAAAAAA+H8AAAAAAAAyQAAAAAAAABxAAAAAAAAAMEAAAAAAAAAQQAAAAAAAADJAAAAAAAAA+H8AAAAAAAAcQAAAAAAAACRA",
          "dtype": "f8"
         }
        },
        {
         "boxmean": false,
         "boxpoints": false,
         "hoverinfo": "y+name",
         "line": {
          "color": "navy"
         },
         "marker": {
          "color": "royalblue"
         },
         "name": "Serbia",
         "orientation": "v",
         "type": "box",
         "width": 0.6,
         "y": {
          "bdata": "AAAAAAAAOEAAAAAAAAAUQAAAAAAAAC5AAAAAAAAAMkAAAAAAAAAzQAAAAAAAAPh/AAAAAAAAMkAAAAAAAAAkQAAAAAAAAPh/AAAAAAAACEAAAAAAAAAsQAAAAAAAACpAAAAAAAAA+H8=",
          "dtype": "f8"
         }
        },
        {
         "boxmean": false,
         "boxpoints": false,
         "hoverinfo": "y+name",
         "line": {
          "color": "navy"
         },
         "marker": {
          "color": "royalblue"
         },
         "name": "Portugal",
         "orientation": "v",
         "type": "box",
         "width": 0.6,
         "y": {
          "bdata": "AAAAAAAAN0AAAAAAAAAiQAAAAAAAAChAAAAAAAAA+H8AAAAAAAA6QAAAAAAAAPA/AAAAAAAA+H8AAAAAAAD4fwAAAAAAAPh/AAAAAAAA+H8AAAAAAAAyQAAAAAAAAC5A",
          "dtype": "f8"
         }
        },
        {
         "boxmean": false,
         "boxpoints": false,
         "hoverinfo": "y+name",
         "line": {
          "color": "navy"
         },
         "marker": {
          "color": "royalblue"
         },
         "name": "Switzerland",
         "orientation": "v",
         "type": "box",
         "width": 0.6,
         "y": {
          "bdata": "AAAAAAAANEAAAAAAAAAxQAAAAAAAAAhAAAAAAAAAEEAAAAAAAAD4fwAAAAAAAPh/AAAAAAAA+H8AAAAAAAD4fwAAAAAAACpAAAAAAAAA+H8AAAAAAAD4fwAAAAAAADlAAAAAAAAA+H8AAAAAAAD4fw==",
          "dtype": "f8"
         }
        },
        {
         "boxmean": false,
         "boxpoints": false,
         "hoverinfo": "y+name",
         "line": {
          "color": "navy"
         },
         "marker": {
          "color": "royalblue"
         },
         "name": "Austria",
         "orientation": "v",
         "type": "box",
         "width": 0.6,
         "y": {
          "bdata": "AAAAAAAALkAAAAAAAAD4fwAAAAAAAPh/AAAAAAAA+H8AAAAAAAAIQAAAAAAAADBAAAAAAAAAKkAAAAAAAAA6QAAAAAAAAPA/AAAAAAAA+H8AAAAAAAD4fwAAAAAAADJA",
          "dtype": "f8"
         }
        },
        {
         "boxmean": false,
         "boxpoints": false,
         "hoverinfo": "y+name",
         "line": {
          "color": "navy"
         },
         "marker": {
          "color": "royalblue"
         },
         "name": "France",
         "orientation": "v",
         "type": "box",
         "width": 0.6,
         "y": {
          "bdata": "AAAAAAAAMEAAAAAAAAA4QAAAAAAAAABAAAAAAAAAMEAAAAAAAAAqQAAAAAAAAChAAAAAAAAAGEAAAAAAAAA5QAAAAAAAADpAAAAAAAAAN0AAAAAAAAA2QAAAAAAAAC5AAAAAAAAAKEAAAAAAAAAgQA==",
          "dtype": "f8"
         }
        },
        {
         "boxmean": false,
         "boxpoints": false,
         "hoverinfo": "y+name",
         "line": {
          "color": "navy"
         },
         "marker": {
          "color": "royalblue"
         },
         "name": "Croatia",
         "orientation": "v",
         "type": "box",
         "width": 0.6,
         "y": {
          "bdata": "AAAAAAAAKkAAAAAAAAD4fwAAAAAAAPh/AAAAAAAA+H8AAAAAAAD4fwAAAAAAACpAAAAAAAAAN0AAAAAAAAD4fwAAAAAAAPh/AAAAAAAA+H8AAAAAAAD4fwAAAAAAADJA",
          "dtype": "f8"
         }
        },
        {
         "boxmean": false,
         "boxpoints": false,
         "hoverinfo": "y+name",
         "line": {
          "color": "navy"
         },
         "marker": {
          "color": "royalblue"
         },
         "name": "Cyprus",
         "orientation": "v",
         "type": "box",
         "width": 0.6,
         "y": {
          "bdata": "AAAAAAAAKEAAAAAAAAD4fwAAAAAAADBAAAAAAAAAKkAAAAAAAAAAQAAAAAAAADVAAAAAAAAANUAAAAAAAAA2QAAAAAAAAPh/AAAAAAAAMEAAAAAAAAD4fwAAAAAAADVAAAAAAAAA+H8=",
          "dtype": "f8"
         }
        },
        {
         "boxmean": false,
         "boxpoints": false,
         "hoverinfo": "y+name",
         "line": {
          "color": "navy"
         },
         "marker": {
          "color": "royalblue"
         },
         "name": "Montenegro",
         "orientation": "v",
         "type": "box",
         "width": 0.6,
         "y": {
          "bdata": "AAAAAAAA+H8AAAAAAAD4fwAAAAAAAPh/AAAAAAAA+H8AAAAAAAD4fwAAAAAAACpAAAAAAAAAM0AAAAAAAAD4fwAAAAAAAPh/AAAAAAAA+H8=",
          "dtype": "f8"
         }
        },
        {
         "boxmean": false,
         "boxpoints": false,
         "hoverinfo": "y+name",
         "line": {
          "color": "navy"
         },
         "marker": {
          "color": "royalblue"
         },
         "name": "Poland",
         "orientation": "v",
         "type": "box",
         "width": 0.6,
         "y": {
          "bdata": "AAAAAAAAM0AAAAAAAAAoQAAAAAAAAPh/AAAAAAAA+H8AAAAAAAD4fwAAAAAAADZAAAAAAAAAIEAAAAAAAAA3QAAAAAAAACxAAAAAAAAA+H8AAAAAAAD4fwAAAAAAAPh/",
          "dtype": "f8"
         }
        },
        {
         "boxmean": false,
         "boxpoints": false,
         "hoverinfo": "y+name",
         "line": {
          "color": "navy"
         },
         "marker": {
          "color": "royalblue"
         },
         "name": "Albania",
         "orientation": "v",
         "type": "box",
         "width": 0.6,
         "y": {
          "bdata": "AAAAAAAANkAAAAAAAAD4fwAAAAAAADVAAAAAAAAAMUAAAAAAAAAmQAAAAAAAAPh/AAAAAAAA+H8AAAAAAAAxQAAAAAAAAPh/AAAAAAAA+H8AAAAAAAAUQAAAAAAAAPh/AAAAAAAAMEAAAAAAAAAxQA==",
          "dtype": "f8"
         }
        },
        {
         "boxmean": false,
         "boxpoints": false,
         "hoverinfo": "y+name",
         "line": {
          "color": "navy"
         },
         "marker": {
          "color": "royalblue"
         },
         "name": "Belarus",
         "orientation": "v",
         "type": "box",
         "width": 0.6,
         "y": {
          "bdata": "AAAAAAAAOEAAAAAAAAD4fwAAAAAAADFAAAAAAAAA+H8AAAAAAAD4fwAAAAAAADBAAAAAAAAAMEAAAAAAAAD4fwAAAAAAAPh/AAAAAAAAOEAAAAAAAAD4fw==",
          "dtype": "f8"
         }
        },
        {
         "boxmean": false,
         "boxpoints": false,
         "hoverinfo": "y+name",
         "line": {
          "color": "navy"
         },
         "marker": {
          "color": "royalblue"
         },
         "name": "Iceland",
         "orientation": "v",
         "type": "box",
         "width": 0.6,
         "y": {
          "bdata": "AAAAAAAA+H8AAAAAAAA3QAAAAAAAAPh/AAAAAAAAJEAAAAAAAAD4fwAAAAAAAPh/AAAAAAAA+H8AAAAAAAD4fwAAAAAAAC5AAAAAAAAAMUAAAAAAAAA0QAAAAAAAADRAAAAAAAAAM0AAAAAAAAAAQA==",
          "dtype": "f8"
         }
        },
        {
         "boxmean": false,
         "boxpoints": false,
         "hoverinfo": "y+name",
         "line": {
          "color": "navy"
         },
         "marker": {
          "color": "royalblue"
         },
         "name": "Slovenia",
         "orientation": "v",
         "type": "box",
         "width": 0.6,
         "y": {
          "bdata": "AAAAAAAANUAAAAAAAAD4fwAAAAAAAPh/AAAAAAAALkAAAAAAAAA2QAAAAAAAAPh/AAAAAAAA+H8AAAAAAAAsQAAAAAAAADlAAAAAAAAA+H8AAAAAAAD4fwAAAAAAACpAAAAAAAAA+H8AAAAAAAD4fw==",
          "dtype": "f8"
         }
        },
        {
         "boxmean": false,
         "boxpoints": false,
         "hoverinfo": "y+name",
         "line": {
          "color": "navy"
         },
         "marker": {
          "color": "royalblue"
         },
         "name": "Ireland",
         "orientation": "v",
         "type": "box",
         "width": 0.6,
         "y": {
          "bdata": "AAAAAAAA+H8AAAAAAAD4fwAAAAAAAPh/AAAAAAAA+H8AAAAAAAAwQAAAAAAAAPh/AAAAAAAA+H8AAAAAAAD4fwAAAAAAAPh/AAAAAAAAOkAAAAAAAAAzQAAAAAAAACBAAAAAAAAAN0AAAAAAAAD4fw==",
          "dtype": "f8"
         }
        },
        {
         "boxmean": false,
         "boxpoints": false,
         "hoverinfo": "y+name",
         "line": {
          "color": "navy"
         },
         "marker": {
          "color": "royalblue"
         },
         "name": "Hungary",
         "orientation": "v",
         "type": "box",
         "width": 0.6,
         "y": {
          "bdata": "AAAAAAAA+H8AAAAAAAA1QAAAAAAAACBAAAAAAAAAM0AAAAAAAAA0QAAAAAAAABRAAAAAAAAAJEAAAAAAAAA4QAAAAAAAADZAAAAAAAAA+H8=",
          "dtype": "f8"
         }
        },
        {
         "boxmean": false,
         "boxpoints": false,
         "hoverinfo": "y+name",
         "line": {
          "color": "navy"
         },
         "marker": {
          "color": "royalblue"
         },
         "name": "Finland",
         "orientation": "v",
         "type": "box",
         "width": 0.6,
         "y": {
          "bdata": "AAAAAAAAAEAAAAAAAAA1QAAAAAAAABhAAAAAAAAA+H8AAAAAAAA5QAAAAAAAAPh/AAAAAAAA+H8AAAAAAAD4fwAAAAAAACZAAAAAAAAAOEAAAAAAAAD4fwAAAAAAADVAAAAAAAAA+H8AAAAAAAA5QA==",
          "dtype": "f8"
         }
        },
        {
         "boxmean": false,
         "boxpoints": false,
         "hoverinfo": "y+name",
         "line": {
          "color": "navy"
         },
         "marker": {
          "color": "royalblue"
         },
         "name": "San Marino",
         "orientation": "v",
         "type": "box",
         "width": 0.6,
         "y": {
          "bdata": "AAAAAAAA+H8AAAAAAAD4fwAAAAAAAPh/AAAAAAAAM0AAAAAAAAD4fwAAAAAAAPh/AAAAAAAA+H8AAAAAAAD4fwAAAAAAADhAAAAAAAAA+H8AAAAAAAD4fwAAAAAAAPh/",
          "dtype": "f8"
         }
        },
        {
         "boxmean": false,
         "boxpoints": false,
         "hoverinfo": "y+name",
         "line": {
          "color": "navy"
         },
         "marker": {
          "color": "royalblue"
         },
         "name": "Spain",
         "orientation": "v",
         "type": "box",
         "width": 0.6,
         "y": {
          "bdata": "AAAAAAAAMUAAAAAAAAAIQAAAAAAAADhAAAAAAAAANkAAAAAAAAA3QAAAAAAAADpAAAAAAAAANkAAAAAAAAA1QAAAAAAAACRAAAAAAAAAOUAAAAAAAAAkQAAAAAAAADdAAAAAAAAALkAAAAAAAAA4QA==",
          "dtype": "f8"
         }
        },
        {
         "boxmean": false,
         "boxpoints": false,
         "hoverinfo": "y+name",
         "line": {
          "color": "navy"
         },
         "marker": {
          "color": "royalblue"
         },
         "name": "Germany",
         "orientation": "v",
         "type": "box",
         "width": 0.6,
         "y": {
          "bdata": "AAAAAAAAOkAAAAAAAAA5QAAAAAAAADlAAAAAAAAAOUAAAAAAAAAQQAAAAAAAADlAAAAAAAAAOkAAAAAAAAA7QAAAAAAAADJAAAAAAAAANUAAAAAAAAAgQAAAAAAAACRAAAAAAAAA8D8AAAAAAAA0QA==",
          "dtype": "f8"
         }
        },
        {
         "boxmean": false,
         "boxpoints": false,
         "hoverinfo": "y+name",
         "line": {
          "color": "navy"
         },
         "marker": {
          "color": "royalblue"
         },
         "name": "United Kingdom",
         "orientation": "v",
         "type": "box",
         "width": 0.6,
         "y": {
          "bdata": "AAAAAAAAOUAAAAAAAAAAQAAAAAAAADpAAAAAAAAAOkAAAAAAAAA4QAAAAAAAAC5AAAAAAAAAOEAAAAAAAAA4QAAAAAAAADFAAAAAAAAAM0AAAAAAAAA5QAAAAAAAACZAAAAAAAAAOUAAAAAAAAAUQA==",
          "dtype": "f8"
         }
        },
        {
         "boxmean": false,
         "boxpoints": false,
         "hoverinfo": "y+name",
         "line": {
          "color": "navy"
         },
         "marker": {
          "color": "royalblue"
         },
         "name": "Andorra",
         "orientation": "v",
         "type": "box",
         "width": 0.6,
         "y": {
          "bdata": "AAAAAAAA+H8=",
          "dtype": "f8"
         }
        },
        {
         "boxmean": false,
         "boxpoints": false,
         "hoverinfo": "y+name",
         "line": {
          "color": "navy"
         },
         "marker": {
          "color": "royalblue"
         },
         "name": "Slovakia",
         "orientation": "v",
         "type": "box",
         "width": 0.6,
         "y": {
          "bdata": "AAAAAAAA+H8AAAAAAAD4fwAAAAAAAPh/AAAAAAAA+H8=",
          "dtype": "f8"
         }
        }
       ],
       "layout": {
        "height": 700,
        "plot_bgcolor": "white",
        "showlegend": false,
        "template": {
         "data": {
          "bar": [
           {
            "error_x": {
             "color": "#2a3f5f"
            },
            "error_y": {
             "color": "#2a3f5f"
            },
            "marker": {
             "line": {
              "color": "#E5ECF6",
              "width": 0.5
             },
             "pattern": {
              "fillmode": "overlay",
              "size": 10,
              "solidity": 0.2
             }
            },
            "type": "bar"
           }
          ],
          "barpolar": [
           {
            "marker": {
             "line": {
              "color": "#E5ECF6",
              "width": 0.5
             },
             "pattern": {
              "fillmode": "overlay",
              "size": 10,
              "solidity": 0.2
             }
            },
            "type": "barpolar"
           }
          ],
          "carpet": [
           {
            "aaxis": {
             "endlinecolor": "#2a3f5f",
             "gridcolor": "white",
             "linecolor": "white",
             "minorgridcolor": "white",
             "startlinecolor": "#2a3f5f"
            },
            "baxis": {
             "endlinecolor": "#2a3f5f",
             "gridcolor": "white",
             "linecolor": "white",
             "minorgridcolor": "white",
             "startlinecolor": "#2a3f5f"
            },
            "type": "carpet"
           }
          ],
          "choropleth": [
           {
            "colorbar": {
             "outlinewidth": 0,
             "ticks": ""
            },
            "type": "choropleth"
           }
          ],
          "contour": [
           {
            "colorbar": {
             "outlinewidth": 0,
             "ticks": ""
            },
            "colorscale": [
             [
              0,
              "#0d0887"
             ],
             [
              0.1111111111111111,
              "#46039f"
             ],
             [
              0.2222222222222222,
              "#7201a8"
             ],
             [
              0.3333333333333333,
              "#9c179e"
             ],
             [
              0.4444444444444444,
              "#bd3786"
             ],
             [
              0.5555555555555556,
              "#d8576b"
             ],
             [
              0.6666666666666666,
              "#ed7953"
             ],
             [
              0.7777777777777778,
              "#fb9f3a"
             ],
             [
              0.8888888888888888,
              "#fdca26"
             ],
             [
              1,
              "#f0f921"
             ]
            ],
            "type": "contour"
           }
          ],
          "contourcarpet": [
           {
            "colorbar": {
             "outlinewidth": 0,
             "ticks": ""
            },
            "type": "contourcarpet"
           }
          ],
          "heatmap": [
           {
            "colorbar": {
             "outlinewidth": 0,
             "ticks": ""
            },
            "colorscale": [
             [
              0,
              "#0d0887"
             ],
             [
              0.1111111111111111,
              "#46039f"
             ],
             [
              0.2222222222222222,
              "#7201a8"
             ],
             [
              0.3333333333333333,
              "#9c179e"
             ],
             [
              0.4444444444444444,
              "#bd3786"
             ],
             [
              0.5555555555555556,
              "#d8576b"
             ],
             [
              0.6666666666666666,
              "#ed7953"
             ],
             [
              0.7777777777777778,
              "#fb9f3a"
             ],
             [
              0.8888888888888888,
              "#fdca26"
             ],
             [
              1,
              "#f0f921"
             ]
            ],
            "type": "heatmap"
           }
          ],
          "histogram": [
           {
            "marker": {
             "pattern": {
              "fillmode": "overlay",
              "size": 10,
              "solidity": 0.2
             }
            },
            "type": "histogram"
           }
          ],
          "histogram2d": [
           {
            "colorbar": {
             "outlinewidth": 0,
             "ticks": ""
            },
            "colorscale": [
             [
              0,
              "#0d0887"
             ],
             [
              0.1111111111111111,
              "#46039f"
             ],
             [
              0.2222222222222222,
              "#7201a8"
             ],
             [
              0.3333333333333333,
              "#9c179e"
             ],
             [
              0.4444444444444444,
              "#bd3786"
             ],
             [
              0.5555555555555556,
              "#d8576b"
             ],
             [
              0.6666666666666666,
              "#ed7953"
             ],
             [
              0.7777777777777778,
              "#fb9f3a"
             ],
             [
              0.8888888888888888,
              "#fdca26"
             ],
             [
              1,
              "#f0f921"
             ]
            ],
            "type": "histogram2d"
           }
          ],
          "histogram2dcontour": [
           {
            "colorbar": {
             "outlinewidth": 0,
             "ticks": ""
            },
            "colorscale": [
             [
              0,
              "#0d0887"
             ],
             [
              0.1111111111111111,
              "#46039f"
             ],
             [
              0.2222222222222222,
              "#7201a8"
             ],
             [
              0.3333333333333333,
              "#9c179e"
             ],
             [
              0.4444444444444444,
              "#bd3786"
             ],
             [
              0.5555555555555556,
              "#d8576b"
             ],
             [
              0.6666666666666666,
              "#ed7953"
             ],
             [
              0.7777777777777778,
              "#fb9f3a"
             ],
             [
              0.8888888888888888,
              "#fdca26"
             ],
             [
              1,
              "#f0f921"
             ]
            ],
            "type": "histogram2dcontour"
           }
          ],
          "mesh3d": [
           {
            "colorbar": {
             "outlinewidth": 0,
             "ticks": ""
            },
            "type": "mesh3d"
           }
          ],
          "parcoords": [
           {
            "line": {
             "colorbar": {
              "outlinewidth": 0,
              "ticks": ""
             }
            },
            "type": "parcoords"
           }
          ],
          "pie": [
           {
            "automargin": true,
            "type": "pie"
           }
          ],
          "scatter": [
           {
            "fillpattern": {
             "fillmode": "overlay",
             "size": 10,
             "solidity": 0.2
            },
            "type": "scatter"
           }
          ],
          "scatter3d": [
           {
            "line": {
             "colorbar": {
              "outlinewidth": 0,
              "ticks": ""
             }
            },
            "marker": {
             "colorbar": {
              "outlinewidth": 0,
              "ticks": ""
             }
            },
            "type": "scatter3d"
           }
          ],
          "scattercarpet": [
           {
            "marker": {
             "colorbar": {
              "outlinewidth": 0,
              "ticks": ""
             }
            },
            "type": "scattercarpet"
           }
          ],
          "scattergeo": [
           {
            "marker": {
             "colorbar": {
              "outlinewidth": 0,
              "ticks": ""
             }
            },
            "type": "scattergeo"
           }
          ],
          "scattergl": [
           {
            "marker": {
             "colorbar": {
              "outlinewidth": 0,
              "ticks": ""
             }
            },
            "type": "scattergl"
           }
          ],
          "scattermap": [
           {
            "marker": {
             "colorbar": {
              "outlinewidth": 0,
              "ticks": ""
             }
            },
            "type": "scattermap"
           }
          ],
          "scattermapbox": [
           {
            "marker": {
             "colorbar": {
              "outlinewidth": 0,
              "ticks": ""
             }
            },
            "type": "scattermapbox"
           }
          ],
          "scatterpolar": [
           {
            "marker": {
             "colorbar": {
              "outlinewidth": 0,
              "ticks": ""
             }
            },
            "type": "scatterpolar"
           }
          ],
          "scatterpolargl": [
           {
            "marker": {
             "colorbar": {
              "outlinewidth": 0,
              "ticks": ""
             }
            },
            "type": "scatterpolargl"
           }
          ],
          "scatterternary": [
           {
            "marker": {
             "colorbar": {
              "outlinewidth": 0,
              "ticks": ""
             }
            },
            "type": "scatterternary"
           }
          ],
          "surface": [
           {
            "colorbar": {
             "outlinewidth": 0,
             "ticks": ""
            },
            "colorscale": [
             [
              0,
              "#0d0887"
             ],
             [
              0.1111111111111111,
              "#46039f"
             ],
             [
              0.2222222222222222,
              "#7201a8"
             ],
             [
              0.3333333333333333,
              "#9c179e"
             ],
             [
              0.4444444444444444,
              "#bd3786"
             ],
             [
              0.5555555555555556,
              "#d8576b"
             ],
             [
              0.6666666666666666,
              "#ed7953"
             ],
             [
              0.7777777777777778,
              "#fb9f3a"
             ],
             [
              0.8888888888888888,
              "#fdca26"
             ],
             [
              1,
              "#f0f921"
             ]
            ],
            "type": "surface"
           }
          ],
          "table": [
           {
            "cells": {
             "fill": {
              "color": "#EBF0F8"
             },
             "line": {
              "color": "white"
             }
            },
            "header": {
             "fill": {
              "color": "#C8D4E3"
             },
             "line": {
              "color": "white"
             }
            },
            "type": "table"
           }
          ]
         },
         "layout": {
          "annotationdefaults": {
           "arrowcolor": "#2a3f5f",
           "arrowhead": 0,
           "arrowwidth": 1
          },
          "autotypenumbers": "strict",
          "coloraxis": {
           "colorbar": {
            "outlinewidth": 0,
            "ticks": ""
           }
          },
          "colorscale": {
           "diverging": [
            [
             0,
             "#8e0152"
            ],
            [
             0.1,
             "#c51b7d"
            ],
            [
             0.2,
             "#de77ae"
            ],
            [
             0.3,
             "#f1b6da"
            ],
            [
             0.4,
             "#fde0ef"
            ],
            [
             0.5,
             "#f7f7f7"
            ],
            [
             0.6,
             "#e6f5d0"
            ],
            [
             0.7,
             "#b8e186"
            ],
            [
             0.8,
             "#7fbc41"
            ],
            [
             0.9,
             "#4d9221"
            ],
            [
             1,
             "#276419"
            ]
           ],
           "sequential": [
            [
             0,
             "#0d0887"
            ],
            [
             0.1111111111111111,
             "#46039f"
            ],
            [
             0.2222222222222222,
             "#7201a8"
            ],
            [
             0.3333333333333333,
             "#9c179e"
            ],
            [
             0.4444444444444444,
             "#bd3786"
            ],
            [
             0.5555555555555556,
             "#d8576b"
            ],
            [
             0.6666666666666666,
             "#ed7953"
            ],
            [
             0.7777777777777778,
             "#fb9f3a"
            ],
            [
             0.8888888888888888,
             "#fdca26"
            ],
            [
             1,
             "#f0f921"
            ]
           ],
           "sequentialminus": [
            [
             0,
             "#0d0887"
            ],
            [
             0.1111111111111111,
             "#46039f"
            ],
            [
             0.2222222222222222,
             "#7201a8"
            ],
            [
             0.3333333333333333,
             "#9c179e"
            ],
            [
             0.4444444444444444,
             "#bd3786"
            ],
            [
             0.5555555555555556,
             "#d8576b"
            ],
            [
             0.6666666666666666,
             "#ed7953"
            ],
            [
             0.7777777777777778,
             "#fb9f3a"
            ],
            [
             0.8888888888888888,
             "#fdca26"
            ],
            [
             1,
             "#f0f921"
            ]
           ]
          },
          "colorway": [
           "#636efa",
           "#EF553B",
           "#00cc96",
           "#ab63fa",
           "#FFA15A",
           "#19d3f3",
           "#FF6692",
           "#B6E880",
           "#FF97FF",
           "#FECB52"
          ],
          "font": {
           "color": "#2a3f5f"
          },
          "geo": {
           "bgcolor": "white",
           "lakecolor": "white",
           "landcolor": "#E5ECF6",
           "showlakes": true,
           "showland": true,
           "subunitcolor": "white"
          },
          "hoverlabel": {
           "align": "left"
          },
          "hovermode": "closest",
          "mapbox": {
           "style": "light"
          },
          "paper_bgcolor": "white",
          "plot_bgcolor": "#E5ECF6",
          "polar": {
           "angularaxis": {
            "gridcolor": "white",
            "linecolor": "white",
            "ticks": ""
           },
           "bgcolor": "#E5ECF6",
           "radialaxis": {
            "gridcolor": "white",
            "linecolor": "white",
            "ticks": ""
           }
          },
          "scene": {
           "xaxis": {
            "backgroundcolor": "#E5ECF6",
            "gridcolor": "white",
            "gridwidth": 2,
            "linecolor": "white",
            "showbackground": true,
            "ticks": "",
            "zerolinecolor": "white"
           },
           "yaxis": {
            "backgroundcolor": "#E5ECF6",
            "gridcolor": "white",
            "gridwidth": 2,
            "linecolor": "white",
            "showbackground": true,
            "ticks": "",
            "zerolinecolor": "white"
           },
           "zaxis": {
            "backgroundcolor": "#E5ECF6",
            "gridcolor": "white",
            "gridwidth": 2,
            "linecolor": "white",
            "showbackground": true,
            "ticks": "",
            "zerolinecolor": "white"
           }
          },
          "shapedefaults": {
           "line": {
            "color": "#2a3f5f"
           }
          },
          "ternary": {
           "aaxis": {
            "gridcolor": "white",
            "linecolor": "white",
            "ticks": ""
           },
           "baxis": {
            "gridcolor": "white",
            "linecolor": "white",
            "ticks": ""
           },
           "bgcolor": "#E5ECF6",
           "caxis": {
            "gridcolor": "white",
            "linecolor": "white",
            "ticks": ""
           }
          },
          "title": {
           "x": 0.05
          },
          "xaxis": {
           "automargin": true,
           "gridcolor": "white",
           "linecolor": "white",
           "ticks": "",
           "title": {
            "standoff": 15
           },
           "zerolinecolor": "white",
           "zerolinewidth": 2
          },
          "yaxis": {
           "automargin": true,
           "gridcolor": "white",
           "linecolor": "white",
           "ticks": "",
           "title": {
            "standoff": 15
           },
           "zerolinecolor": "white",
           "zerolinewidth": 2
          }
         }
        },
        "title": {
         "text": "Distribution of final places by country"
        },
        "width": 1600,
        "xaxis": {
         "tickangle": 90,
         "tickfont": {
          "size": 10
         },
         "title": {
          "standoff": 10,
          "text": "Country"
         }
        },
        "yaxis": {
         "autorange": "reversed",
         "title": {
          "standoff": 10,
          "text": "Final place"
         }
        }
       }
      }
     },
     "metadata": {},
     "output_type": "display_data"
    }
   ],
   "source": [
    "# Получение порядка стран по медиане места\n",
    "country_order = df.groupby('country')['final_place'].median().sort_values()\n",
    "ordered_countries = country_order.index.tolist()\n",
    "\n",
    "fig = go.Figure()\n",
    "\n",
    "for country in ordered_countries:\n",
    "    subset = df[df['country'] == country]\n",
    "\n",
    "    fig.add_trace(go.Box(\n",
    "        y=subset['final_place'],\n",
    "        name=country,\n",
    "        marker_color='royalblue',\n",
    "        line_color='navy',\n",
    "        boxmean=False,\n",
    "        boxpoints=False,\n",
    "        orientation='v',\n",
    "        width=0.6,\n",
    "        hoverinfo='y+name'\n",
    "    ))\n",
    "\n",
    "fig.update_layout(\n",
    "    title='Distribution of final places by country',\n",
    "    xaxis=dict(\n",
    "        title='Country',\n",
    "        tickangle=90,\n",
    "        title_standoff=10,\n",
    "        tickfont=dict(size=10)\n",
    "    ),\n",
    "    yaxis=dict(\n",
    "        title='Final place',\n",
    "        autorange='reversed',\n",
    "        title_standoff=10\n",
    "    ),\n",
    "    height=700,\n",
    "    width=1600,\n",
    "    plot_bgcolor='white',\n",
    "    showlegend=False\n",
    ")\n",
    "\n",
    "fig.show()\n"
   ]
  },
  {
   "cell_type": "markdown",
   "metadata": {
    "id": "YrwLSyCgn8He"
   },
   "source": [
    "1. Лучшие страны (стабильно высокие результаты)\n",
    "Страны с низким медианным значением (ящик расположен внизу графика):\n",
    "\n",
    "Турция, Швеция, Украина, Италия, Россия\n",
    "\n",
    "Узкий ящик → стабильно высокие результаты (часто попадают в топ-10)\n",
    "\n",
    "Мало выбросов → редко оказываются внизу таблицы\n",
    "\n",
    "2. Средние страны (непредсказуемые результаты)\n",
    "Страны с широким ящиком (большой разброс мест):\n",
    "\n",
    "Франция, Испания, Великобритания, Германия\n",
    "\n",
    "Иногда попадают в топ-5, иногда проваливаются → нестабильность\n",
    "\n",
    "Возможные причины:\n",
    "\n",
    "Жюри/зрители оценивают по-разному\n",
    "\n",
    "Частая смена музыкальных стилей\n",
    "\n",
    "3. Худшие страны (проблемные результаты)\n",
    "Страны с высоким медианным значением (ящик вверху графика):\n",
    "\n",
    "Португалия, Грузия, Сан-Марино\n",
    "\n",
    "Широкий ящик → результаты варьируются, но чаще внизу\n",
    "\n",
    "Много выбросов → редкие удачные выступления"
   ]
  },
  {
   "cell_type": "markdown",
   "metadata": {
    "id": "lfaVU56rwsJM"
   },
   "source": [
    "## Задание 9"
   ]
  },
  {
   "cell_type": "markdown",
   "metadata": {
    "id": "zEmTU6eDwsJN"
   },
   "source": [
    "Покажите на карте количество раз, когда каждая страна датасета проходила в финал."
   ]
  },
  {
   "cell_type": "code",
   "execution_count": 13,
   "metadata": {
    "colab": {
     "base_uri": "https://localhost:8080/",
     "height": 542
    },
    "id": "PsGQ39t3wsJN",
    "outputId": "372d04b6-912d-42e7-f423-24ad3d9e3a71"
   },
   "outputs": [
    {
     "data": {
      "application/vnd.plotly.v1+json": {
       "config": {
        "plotlyServerURL": "https://plot.ly"
       },
       "data": [
        {
         "coloraxis": "coloraxis",
         "customdata": {
          "bdata": "Dg4ODg0MDAwMCwoKCgoJCQkJCQkICAgICAgHBwcGBgYGBQUFBQQEAwICAgI=",
          "dtype": "i1",
          "shape": "44, 1"
         },
         "geo": "geo",
         "hovertemplate": "<b>%{hovertext}</b><br><br>country=%{location}<br>final_participations=%{z}<extra></extra>",
         "hovertext": [
          "France",
          "Spain",
          "United Kingdom",
          "Germany",
          "Sweden",
          "Azerbaijan",
          "Ukraine",
          "Italy",
          "Norway",
          "Greece",
          "Moldova",
          "Serbia",
          "Lithuania",
          "Russia",
          "Romania",
          "Denmark",
          "Cyprus",
          "Israel",
          "Estonia",
          "Armenia",
          "Iceland",
          "Hungary",
          "Netherlands",
          "Albania",
          "Finland",
          "Belgium",
          "Malta",
          "Portugal",
          "Austria",
          "Slovenia",
          "Switzerland",
          "Poland",
          "Australia",
          "Czech Republic",
          "Ireland",
          "Belarus",
          "Georgia",
          "Croatia",
          "Bulgaria",
          "Turkey",
          "San Marino",
          "North Macedonia",
          "Latvia",
          "Montenegro"
         ],
         "locationmode": "country names",
         "locations": [
          "France",
          "Spain",
          "United Kingdom",
          "Germany",
          "Sweden",
          "Azerbaijan",
          "Ukraine",
          "Italy",
          "Norway",
          "Greece",
          "Moldova",
          "Serbia",
          "Lithuania",
          "Russia",
          "Romania",
          "Denmark",
          "Cyprus",
          "Israel",
          "Estonia",
          "Armenia",
          "Iceland",
          "Hungary",
          "Netherlands",
          "Albania",
          "Finland",
          "Belgium",
          "Malta",
          "Portugal",
          "Austria",
          "Slovenia",
          "Switzerland",
          "Poland",
          "Australia",
          "Czech Republic",
          "Ireland",
          "Belarus",
          "Georgia",
          "Croatia",
          "Bulgaria",
          "Turkey",
          "San Marino",
          "North Macedonia",
          "Latvia",
          "Montenegro"
         ],
         "name": "",
         "type": "choropleth",
         "z": {
          "bdata": "Dg4ODg0MDAwMCwoKCgoJCQkJCQkICAgICAgHBwcGBgYGBQUFBQQEAwICAgI=",
          "dtype": "i1"
         }
        }
       ],
       "layout": {
        "coloraxis": {
         "colorbar": {
          "title": {
           "text": "Final's number"
          }
         },
         "colorscale": [
          [
           0,
           "#0d0887"
          ],
          [
           0.1111111111111111,
           "#46039f"
          ],
          [
           0.2222222222222222,
           "#7201a8"
          ],
          [
           0.3333333333333333,
           "#9c179e"
          ],
          [
           0.4444444444444444,
           "#bd3786"
          ],
          [
           0.5555555555555556,
           "#d8576b"
          ],
          [
           0.6666666666666666,
           "#ed7953"
          ],
          [
           0.7777777777777778,
           "#fb9f3a"
          ],
          [
           0.8888888888888888,
           "#fdca26"
          ],
          [
           1,
           "#f0f921"
          ]
         ]
        },
        "geo": {
         "center": {
          "lat": 50,
          "lon": 35
         },
         "domain": {
          "x": [
           0,
           1
          ],
          "y": [
           0,
           1
          ]
         },
         "lataxis": {
          "range": [
           30,
           70
          ]
         },
         "lonaxis": {
          "range": [
           -20,
           60
          ]
         },
         "projection": {
          "scale": 2.3,
          "type": "natural earth"
         },
         "scope": "world",
         "visible": false
        },
        "legend": {
         "tracegroupgap": 0
        },
        "margin": {
         "b": 0,
         "l": 0,
         "r": 0,
         "t": 40
        },
        "template": {
         "data": {
          "bar": [
           {
            "error_x": {
             "color": "#2a3f5f"
            },
            "error_y": {
             "color": "#2a3f5f"
            },
            "marker": {
             "line": {
              "color": "#E5ECF6",
              "width": 0.5
             },
             "pattern": {
              "fillmode": "overlay",
              "size": 10,
              "solidity": 0.2
             }
            },
            "type": "bar"
           }
          ],
          "barpolar": [
           {
            "marker": {
             "line": {
              "color": "#E5ECF6",
              "width": 0.5
             },
             "pattern": {
              "fillmode": "overlay",
              "size": 10,
              "solidity": 0.2
             }
            },
            "type": "barpolar"
           }
          ],
          "carpet": [
           {
            "aaxis": {
             "endlinecolor": "#2a3f5f",
             "gridcolor": "white",
             "linecolor": "white",
             "minorgridcolor": "white",
             "startlinecolor": "#2a3f5f"
            },
            "baxis": {
             "endlinecolor": "#2a3f5f",
             "gridcolor": "white",
             "linecolor": "white",
             "minorgridcolor": "white",
             "startlinecolor": "#2a3f5f"
            },
            "type": "carpet"
           }
          ],
          "choropleth": [
           {
            "colorbar": {
             "outlinewidth": 0,
             "ticks": ""
            },
            "type": "choropleth"
           }
          ],
          "contour": [
           {
            "colorbar": {
             "outlinewidth": 0,
             "ticks": ""
            },
            "colorscale": [
             [
              0,
              "#0d0887"
             ],
             [
              0.1111111111111111,
              "#46039f"
             ],
             [
              0.2222222222222222,
              "#7201a8"
             ],
             [
              0.3333333333333333,
              "#9c179e"
             ],
             [
              0.4444444444444444,
              "#bd3786"
             ],
             [
              0.5555555555555556,
              "#d8576b"
             ],
             [
              0.6666666666666666,
              "#ed7953"
             ],
             [
              0.7777777777777778,
              "#fb9f3a"
             ],
             [
              0.8888888888888888,
              "#fdca26"
             ],
             [
              1,
              "#f0f921"
             ]
            ],
            "type": "contour"
           }
          ],
          "contourcarpet": [
           {
            "colorbar": {
             "outlinewidth": 0,
             "ticks": ""
            },
            "type": "contourcarpet"
           }
          ],
          "heatmap": [
           {
            "colorbar": {
             "outlinewidth": 0,
             "ticks": ""
            },
            "colorscale": [
             [
              0,
              "#0d0887"
             ],
             [
              0.1111111111111111,
              "#46039f"
             ],
             [
              0.2222222222222222,
              "#7201a8"
             ],
             [
              0.3333333333333333,
              "#9c179e"
             ],
             [
              0.4444444444444444,
              "#bd3786"
             ],
             [
              0.5555555555555556,
              "#d8576b"
             ],
             [
              0.6666666666666666,
              "#ed7953"
             ],
             [
              0.7777777777777778,
              "#fb9f3a"
             ],
             [
              0.8888888888888888,
              "#fdca26"
             ],
             [
              1,
              "#f0f921"
             ]
            ],
            "type": "heatmap"
           }
          ],
          "histogram": [
           {
            "marker": {
             "pattern": {
              "fillmode": "overlay",
              "size": 10,
              "solidity": 0.2
             }
            },
            "type": "histogram"
           }
          ],
          "histogram2d": [
           {
            "colorbar": {
             "outlinewidth": 0,
             "ticks": ""
            },
            "colorscale": [
             [
              0,
              "#0d0887"
             ],
             [
              0.1111111111111111,
              "#46039f"
             ],
             [
              0.2222222222222222,
              "#7201a8"
             ],
             [
              0.3333333333333333,
              "#9c179e"
             ],
             [
              0.4444444444444444,
              "#bd3786"
             ],
             [
              0.5555555555555556,
              "#d8576b"
             ],
             [
              0.6666666666666666,
              "#ed7953"
             ],
             [
              0.7777777777777778,
              "#fb9f3a"
             ],
             [
              0.8888888888888888,
              "#fdca26"
             ],
             [
              1,
              "#f0f921"
             ]
            ],
            "type": "histogram2d"
           }
          ],
          "histogram2dcontour": [
           {
            "colorbar": {
             "outlinewidth": 0,
             "ticks": ""
            },
            "colorscale": [
             [
              0,
              "#0d0887"
             ],
             [
              0.1111111111111111,
              "#46039f"
             ],
             [
              0.2222222222222222,
              "#7201a8"
             ],
             [
              0.3333333333333333,
              "#9c179e"
             ],
             [
              0.4444444444444444,
              "#bd3786"
             ],
             [
              0.5555555555555556,
              "#d8576b"
             ],
             [
              0.6666666666666666,
              "#ed7953"
             ],
             [
              0.7777777777777778,
              "#fb9f3a"
             ],
             [
              0.8888888888888888,
              "#fdca26"
             ],
             [
              1,
              "#f0f921"
             ]
            ],
            "type": "histogram2dcontour"
           }
          ],
          "mesh3d": [
           {
            "colorbar": {
             "outlinewidth": 0,
             "ticks": ""
            },
            "type": "mesh3d"
           }
          ],
          "parcoords": [
           {
            "line": {
             "colorbar": {
              "outlinewidth": 0,
              "ticks": ""
             }
            },
            "type": "parcoords"
           }
          ],
          "pie": [
           {
            "automargin": true,
            "type": "pie"
           }
          ],
          "scatter": [
           {
            "fillpattern": {
             "fillmode": "overlay",
             "size": 10,
             "solidity": 0.2
            },
            "type": "scatter"
           }
          ],
          "scatter3d": [
           {
            "line": {
             "colorbar": {
              "outlinewidth": 0,
              "ticks": ""
             }
            },
            "marker": {
             "colorbar": {
              "outlinewidth": 0,
              "ticks": ""
             }
            },
            "type": "scatter3d"
           }
          ],
          "scattercarpet": [
           {
            "marker": {
             "colorbar": {
              "outlinewidth": 0,
              "ticks": ""
             }
            },
            "type": "scattercarpet"
           }
          ],
          "scattergeo": [
           {
            "marker": {
             "colorbar": {
              "outlinewidth": 0,
              "ticks": ""
             }
            },
            "type": "scattergeo"
           }
          ],
          "scattergl": [
           {
            "marker": {
             "colorbar": {
              "outlinewidth": 0,
              "ticks": ""
             }
            },
            "type": "scattergl"
           }
          ],
          "scattermap": [
           {
            "marker": {
             "colorbar": {
              "outlinewidth": 0,
              "ticks": ""
             }
            },
            "type": "scattermap"
           }
          ],
          "scattermapbox": [
           {
            "marker": {
             "colorbar": {
              "outlinewidth": 0,
              "ticks": ""
             }
            },
            "type": "scattermapbox"
           }
          ],
          "scatterpolar": [
           {
            "marker": {
             "colorbar": {
              "outlinewidth": 0,
              "ticks": ""
             }
            },
            "type": "scatterpolar"
           }
          ],
          "scatterpolargl": [
           {
            "marker": {
             "colorbar": {
              "outlinewidth": 0,
              "ticks": ""
             }
            },
            "type": "scatterpolargl"
           }
          ],
          "scatterternary": [
           {
            "marker": {
             "colorbar": {
              "outlinewidth": 0,
              "ticks": ""
             }
            },
            "type": "scatterternary"
           }
          ],
          "surface": [
           {
            "colorbar": {
             "outlinewidth": 0,
             "ticks": ""
            },
            "colorscale": [
             [
              0,
              "#0d0887"
             ],
             [
              0.1111111111111111,
              "#46039f"
             ],
             [
              0.2222222222222222,
              "#7201a8"
             ],
             [
              0.3333333333333333,
              "#9c179e"
             ],
             [
              0.4444444444444444,
              "#bd3786"
             ],
             [
              0.5555555555555556,
              "#d8576b"
             ],
             [
              0.6666666666666666,
              "#ed7953"
             ],
             [
              0.7777777777777778,
              "#fb9f3a"
             ],
             [
              0.8888888888888888,
              "#fdca26"
             ],
             [
              1,
              "#f0f921"
             ]
            ],
            "type": "surface"
           }
          ],
          "table": [
           {
            "cells": {
             "fill": {
              "color": "#EBF0F8"
             },
             "line": {
              "color": "white"
             }
            },
            "header": {
             "fill": {
              "color": "#C8D4E3"
             },
             "line": {
              "color": "white"
             }
            },
            "type": "table"
           }
          ]
         },
         "layout": {
          "annotationdefaults": {
           "arrowcolor": "#2a3f5f",
           "arrowhead": 0,
           "arrowwidth": 1
          },
          "autotypenumbers": "strict",
          "coloraxis": {
           "colorbar": {
            "outlinewidth": 0,
            "ticks": ""
           }
          },
          "colorscale": {
           "diverging": [
            [
             0,
             "#8e0152"
            ],
            [
             0.1,
             "#c51b7d"
            ],
            [
             0.2,
             "#de77ae"
            ],
            [
             0.3,
             "#f1b6da"
            ],
            [
             0.4,
             "#fde0ef"
            ],
            [
             0.5,
             "#f7f7f7"
            ],
            [
             0.6,
             "#e6f5d0"
            ],
            [
             0.7,
             "#b8e186"
            ],
            [
             0.8,
             "#7fbc41"
            ],
            [
             0.9,
             "#4d9221"
            ],
            [
             1,
             "#276419"
            ]
           ],
           "sequential": [
            [
             0,
             "#0d0887"
            ],
            [
             0.1111111111111111,
             "#46039f"
            ],
            [
             0.2222222222222222,
             "#7201a8"
            ],
            [
             0.3333333333333333,
             "#9c179e"
            ],
            [
             0.4444444444444444,
             "#bd3786"
            ],
            [
             0.5555555555555556,
             "#d8576b"
            ],
            [
             0.6666666666666666,
             "#ed7953"
            ],
            [
             0.7777777777777778,
             "#fb9f3a"
            ],
            [
             0.8888888888888888,
             "#fdca26"
            ],
            [
             1,
             "#f0f921"
            ]
           ],
           "sequentialminus": [
            [
             0,
             "#0d0887"
            ],
            [
             0.1111111111111111,
             "#46039f"
            ],
            [
             0.2222222222222222,
             "#7201a8"
            ],
            [
             0.3333333333333333,
             "#9c179e"
            ],
            [
             0.4444444444444444,
             "#bd3786"
            ],
            [
             0.5555555555555556,
             "#d8576b"
            ],
            [
             0.6666666666666666,
             "#ed7953"
            ],
            [
             0.7777777777777778,
             "#fb9f3a"
            ],
            [
             0.8888888888888888,
             "#fdca26"
            ],
            [
             1,
             "#f0f921"
            ]
           ]
          },
          "colorway": [
           "#636efa",
           "#EF553B",
           "#00cc96",
           "#ab63fa",
           "#FFA15A",
           "#19d3f3",
           "#FF6692",
           "#B6E880",
           "#FF97FF",
           "#FECB52"
          ],
          "font": {
           "color": "#2a3f5f"
          },
          "geo": {
           "bgcolor": "white",
           "lakecolor": "white",
           "landcolor": "#E5ECF6",
           "showlakes": true,
           "showland": true,
           "subunitcolor": "white"
          },
          "hoverlabel": {
           "align": "left"
          },
          "hovermode": "closest",
          "mapbox": {
           "style": "light"
          },
          "paper_bgcolor": "white",
          "plot_bgcolor": "#E5ECF6",
          "polar": {
           "angularaxis": {
            "gridcolor": "white",
            "linecolor": "white",
            "ticks": ""
           },
           "bgcolor": "#E5ECF6",
           "radialaxis": {
            "gridcolor": "white",
            "linecolor": "white",
            "ticks": ""
           }
          },
          "scene": {
           "xaxis": {
            "backgroundcolor": "#E5ECF6",
            "gridcolor": "white",
            "gridwidth": 2,
            "linecolor": "white",
            "showbackground": true,
            "ticks": "",
            "zerolinecolor": "white"
           },
           "yaxis": {
            "backgroundcolor": "#E5ECF6",
            "gridcolor": "white",
            "gridwidth": 2,
            "linecolor": "white",
            "showbackground": true,
            "ticks": "",
            "zerolinecolor": "white"
           },
           "zaxis": {
            "backgroundcolor": "#E5ECF6",
            "gridcolor": "white",
            "gridwidth": 2,
            "linecolor": "white",
            "showbackground": true,
            "ticks": "",
            "zerolinecolor": "white"
           }
          },
          "shapedefaults": {
           "line": {
            "color": "#2a3f5f"
           }
          },
          "ternary": {
           "aaxis": {
            "gridcolor": "white",
            "linecolor": "white",
            "ticks": ""
           },
           "baxis": {
            "gridcolor": "white",
            "linecolor": "white",
            "ticks": ""
           },
           "bgcolor": "#E5ECF6",
           "caxis": {
            "gridcolor": "white",
            "linecolor": "white",
            "ticks": ""
           }
          },
          "title": {
           "x": 0.05
          },
          "xaxis": {
           "automargin": true,
           "gridcolor": "white",
           "linecolor": "white",
           "ticks": "",
           "title": {
            "standoff": 15
           },
           "zerolinecolor": "white",
           "zerolinewidth": 2
          },
          "yaxis": {
           "automargin": true,
           "gridcolor": "white",
           "linecolor": "white",
           "ticks": "",
           "title": {
            "standoff": 15
           },
           "zerolinecolor": "white",
           "zerolinewidth": 2
          }
         }
        },
        "title": {
         "text": "The number of hits in the Eurovision final"
        }
       }
      }
     },
     "metadata": {},
     "output_type": "display_data"
    }
   ],
   "source": [
    "# Список стран-участниц Евровидения (актуальные + исторические)\n",
    "eurovision_countries = [\n",
    "    'Albania', 'Armenia', 'Australia', 'Austria', 'Azerbaijan',\n",
    "    'Belarus', 'Belgium', 'Bulgaria', 'Croatia', 'Cyprus',\n",
    "    'Czech Republic', 'Denmark', 'Estonia', 'Finland', 'France',\n",
    "    'Georgia', 'Germany', 'Greece', 'Hungary', 'Iceland',\n",
    "    'Ireland', 'Israel', 'Italy', 'Latvia', 'Lithuania',\n",
    "    'Malta', 'Moldova', 'Montenegro', 'Netherlands', 'North Macedonia',\n",
    "    'Norway', 'Poland', 'Portugal', 'Romania', 'Russia',\n",
    "    'San Marino', 'Serbia', 'Slovenia', 'Spain', 'Sweden',\n",
    "    'Switzerland', 'Turkey', 'Ukraine', 'United Kingdom'\n",
    "]\n",
    "\n",
    "def prepare_data(df):\n",
    "    # Фильтруем только страны Евровидения\n",
    "    df = df[df['country'].isin(eurovision_countries)]\n",
    "\n",
    "    # Считаем количество финалов\n",
    "    df_finals = df.dropna(subset=['final_place'])\n",
    "    country_counts = df_finals['country'].value_counts().reset_index()\n",
    "    country_counts.columns = ['country', 'final_participations']\n",
    "\n",
    "    return country_counts\n",
    "\n",
    "# Создание карты с фокусом на Евразию\n",
    "def create_map(data):\n",
    "    fig = px.choropleth(\n",
    "        data,\n",
    "        locations=\"country\",\n",
    "        locationmode=\"country names\",\n",
    "        color=\"final_participations\",\n",
    "        hover_name=\"country\",\n",
    "        hover_data=[\"final_participations\"],\n",
    "        projection=\"natural earth\",\n",
    "        color_continuous_scale=px.colors.sequential.Plasma,\n",
    "        title=\"The number of hits in the Eurovision final\",\n",
    "        scope=\"world\"\n",
    "    )\n",
    "\n",
    "    # Настраиваем область просмотра (Европа + Ближний Восток + Кавказ + Австралия)\n",
    "    fig.update_geos(\n",
    "        visible=False,\n",
    "        center=dict(lon=35, lat=50),\n",
    "        projection_scale=2.3,\n",
    "        lataxis_range=[30, 70],\n",
    "        lonaxis_range=[-20, 60]\n",
    "    )\n",
    "\n",
    "    fig.update_layout(\n",
    "        margin=dict(l=0, r=0, t=40, b=0),\n",
    "        coloraxis_colorbar=dict(title=\"Final's number\")\n",
    "    )\n",
    "\n",
    "    return fig\n",
    "\n",
    "# Запуск\n",
    "country_data = prepare_data(df)\n",
    "map_fig = create_map(country_data)\n",
    "map_fig.show()"
   ]
  },
  {
   "cell_type": "markdown",
   "metadata": {
    "id": "3Dr2vyh_rexc"
   },
   "source": [
    "Можно заметить, что ни одна из старн южной и северной Америки и Африки не попадала в финал. А тот кусочек, что дислоцируется на севере южной Америики, принадлежит Франции."
   ]
  },
  {
   "cell_type": "markdown",
   "metadata": {
    "id": "hTDDzJsowsSM"
   },
   "source": [
    "## Задание 10"
   ]
  },
  {
   "cell_type": "markdown",
   "metadata": {
    "id": "iKK72qBPwsSN"
   },
   "source": [
    "Покажите на диаграмме вида `treemap`, сколько раз каждая страна входила в топ-3 победителей.\n",
    "\n",
    "*В `seaborn` нет такого типа графика, с помощью этого модуля строить график не нужно.*"
   ]
  },
  {
   "cell_type": "code",
   "execution_count": 14,
   "metadata": {
    "colab": {
     "base_uri": "https://localhost:8080/",
     "height": 617
    },
    "id": "0vfJY30GwsSN",
    "outputId": "e9ce9502-3f13-4148-a17e-6bf1f24c0cb0"
   },
   "outputs": [
    {
     "data": {
      "application/vnd.plotly.v1+json": {
       "config": {
        "plotlyServerURL": "https://plot.ly"
       },
       "data": [
        {
         "branchvalues": "total",
         "customdata": {
          "bdata": "AAAAAAAAFEAAAAAAAAAQQAAAAAAAABBAAAAAAAAACEAAAAAAAAAIQAAAAAAAAABAAAAAAAAAAEAAAAAAAAAAQAAAAAAAAPA/AAAAAAAA8D8AAAAAAADwPwAAAAAAAPA/AAAAAAAA8D8AAAAAAADwPwAAAAAAAPA/AAAAAAAA8D8AAAAAAADwPwAAAAAAAPA/AAAAAAAA8D8AAAAAAADwPwAAAAAAAPA/AAAAAAAA8D8AAAAAAADwPwAAAAAAAPA/AAAAAAAA8D8=",
          "dtype": "f8",
          "shape": "25, 1"
         },
         "domain": {
          "x": [
           0,
           1
          ],
          "y": [
           0,
           1
          ]
         },
         "hovertemplate": "<b>%{label}</b><br>Топ-3: %{value} раз",
         "ids": [
          "Sweden",
          "Italy",
          "Russia",
          "Azerbaijan",
          "Ukraine",
          "Netherlands",
          "Austria",
          "Israel",
          "Finland",
          "France",
          "Switzerland",
          "United Kingdom",
          "Spain",
          "Portugal",
          "Moldova",
          "Bulgaria",
          "Cyprus",
          "Australia",
          "Denmark",
          "Serbia",
          "Romania",
          "Turkey",
          "Germany",
          "Iceland",
          "Norway"
         ],
         "labels": [
          "Sweden",
          "Italy",
          "Russia",
          "Azerbaijan",
          "Ukraine",
          "Netherlands",
          "Austria",
          "Israel",
          "Finland",
          "France",
          "Switzerland",
          "United Kingdom",
          "Spain",
          "Portugal",
          "Moldova",
          "Bulgaria",
          "Cyprus",
          "Australia",
          "Denmark",
          "Serbia",
          "Romania",
          "Turkey",
          "Germany",
          "Iceland",
          "Norway"
         ],
         "marker": {
          "coloraxis": "coloraxis",
          "colors": {
           "bdata": "AAAAAAAAFEAAAAAAAAAQQAAAAAAAABBAAAAAAAAACEAAAAAAAAAIQAAAAAAAAABAAAAAAAAAAEAAAAAAAAAAQAAAAAAAAPA/AAAAAAAA8D8AAAAAAADwPwAAAAAAAPA/AAAAAAAA8D8AAAAAAADwPwAAAAAAAPA/AAAAAAAA8D8AAAAAAADwPwAAAAAAAPA/AAAAAAAA8D8AAAAAAADwPwAAAAAAAPA/AAAAAAAA8D8AAAAAAADwPwAAAAAAAPA/AAAAAAAA8D8=",
           "dtype": "f8"
          }
         },
         "name": "",
         "parents": [
          "",
          "",
          "",
          "",
          "",
          "",
          "",
          "",
          "",
          "",
          "",
          "",
          "",
          "",
          "",
          "",
          "",
          "",
          "",
          "",
          "",
          "",
          "",
          "",
          ""
         ],
         "textinfo": "label+value",
         "texttemplate": "<b>%{label}</b><br>%{value} раз",
         "type": "treemap",
         "values": {
          "bdata": "AAAAAAAAFEAAAAAAAAAQQAAAAAAAABBAAAAAAAAACEAAAAAAAAAIQAAAAAAAAABAAAAAAAAAAEAAAAAAAAAAQAAAAAAAAPA/AAAAAAAA8D8AAAAAAADwPwAAAAAAAPA/AAAAAAAA8D8AAAAAAADwPwAAAAAAAPA/AAAAAAAA8D8AAAAAAADwPwAAAAAAAPA/AAAAAAAA8D8AAAAAAADwPwAAAAAAAPA/AAAAAAAA8D8AAAAAAADwPwAAAAAAAPA/AAAAAAAA8D8=",
          "dtype": "f8"
         }
        }
       ],
       "layout": {
        "coloraxis": {
         "colorbar": {
          "title": {
           "text": "Number of times"
          }
         },
         "colorscale": [
          [
           0,
           "rgb(255,255,255)"
          ],
          [
           0.125,
           "rgb(240,240,240)"
          ],
          [
           0.25,
           "rgb(217,217,217)"
          ],
          [
           0.375,
           "rgb(189,189,189)"
          ],
          [
           0.5,
           "rgb(150,150,150)"
          ],
          [
           0.625,
           "rgb(115,115,115)"
          ],
          [
           0.75,
           "rgb(82,82,82)"
          ],
          [
           0.875,
           "rgb(37,37,37)"
          ],
          [
           1,
           "rgb(0,0,0)"
          ]
         ]
        },
        "height": 600,
        "legend": {
         "tracegroupgap": 0
        },
        "margin": {
         "b": 10,
         "l": 10,
         "r": 10,
         "t": 50
        },
        "template": {
         "data": {
          "bar": [
           {
            "error_x": {
             "color": "#2a3f5f"
            },
            "error_y": {
             "color": "#2a3f5f"
            },
            "marker": {
             "line": {
              "color": "#E5ECF6",
              "width": 0.5
             },
             "pattern": {
              "fillmode": "overlay",
              "size": 10,
              "solidity": 0.2
             }
            },
            "type": "bar"
           }
          ],
          "barpolar": [
           {
            "marker": {
             "line": {
              "color": "#E5ECF6",
              "width": 0.5
             },
             "pattern": {
              "fillmode": "overlay",
              "size": 10,
              "solidity": 0.2
             }
            },
            "type": "barpolar"
           }
          ],
          "carpet": [
           {
            "aaxis": {
             "endlinecolor": "#2a3f5f",
             "gridcolor": "white",
             "linecolor": "white",
             "minorgridcolor": "white",
             "startlinecolor": "#2a3f5f"
            },
            "baxis": {
             "endlinecolor": "#2a3f5f",
             "gridcolor": "white",
             "linecolor": "white",
             "minorgridcolor": "white",
             "startlinecolor": "#2a3f5f"
            },
            "type": "carpet"
           }
          ],
          "choropleth": [
           {
            "colorbar": {
             "outlinewidth": 0,
             "ticks": ""
            },
            "type": "choropleth"
           }
          ],
          "contour": [
           {
            "colorbar": {
             "outlinewidth": 0,
             "ticks": ""
            },
            "colorscale": [
             [
              0,
              "#0d0887"
             ],
             [
              0.1111111111111111,
              "#46039f"
             ],
             [
              0.2222222222222222,
              "#7201a8"
             ],
             [
              0.3333333333333333,
              "#9c179e"
             ],
             [
              0.4444444444444444,
              "#bd3786"
             ],
             [
              0.5555555555555556,
              "#d8576b"
             ],
             [
              0.6666666666666666,
              "#ed7953"
             ],
             [
              0.7777777777777778,
              "#fb9f3a"
             ],
             [
              0.8888888888888888,
              "#fdca26"
             ],
             [
              1,
              "#f0f921"
             ]
            ],
            "type": "contour"
           }
          ],
          "contourcarpet": [
           {
            "colorbar": {
             "outlinewidth": 0,
             "ticks": ""
            },
            "type": "contourcarpet"
           }
          ],
          "heatmap": [
           {
            "colorbar": {
             "outlinewidth": 0,
             "ticks": ""
            },
            "colorscale": [
             [
              0,
              "#0d0887"
             ],
             [
              0.1111111111111111,
              "#46039f"
             ],
             [
              0.2222222222222222,
              "#7201a8"
             ],
             [
              0.3333333333333333,
              "#9c179e"
             ],
             [
              0.4444444444444444,
              "#bd3786"
             ],
             [
              0.5555555555555556,
              "#d8576b"
             ],
             [
              0.6666666666666666,
              "#ed7953"
             ],
             [
              0.7777777777777778,
              "#fb9f3a"
             ],
             [
              0.8888888888888888,
              "#fdca26"
             ],
             [
              1,
              "#f0f921"
             ]
            ],
            "type": "heatmap"
           }
          ],
          "histogram": [
           {
            "marker": {
             "pattern": {
              "fillmode": "overlay",
              "size": 10,
              "solidity": 0.2
             }
            },
            "type": "histogram"
           }
          ],
          "histogram2d": [
           {
            "colorbar": {
             "outlinewidth": 0,
             "ticks": ""
            },
            "colorscale": [
             [
              0,
              "#0d0887"
             ],
             [
              0.1111111111111111,
              "#46039f"
             ],
             [
              0.2222222222222222,
              "#7201a8"
             ],
             [
              0.3333333333333333,
              "#9c179e"
             ],
             [
              0.4444444444444444,
              "#bd3786"
             ],
             [
              0.5555555555555556,
              "#d8576b"
             ],
             [
              0.6666666666666666,
              "#ed7953"
             ],
             [
              0.7777777777777778,
              "#fb9f3a"
             ],
             [
              0.8888888888888888,
              "#fdca26"
             ],
             [
              1,
              "#f0f921"
             ]
            ],
            "type": "histogram2d"
           }
          ],
          "histogram2dcontour": [
           {
            "colorbar": {
             "outlinewidth": 0,
             "ticks": ""
            },
            "colorscale": [
             [
              0,
              "#0d0887"
             ],
             [
              0.1111111111111111,
              "#46039f"
             ],
             [
              0.2222222222222222,
              "#7201a8"
             ],
             [
              0.3333333333333333,
              "#9c179e"
             ],
             [
              0.4444444444444444,
              "#bd3786"
             ],
             [
              0.5555555555555556,
              "#d8576b"
             ],
             [
              0.6666666666666666,
              "#ed7953"
             ],
             [
              0.7777777777777778,
              "#fb9f3a"
             ],
             [
              0.8888888888888888,
              "#fdca26"
             ],
             [
              1,
              "#f0f921"
             ]
            ],
            "type": "histogram2dcontour"
           }
          ],
          "mesh3d": [
           {
            "colorbar": {
             "outlinewidth": 0,
             "ticks": ""
            },
            "type": "mesh3d"
           }
          ],
          "parcoords": [
           {
            "line": {
             "colorbar": {
              "outlinewidth": 0,
              "ticks": ""
             }
            },
            "type": "parcoords"
           }
          ],
          "pie": [
           {
            "automargin": true,
            "type": "pie"
           }
          ],
          "scatter": [
           {
            "fillpattern": {
             "fillmode": "overlay",
             "size": 10,
             "solidity": 0.2
            },
            "type": "scatter"
           }
          ],
          "scatter3d": [
           {
            "line": {
             "colorbar": {
              "outlinewidth": 0,
              "ticks": ""
             }
            },
            "marker": {
             "colorbar": {
              "outlinewidth": 0,
              "ticks": ""
             }
            },
            "type": "scatter3d"
           }
          ],
          "scattercarpet": [
           {
            "marker": {
             "colorbar": {
              "outlinewidth": 0,
              "ticks": ""
             }
            },
            "type": "scattercarpet"
           }
          ],
          "scattergeo": [
           {
            "marker": {
             "colorbar": {
              "outlinewidth": 0,
              "ticks": ""
             }
            },
            "type": "scattergeo"
           }
          ],
          "scattergl": [
           {
            "marker": {
             "colorbar": {
              "outlinewidth": 0,
              "ticks": ""
             }
            },
            "type": "scattergl"
           }
          ],
          "scattermap": [
           {
            "marker": {
             "colorbar": {
              "outlinewidth": 0,
              "ticks": ""
             }
            },
            "type": "scattermap"
           }
          ],
          "scattermapbox": [
           {
            "marker": {
             "colorbar": {
              "outlinewidth": 0,
              "ticks": ""
             }
            },
            "type": "scattermapbox"
           }
          ],
          "scatterpolar": [
           {
            "marker": {
             "colorbar": {
              "outlinewidth": 0,
              "ticks": ""
             }
            },
            "type": "scatterpolar"
           }
          ],
          "scatterpolargl": [
           {
            "marker": {
             "colorbar": {
              "outlinewidth": 0,
              "ticks": ""
             }
            },
            "type": "scatterpolargl"
           }
          ],
          "scatterternary": [
           {
            "marker": {
             "colorbar": {
              "outlinewidth": 0,
              "ticks": ""
             }
            },
            "type": "scatterternary"
           }
          ],
          "surface": [
           {
            "colorbar": {
             "outlinewidth": 0,
             "ticks": ""
            },
            "colorscale": [
             [
              0,
              "#0d0887"
             ],
             [
              0.1111111111111111,
              "#46039f"
             ],
             [
              0.2222222222222222,
              "#7201a8"
             ],
             [
              0.3333333333333333,
              "#9c179e"
             ],
             [
              0.4444444444444444,
              "#bd3786"
             ],
             [
              0.5555555555555556,
              "#d8576b"
             ],
             [
              0.6666666666666666,
              "#ed7953"
             ],
             [
              0.7777777777777778,
              "#fb9f3a"
             ],
             [
              0.8888888888888888,
              "#fdca26"
             ],
             [
              1,
              "#f0f921"
             ]
            ],
            "type": "surface"
           }
          ],
          "table": [
           {
            "cells": {
             "fill": {
              "color": "#EBF0F8"
             },
             "line": {
              "color": "white"
             }
            },
            "header": {
             "fill": {
              "color": "#C8D4E3"
             },
             "line": {
              "color": "white"
             }
            },
            "type": "table"
           }
          ]
         },
         "layout": {
          "annotationdefaults": {
           "arrowcolor": "#2a3f5f",
           "arrowhead": 0,
           "arrowwidth": 1
          },
          "autotypenumbers": "strict",
          "coloraxis": {
           "colorbar": {
            "outlinewidth": 0,
            "ticks": ""
           }
          },
          "colorscale": {
           "diverging": [
            [
             0,
             "#8e0152"
            ],
            [
             0.1,
             "#c51b7d"
            ],
            [
             0.2,
             "#de77ae"
            ],
            [
             0.3,
             "#f1b6da"
            ],
            [
             0.4,
             "#fde0ef"
            ],
            [
             0.5,
             "#f7f7f7"
            ],
            [
             0.6,
             "#e6f5d0"
            ],
            [
             0.7,
             "#b8e186"
            ],
            [
             0.8,
             "#7fbc41"
            ],
            [
             0.9,
             "#4d9221"
            ],
            [
             1,
             "#276419"
            ]
           ],
           "sequential": [
            [
             0,
             "#0d0887"
            ],
            [
             0.1111111111111111,
             "#46039f"
            ],
            [
             0.2222222222222222,
             "#7201a8"
            ],
            [
             0.3333333333333333,
             "#9c179e"
            ],
            [
             0.4444444444444444,
             "#bd3786"
            ],
            [
             0.5555555555555556,
             "#d8576b"
            ],
            [
             0.6666666666666666,
             "#ed7953"
            ],
            [
             0.7777777777777778,
             "#fb9f3a"
            ],
            [
             0.8888888888888888,
             "#fdca26"
            ],
            [
             1,
             "#f0f921"
            ]
           ],
           "sequentialminus": [
            [
             0,
             "#0d0887"
            ],
            [
             0.1111111111111111,
             "#46039f"
            ],
            [
             0.2222222222222222,
             "#7201a8"
            ],
            [
             0.3333333333333333,
             "#9c179e"
            ],
            [
             0.4444444444444444,
             "#bd3786"
            ],
            [
             0.5555555555555556,
             "#d8576b"
            ],
            [
             0.6666666666666666,
             "#ed7953"
            ],
            [
             0.7777777777777778,
             "#fb9f3a"
            ],
            [
             0.8888888888888888,
             "#fdca26"
            ],
            [
             1,
             "#f0f921"
            ]
           ]
          },
          "colorway": [
           "#636efa",
           "#EF553B",
           "#00cc96",
           "#ab63fa",
           "#FFA15A",
           "#19d3f3",
           "#FF6692",
           "#B6E880",
           "#FF97FF",
           "#FECB52"
          ],
          "font": {
           "color": "#2a3f5f"
          },
          "geo": {
           "bgcolor": "white",
           "lakecolor": "white",
           "landcolor": "#E5ECF6",
           "showlakes": true,
           "showland": true,
           "subunitcolor": "white"
          },
          "hoverlabel": {
           "align": "left"
          },
          "hovermode": "closest",
          "mapbox": {
           "style": "light"
          },
          "paper_bgcolor": "white",
          "plot_bgcolor": "#E5ECF6",
          "polar": {
           "angularaxis": {
            "gridcolor": "white",
            "linecolor": "white",
            "ticks": ""
           },
           "bgcolor": "#E5ECF6",
           "radialaxis": {
            "gridcolor": "white",
            "linecolor": "white",
            "ticks": ""
           }
          },
          "scene": {
           "xaxis": {
            "backgroundcolor": "#E5ECF6",
            "gridcolor": "white",
            "gridwidth": 2,
            "linecolor": "white",
            "showbackground": true,
            "ticks": "",
            "zerolinecolor": "white"
           },
           "yaxis": {
            "backgroundcolor": "#E5ECF6",
            "gridcolor": "white",
            "gridwidth": 2,
            "linecolor": "white",
            "showbackground": true,
            "ticks": "",
            "zerolinecolor": "white"
           },
           "zaxis": {
            "backgroundcolor": "#E5ECF6",
            "gridcolor": "white",
            "gridwidth": 2,
            "linecolor": "white",
            "showbackground": true,
            "ticks": "",
            "zerolinecolor": "white"
           }
          },
          "shapedefaults": {
           "line": {
            "color": "#2a3f5f"
           }
          },
          "ternary": {
           "aaxis": {
            "gridcolor": "white",
            "linecolor": "white",
            "ticks": ""
           },
           "baxis": {
            "gridcolor": "white",
            "linecolor": "white",
            "ticks": ""
           },
           "bgcolor": "#E5ECF6",
           "caxis": {
            "gridcolor": "white",
            "linecolor": "white",
            "ticks": ""
           }
          },
          "title": {
           "x": 0.05
          },
          "xaxis": {
           "automargin": true,
           "gridcolor": "white",
           "linecolor": "white",
           "ticks": "",
           "title": {
            "standoff": 15
           },
           "zerolinecolor": "white",
           "zerolinewidth": 2
          },
          "yaxis": {
           "automargin": true,
           "gridcolor": "white",
           "linecolor": "white",
           "ticks": "",
           "title": {
            "standoff": 15
           },
           "zerolinecolor": "white",
           "zerolinewidth": 2
          }
         }
        },
        "title": {
         "text": "<b>number of hits in the top 3 of Eurovision</b>"
        }
       }
      }
     },
     "metadata": {},
     "output_type": "display_data"
    }
   ],
   "source": [
    "import pandas as pd\n",
    "import plotly.express as px\n",
    "\n",
    "def prepare_data(df):\n",
    "    # Фильтруем только топ-3 места\n",
    "    df_top3 = df[df['final_place'].isin([1, 2, 3])]\n",
    "    # Считаем количество попаданий для каждой страны\n",
    "    return df_top3['country'].value_counts().reset_index(name='top3_count')\n",
    "\n",
    "def create_treemap(data):\n",
    "    fig = px.treemap(\n",
    "        data,\n",
    "        path=['country'],\n",
    "        values='top3_count',\n",
    "        color='top3_count',\n",
    "        color_continuous_scale='Greys',\n",
    "        title='<b>number of hits in the top 3 of Eurovision</b>',\n",
    "        labels={'top3_count': 'Number of times'}\n",
    "    )\n",
    "\n",
    "    fig.update_traces(\n",
    "        textinfo=\"label+value\",\n",
    "        texttemplate=\"<b>%{label}</b><br>%{value} раз\",\n",
    "        hovertemplate=\"<b>%{label}</b><br>Топ-3: %{value} раз\"\n",
    "    )\n",
    "\n",
    "    fig.update_layout(\n",
    "        margin=dict(t=50, l=10, r=10, b=10),\n",
    "        height=600\n",
    "    )\n",
    "\n",
    "    return fig\n",
    "\n",
    "top3_data = prepare_data(df)\n",
    "fig = create_treemap(top3_data)\n",
    "fig.show()"
   ]
  },
  {
   "cell_type": "markdown",
   "metadata": {
    "id": "CYHnw0U2vkWE"
   },
   "source": [
    "Можно заметить, что тройка лидеров финалистов не сильно отличается от тройки лидеров призеров, но все таки тут первое место занимает Швеция, а не Турция. На это еще влияет факт неучастия Турции с 2012 года"
   ]
  }
 ],
 "metadata": {
  "colab": {
   "provenance": []
  },
  "kernelspec": {
   "display_name": "Python 3",
   "name": "python3"
  },
  "language_info": {
   "codemirror_mode": {
    "name": "ipython",
    "version": 3
   },
   "file_extension": ".py",
   "mimetype": "text/x-python",
   "name": "python",
   "nbconvert_exporter": "python",
   "pygments_lexer": "ipython3",
   "version": "3.13.1"
  }
 },
 "nbformat": 4,
 "nbformat_minor": 0
}
